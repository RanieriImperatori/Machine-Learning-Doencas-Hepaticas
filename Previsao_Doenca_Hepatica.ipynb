{
 "cells": [
  {
   "attachments": {},
   "cell_type": "markdown",
   "id": "0d393936",
   "metadata": {},
   "source": [
    "# Previsão de Doenças Hepáticas"
   ]
  },
  {
   "attachments": {},
   "cell_type": "markdown",
   "id": "e88f41c4",
   "metadata": {},
   "source": [
    "Este mini-projeto tem como objetivo, construir um modelo de Machine Learning capaz de prever se um paciente vai ou não, desenvolver uma doença hepática com base em diversas características do paciente. Este modelo pode ajudar médicos, hospitais ou governos a planejar melhor o orçamento de gastos de saúde ou mesmo criar políticas de prevenção."
   ]
  },
  {
   "cell_type": "code",
   "execution_count": 162,
   "id": "3c79b5c2",
   "metadata": {},
   "outputs": [],
   "source": [
    "#imports\n",
    "\n",
    "import joblib #para salvar modelos em disco\n",
    "import pickle #para salvar modelos em disco\n",
    "import numpy as np\n",
    "import pandas as pd\n",
    "import seaborn as sns\n",
    "from matplotlib import pyplot as plt\n",
    "from sklearn.model_selection import train_test_split\n",
    "from sklearn.model_selection import GridSearchCV #Otimização de hiperparâmetros\n",
    "from sklearn.model_selection import cross_val_score #validação cruzada\n",
    "from sklearn.model_selection import RandomizedSearchCV #Otmizaçao de hiperparâmetros\n",
    "from sklearn.linear_model import LogisticRegression\n",
    "from sklearn.ensemble import RandomForestClassifier\n",
    "from sklearn.neighbors import KNeighborsClassifier\n",
    "from sklearn.tree import DecisionTreeClassifier\n",
    "from sklearn.svm import SVC\n",
    "from sklearn.metrics import roc_curve, auc, roc_auc_score, confusion_matrix\n",
    "from sklearn.metrics import accuracy_score\n",
    "%matplotlib inline\n",
    "import warnings\n",
    "warnings.filterwarnings(\"ignore\")"
   ]
  },
  {
   "attachments": {},
   "cell_type": "markdown",
   "id": "6d2236ff",
   "metadata": {},
   "source": [
    "## **1- Importando a Base de Dados**"
   ]
  },
  {
   "attachments": {},
   "cell_type": "markdown",
   "id": "7ee4641d",
   "metadata": {},
   "source": [
    "Os dados que vamos trabalhar neste estudo, foram coletados no nordeste de Andhra Pradesh, na Índia. Contém 416 registros de pacientes hepáticos e 167 registros de pacientes não hepáticos."
   ]
  },
  {
   "cell_type": "code",
   "execution_count": 163,
   "id": "c2ccf6d0",
   "metadata": {},
   "outputs": [],
   "source": [
    "dados = pd.read_csv('dados/dataset.csv')"
   ]
  },
  {
   "cell_type": "code",
   "execution_count": 164,
   "id": "a6910f10",
   "metadata": {},
   "outputs": [
    {
     "data": {
      "text/plain": [
       "(583, 11)"
      ]
     },
     "execution_count": 164,
     "metadata": {},
     "output_type": "execute_result"
    }
   ],
   "source": [
    "# Shape\n",
    "dados.shape"
   ]
  },
  {
   "attachments": {},
   "cell_type": "markdown",
   "id": "11f90f0b",
   "metadata": {},
   "source": [
    "Temos 583 linhas (pacientes) e 11 colunas (variáveis)."
   ]
  },
  {
   "cell_type": "code",
   "execution_count": 165,
   "id": "37bb86c8",
   "metadata": {},
   "outputs": [
    {
     "data": {
      "text/plain": [
       "Index(['Age', 'Gender', 'Total_Bilirubin', 'Direct_Bilirubin',\n",
       "       'Alkaline_Phosphotase', 'Alamine_Aminotransferase',\n",
       "       'Aspartate_Aminotransferase', 'Total_Protiens', 'Albumin',\n",
       "       'Albumin_and_Globulin_Ratio', 'Dataset'],\n",
       "      dtype='object')"
      ]
     },
     "execution_count": 165,
     "metadata": {},
     "output_type": "execute_result"
    }
   ],
   "source": [
    "# Variáveis\n",
    "dados.columns"
   ]
  },
  {
   "attachments": {},
   "cell_type": "markdown",
   "id": "4ab2e412",
   "metadata": {},
   "source": [
    "Informações das Variáveis:\n",
    "\n",
    "1. Age of the patient\n",
    "2. Gender of the patient\n",
    "3. otal Bilirubin\n",
    "4. Direct Bilirubin\n",
    "5. Alkaline Phosphotase\n",
    "6. Alamine Aminotransferase\n",
    "7. Aspartate Aminotransferase\n",
    "8. Total Protiens\n",
    "9. Albumin\n",
    "10. Albumin and Globulin Ratio\n",
    "11. Dataset: variável que rotula os pacientes como hepáticos ou não (rotulado pelos especialistas)."
   ]
  },
  {
   "cell_type": "code",
   "execution_count": 166,
   "id": "9163a7eb",
   "metadata": {},
   "outputs": [
    {
     "data": {
      "text/html": [
       "<div>\n",
       "<style scoped>\n",
       "    .dataframe tbody tr th:only-of-type {\n",
       "        vertical-align: middle;\n",
       "    }\n",
       "\n",
       "    .dataframe tbody tr th {\n",
       "        vertical-align: top;\n",
       "    }\n",
       "\n",
       "    .dataframe thead th {\n",
       "        text-align: right;\n",
       "    }\n",
       "</style>\n",
       "<table border=\"1\" class=\"dataframe\">\n",
       "  <thead>\n",
       "    <tr style=\"text-align: right;\">\n",
       "      <th></th>\n",
       "      <th>Age</th>\n",
       "      <th>Gender</th>\n",
       "      <th>Total_Bilirubin</th>\n",
       "      <th>Direct_Bilirubin</th>\n",
       "      <th>Alkaline_Phosphotase</th>\n",
       "      <th>Alamine_Aminotransferase</th>\n",
       "      <th>Aspartate_Aminotransferase</th>\n",
       "      <th>Total_Protiens</th>\n",
       "      <th>Albumin</th>\n",
       "      <th>Albumin_and_Globulin_Ratio</th>\n",
       "      <th>Dataset</th>\n",
       "    </tr>\n",
       "  </thead>\n",
       "  <tbody>\n",
       "    <tr>\n",
       "      <th>405</th>\n",
       "      <td>31</td>\n",
       "      <td>Female</td>\n",
       "      <td>0.8</td>\n",
       "      <td>0.2</td>\n",
       "      <td>215</td>\n",
       "      <td>15</td>\n",
       "      <td>21</td>\n",
       "      <td>7.6</td>\n",
       "      <td>4.0</td>\n",
       "      <td>1.10</td>\n",
       "      <td>1</td>\n",
       "    </tr>\n",
       "    <tr>\n",
       "      <th>83</th>\n",
       "      <td>33</td>\n",
       "      <td>Male</td>\n",
       "      <td>2.0</td>\n",
       "      <td>1.0</td>\n",
       "      <td>258</td>\n",
       "      <td>194</td>\n",
       "      <td>152</td>\n",
       "      <td>5.4</td>\n",
       "      <td>3.0</td>\n",
       "      <td>1.25</td>\n",
       "      <td>1</td>\n",
       "    </tr>\n",
       "    <tr>\n",
       "      <th>258</th>\n",
       "      <td>36</td>\n",
       "      <td>Male</td>\n",
       "      <td>0.8</td>\n",
       "      <td>0.2</td>\n",
       "      <td>182</td>\n",
       "      <td>31</td>\n",
       "      <td>34</td>\n",
       "      <td>6.4</td>\n",
       "      <td>3.8</td>\n",
       "      <td>1.40</td>\n",
       "      <td>2</td>\n",
       "    </tr>\n",
       "    <tr>\n",
       "      <th>84</th>\n",
       "      <td>32</td>\n",
       "      <td>Male</td>\n",
       "      <td>0.6</td>\n",
       "      <td>0.1</td>\n",
       "      <td>237</td>\n",
       "      <td>45</td>\n",
       "      <td>31</td>\n",
       "      <td>7.5</td>\n",
       "      <td>4.3</td>\n",
       "      <td>1.34</td>\n",
       "      <td>1</td>\n",
       "    </tr>\n",
       "    <tr>\n",
       "      <th>231</th>\n",
       "      <td>61</td>\n",
       "      <td>Male</td>\n",
       "      <td>0.8</td>\n",
       "      <td>0.1</td>\n",
       "      <td>282</td>\n",
       "      <td>85</td>\n",
       "      <td>231</td>\n",
       "      <td>8.5</td>\n",
       "      <td>4.3</td>\n",
       "      <td>1.00</td>\n",
       "      <td>1</td>\n",
       "    </tr>\n",
       "    <tr>\n",
       "      <th>459</th>\n",
       "      <td>65</td>\n",
       "      <td>Male</td>\n",
       "      <td>1.1</td>\n",
       "      <td>0.5</td>\n",
       "      <td>686</td>\n",
       "      <td>16</td>\n",
       "      <td>46</td>\n",
       "      <td>5.7</td>\n",
       "      <td>1.5</td>\n",
       "      <td>0.35</td>\n",
       "      <td>1</td>\n",
       "    </tr>\n",
       "    <tr>\n",
       "      <th>289</th>\n",
       "      <td>57</td>\n",
       "      <td>Male</td>\n",
       "      <td>4.5</td>\n",
       "      <td>2.3</td>\n",
       "      <td>315</td>\n",
       "      <td>120</td>\n",
       "      <td>105</td>\n",
       "      <td>7.0</td>\n",
       "      <td>4.0</td>\n",
       "      <td>1.30</td>\n",
       "      <td>1</td>\n",
       "    </tr>\n",
       "    <tr>\n",
       "      <th>223</th>\n",
       "      <td>50</td>\n",
       "      <td>Male</td>\n",
       "      <td>1.1</td>\n",
       "      <td>0.3</td>\n",
       "      <td>175</td>\n",
       "      <td>20</td>\n",
       "      <td>19</td>\n",
       "      <td>7.1</td>\n",
       "      <td>4.5</td>\n",
       "      <td>1.70</td>\n",
       "      <td>2</td>\n",
       "    </tr>\n",
       "    <tr>\n",
       "      <th>64</th>\n",
       "      <td>57</td>\n",
       "      <td>Male</td>\n",
       "      <td>1.3</td>\n",
       "      <td>0.4</td>\n",
       "      <td>259</td>\n",
       "      <td>40</td>\n",
       "      <td>86</td>\n",
       "      <td>6.5</td>\n",
       "      <td>2.5</td>\n",
       "      <td>0.60</td>\n",
       "      <td>1</td>\n",
       "    </tr>\n",
       "    <tr>\n",
       "      <th>466</th>\n",
       "      <td>28</td>\n",
       "      <td>Female</td>\n",
       "      <td>0.6</td>\n",
       "      <td>0.1</td>\n",
       "      <td>137</td>\n",
       "      <td>22</td>\n",
       "      <td>16</td>\n",
       "      <td>4.9</td>\n",
       "      <td>1.9</td>\n",
       "      <td>0.60</td>\n",
       "      <td>2</td>\n",
       "    </tr>\n",
       "  </tbody>\n",
       "</table>\n",
       "</div>"
      ],
      "text/plain": [
       "     Age  Gender  Total_Bilirubin  Direct_Bilirubin  Alkaline_Phosphotase  \\\n",
       "405   31  Female              0.8               0.2                   215   \n",
       "83    33    Male              2.0               1.0                   258   \n",
       "258   36    Male              0.8               0.2                   182   \n",
       "84    32    Male              0.6               0.1                   237   \n",
       "231   61    Male              0.8               0.1                   282   \n",
       "459   65    Male              1.1               0.5                   686   \n",
       "289   57    Male              4.5               2.3                   315   \n",
       "223   50    Male              1.1               0.3                   175   \n",
       "64    57    Male              1.3               0.4                   259   \n",
       "466   28  Female              0.6               0.1                   137   \n",
       "\n",
       "     Alamine_Aminotransferase  Aspartate_Aminotransferase  Total_Protiens  \\\n",
       "405                        15                          21             7.6   \n",
       "83                        194                         152             5.4   \n",
       "258                        31                          34             6.4   \n",
       "84                         45                          31             7.5   \n",
       "231                        85                         231             8.5   \n",
       "459                        16                          46             5.7   \n",
       "289                       120                         105             7.0   \n",
       "223                        20                          19             7.1   \n",
       "64                         40                          86             6.5   \n",
       "466                        22                          16             4.9   \n",
       "\n",
       "     Albumin  Albumin_and_Globulin_Ratio  Dataset  \n",
       "405      4.0                        1.10        1  \n",
       "83       3.0                        1.25        1  \n",
       "258      3.8                        1.40        2  \n",
       "84       4.3                        1.34        1  \n",
       "231      4.3                        1.00        1  \n",
       "459      1.5                        0.35        1  \n",
       "289      4.0                        1.30        1  \n",
       "223      4.5                        1.70        2  \n",
       "64       2.5                        0.60        1  \n",
       "466      1.9                        0.60        2  "
      ]
     },
     "execution_count": 166,
     "metadata": {},
     "output_type": "execute_result"
    }
   ],
   "source": [
    "# Amostra dos dados\n",
    "dados.sample(10)"
   ]
  },
  {
   "attachments": {},
   "cell_type": "markdown",
   "id": "584607a5",
   "metadata": {},
   "source": [
    "Inicialmente, podemos observar que temos apenas uma variávei categórica, que é o 'Gender' do paciente. A variávei target tem como título 'Dataset'."
   ]
  },
  {
   "attachments": {},
   "cell_type": "markdown",
   "id": "812fd0e0",
   "metadata": {},
   "source": [
    "## **2- Análise Exploratória dos Dados**"
   ]
  },
  {
   "cell_type": "code",
   "execution_count": 167,
   "id": "dcc5cfdb",
   "metadata": {},
   "outputs": [
    {
     "data": {
      "text/plain": [
       "Age                             int64\n",
       "Gender                         object\n",
       "Total_Bilirubin               float64\n",
       "Direct_Bilirubin              float64\n",
       "Alkaline_Phosphotase            int64\n",
       "Alamine_Aminotransferase        int64\n",
       "Aspartate_Aminotransferase      int64\n",
       "Total_Protiens                float64\n",
       "Albumin                       float64\n",
       "Albumin_and_Globulin_Ratio    float64\n",
       "Dataset                         int64\n",
       "dtype: object"
      ]
     },
     "execution_count": 167,
     "metadata": {},
     "output_type": "execute_result"
    }
   ],
   "source": [
    "dados.dtypes"
   ]
  },
  {
   "cell_type": "code",
   "execution_count": 168,
   "id": "ea63c96b",
   "metadata": {},
   "outputs": [
    {
     "data": {
      "text/plain": [
       "Gender    object\n",
       "dtype: object"
      ]
     },
     "execution_count": 168,
     "metadata": {},
     "output_type": "execute_result"
    }
   ],
   "source": [
    "# Variáveis categóricas\n",
    "dados.dtypes[dados.dtypes == 'object']"
   ]
  },
  {
   "cell_type": "code",
   "execution_count": 169,
   "id": "d4b62b83",
   "metadata": {},
   "outputs": [
    {
     "data": {
      "text/plain": [
       "Age                             int64\n",
       "Total_Bilirubin               float64\n",
       "Direct_Bilirubin              float64\n",
       "Alkaline_Phosphotase            int64\n",
       "Alamine_Aminotransferase        int64\n",
       "Aspartate_Aminotransferase      int64\n",
       "Total_Protiens                float64\n",
       "Albumin                       float64\n",
       "Albumin_and_Globulin_Ratio    float64\n",
       "Dataset                         int64\n",
       "dtype: object"
      ]
     },
     "execution_count": 169,
     "metadata": {},
     "output_type": "execute_result"
    }
   ],
   "source": [
    "# Variáveis não categóricas\n",
    "dados.dtypes[dados.dtypes != 'object']"
   ]
  },
  {
   "attachments": {},
   "cell_type": "markdown",
   "id": "3fb5f032",
   "metadata": {},
   "source": [
    "**Explorando as Variáveis Numéricas**"
   ]
  },
  {
   "cell_type": "code",
   "execution_count": 170,
   "id": "21b980b7",
   "metadata": {},
   "outputs": [
    {
     "data": {
      "text/html": [
       "<div>\n",
       "<style scoped>\n",
       "    .dataframe tbody tr th:only-of-type {\n",
       "        vertical-align: middle;\n",
       "    }\n",
       "\n",
       "    .dataframe tbody tr th {\n",
       "        vertical-align: top;\n",
       "    }\n",
       "\n",
       "    .dataframe thead th {\n",
       "        text-align: right;\n",
       "    }\n",
       "</style>\n",
       "<table border=\"1\" class=\"dataframe\">\n",
       "  <thead>\n",
       "    <tr style=\"text-align: right;\">\n",
       "      <th></th>\n",
       "      <th>Age</th>\n",
       "      <th>Total_Bilirubin</th>\n",
       "      <th>Direct_Bilirubin</th>\n",
       "      <th>Alkaline_Phosphotase</th>\n",
       "      <th>Alamine_Aminotransferase</th>\n",
       "      <th>Aspartate_Aminotransferase</th>\n",
       "      <th>Total_Protiens</th>\n",
       "      <th>Albumin</th>\n",
       "      <th>Albumin_and_Globulin_Ratio</th>\n",
       "      <th>Dataset</th>\n",
       "    </tr>\n",
       "  </thead>\n",
       "  <tbody>\n",
       "    <tr>\n",
       "      <th>count</th>\n",
       "      <td>583.000000</td>\n",
       "      <td>583.000000</td>\n",
       "      <td>583.000000</td>\n",
       "      <td>583.000000</td>\n",
       "      <td>583.000000</td>\n",
       "      <td>583.000000</td>\n",
       "      <td>583.000000</td>\n",
       "      <td>583.000000</td>\n",
       "      <td>579.000000</td>\n",
       "      <td>583.000000</td>\n",
       "    </tr>\n",
       "    <tr>\n",
       "      <th>mean</th>\n",
       "      <td>44.746141</td>\n",
       "      <td>3.298799</td>\n",
       "      <td>1.486106</td>\n",
       "      <td>290.576329</td>\n",
       "      <td>80.713551</td>\n",
       "      <td>109.910806</td>\n",
       "      <td>6.483190</td>\n",
       "      <td>3.141852</td>\n",
       "      <td>0.947064</td>\n",
       "      <td>1.286449</td>\n",
       "    </tr>\n",
       "    <tr>\n",
       "      <th>std</th>\n",
       "      <td>16.189833</td>\n",
       "      <td>6.209522</td>\n",
       "      <td>2.808498</td>\n",
       "      <td>242.937989</td>\n",
       "      <td>182.620356</td>\n",
       "      <td>288.918529</td>\n",
       "      <td>1.085451</td>\n",
       "      <td>0.795519</td>\n",
       "      <td>0.319592</td>\n",
       "      <td>0.452490</td>\n",
       "    </tr>\n",
       "    <tr>\n",
       "      <th>min</th>\n",
       "      <td>4.000000</td>\n",
       "      <td>0.400000</td>\n",
       "      <td>0.100000</td>\n",
       "      <td>63.000000</td>\n",
       "      <td>10.000000</td>\n",
       "      <td>10.000000</td>\n",
       "      <td>2.700000</td>\n",
       "      <td>0.900000</td>\n",
       "      <td>0.300000</td>\n",
       "      <td>1.000000</td>\n",
       "    </tr>\n",
       "    <tr>\n",
       "      <th>25%</th>\n",
       "      <td>33.000000</td>\n",
       "      <td>0.800000</td>\n",
       "      <td>0.200000</td>\n",
       "      <td>175.500000</td>\n",
       "      <td>23.000000</td>\n",
       "      <td>25.000000</td>\n",
       "      <td>5.800000</td>\n",
       "      <td>2.600000</td>\n",
       "      <td>0.700000</td>\n",
       "      <td>1.000000</td>\n",
       "    </tr>\n",
       "    <tr>\n",
       "      <th>50%</th>\n",
       "      <td>45.000000</td>\n",
       "      <td>1.000000</td>\n",
       "      <td>0.300000</td>\n",
       "      <td>208.000000</td>\n",
       "      <td>35.000000</td>\n",
       "      <td>42.000000</td>\n",
       "      <td>6.600000</td>\n",
       "      <td>3.100000</td>\n",
       "      <td>0.930000</td>\n",
       "      <td>1.000000</td>\n",
       "    </tr>\n",
       "    <tr>\n",
       "      <th>75%</th>\n",
       "      <td>58.000000</td>\n",
       "      <td>2.600000</td>\n",
       "      <td>1.300000</td>\n",
       "      <td>298.000000</td>\n",
       "      <td>60.500000</td>\n",
       "      <td>87.000000</td>\n",
       "      <td>7.200000</td>\n",
       "      <td>3.800000</td>\n",
       "      <td>1.100000</td>\n",
       "      <td>2.000000</td>\n",
       "    </tr>\n",
       "    <tr>\n",
       "      <th>max</th>\n",
       "      <td>90.000000</td>\n",
       "      <td>75.000000</td>\n",
       "      <td>19.700000</td>\n",
       "      <td>2110.000000</td>\n",
       "      <td>2000.000000</td>\n",
       "      <td>4929.000000</td>\n",
       "      <td>9.600000</td>\n",
       "      <td>5.500000</td>\n",
       "      <td>2.800000</td>\n",
       "      <td>2.000000</td>\n",
       "    </tr>\n",
       "  </tbody>\n",
       "</table>\n",
       "</div>"
      ],
      "text/plain": [
       "              Age  Total_Bilirubin  Direct_Bilirubin  Alkaline_Phosphotase  \\\n",
       "count  583.000000       583.000000        583.000000            583.000000   \n",
       "mean    44.746141         3.298799          1.486106            290.576329   \n",
       "std     16.189833         6.209522          2.808498            242.937989   \n",
       "min      4.000000         0.400000          0.100000             63.000000   \n",
       "25%     33.000000         0.800000          0.200000            175.500000   \n",
       "50%     45.000000         1.000000          0.300000            208.000000   \n",
       "75%     58.000000         2.600000          1.300000            298.000000   \n",
       "max     90.000000        75.000000         19.700000           2110.000000   \n",
       "\n",
       "       Alamine_Aminotransferase  Aspartate_Aminotransferase  Total_Protiens  \\\n",
       "count                583.000000                  583.000000      583.000000   \n",
       "mean                  80.713551                  109.910806        6.483190   \n",
       "std                  182.620356                  288.918529        1.085451   \n",
       "min                   10.000000                   10.000000        2.700000   \n",
       "25%                   23.000000                   25.000000        5.800000   \n",
       "50%                   35.000000                   42.000000        6.600000   \n",
       "75%                   60.500000                   87.000000        7.200000   \n",
       "max                 2000.000000                 4929.000000        9.600000   \n",
       "\n",
       "          Albumin  Albumin_and_Globulin_Ratio     Dataset  \n",
       "count  583.000000                  579.000000  583.000000  \n",
       "mean     3.141852                    0.947064    1.286449  \n",
       "std      0.795519                    0.319592    0.452490  \n",
       "min      0.900000                    0.300000    1.000000  \n",
       "25%      2.600000                    0.700000    1.000000  \n",
       "50%      3.100000                    0.930000    1.000000  \n",
       "75%      3.800000                    1.100000    2.000000  \n",
       "max      5.500000                    2.800000    2.000000  "
      ]
     },
     "execution_count": 170,
     "metadata": {},
     "output_type": "execute_result"
    }
   ],
   "source": [
    "dados.describe()"
   ]
  },
  {
   "cell_type": "code",
   "execution_count": 171,
   "id": "3431fa3b",
   "metadata": {},
   "outputs": [
    {
     "data": {
      "image/png": "[encoded data removed]",
      "text/plain": [
       "<Figure size 1500x1500 with 12 Axes>"
      ]
     },
     "metadata": {},
     "output_type": "display_data"
    }
   ],
   "source": [
    "dados.hist(figsize= (15,15), bins=10)\n",
    "plt.show()"
   ]
  },
  {
   "attachments": {},
   "cell_type": "markdown",
   "id": "f4610027",
   "metadata": {},
   "source": [
    "Podemos observar nos gráficos acima, que as variáveis Age, Total_Proteins e Albumin, aparentemente seguem uma distribuição normal ou bem próximo de uma normal. Além disso, podemos observar também, analisando os gráficos em conjunto com o \"describe\" anterior, que parece haver outliers nas variáveis **Alamine_Aminotransferase** e **Aspartate_Aminotransferase**, pois o valor máximo é muito maior que a média da variável!"
   ]
  },
  {
   "attachments": {},
   "cell_type": "markdown",
   "id": "8d2179b6",
   "metadata": {},
   "source": [
    "A variável Dataset, tem '1' para doença hepática e '2' para nenhuma doença hepática. Vamos ajustar a variável para valores mais fáceis de interpretar. Vamos ajustar para '1' possui doença hepática e '0' não possui doença hepática:"
   ]
  },
  {
   "cell_type": "code",
   "execution_count": 172,
   "id": "58c1fdf5",
   "metadata": {},
   "outputs": [],
   "source": [
    "def ajustar_dataset(x):\n",
    "    if x == 2:\n",
    "        return 0\n",
    "    return 1"
   ]
  },
  {
   "cell_type": "code",
   "execution_count": 173,
   "id": "0dc5bc1c",
   "metadata": {},
   "outputs": [],
   "source": [
    "#Aplicando a função\n",
    "dados['Dataset'] = dados['Dataset'].map(ajustar_dataset)"
   ]
  },
  {
   "cell_type": "code",
   "execution_count": 174,
   "id": "a33b3175",
   "metadata": {},
   "outputs": [],
   "source": [
    "#Ajustando o nome da variável target\n",
    "dados.rename({'Dataset' : 'Target'}, axis='columns', inplace=True)"
   ]
  },
  {
   "cell_type": "code",
   "execution_count": 175,
   "id": "33193734",
   "metadata": {},
   "outputs": [
    {
     "data": {
      "text/html": [
       "<div>\n",
       "<style scoped>\n",
       "    .dataframe tbody tr th:only-of-type {\n",
       "        vertical-align: middle;\n",
       "    }\n",
       "\n",
       "    .dataframe tbody tr th {\n",
       "        vertical-align: top;\n",
       "    }\n",
       "\n",
       "    .dataframe thead th {\n",
       "        text-align: right;\n",
       "    }\n",
       "</style>\n",
       "<table border=\"1\" class=\"dataframe\">\n",
       "  <thead>\n",
       "    <tr style=\"text-align: right;\">\n",
       "      <th></th>\n",
       "      <th>Age</th>\n",
       "      <th>Gender</th>\n",
       "      <th>Total_Bilirubin</th>\n",
       "      <th>Direct_Bilirubin</th>\n",
       "      <th>Alkaline_Phosphotase</th>\n",
       "      <th>Alamine_Aminotransferase</th>\n",
       "      <th>Aspartate_Aminotransferase</th>\n",
       "      <th>Total_Protiens</th>\n",
       "      <th>Albumin</th>\n",
       "      <th>Albumin_and_Globulin_Ratio</th>\n",
       "      <th>Target</th>\n",
       "    </tr>\n",
       "  </thead>\n",
       "  <tbody>\n",
       "    <tr>\n",
       "      <th>0</th>\n",
       "      <td>65</td>\n",
       "      <td>Female</td>\n",
       "      <td>0.7</td>\n",
       "      <td>0.1</td>\n",
       "      <td>187</td>\n",
       "      <td>16</td>\n",
       "      <td>18</td>\n",
       "      <td>6.8</td>\n",
       "      <td>3.3</td>\n",
       "      <td>0.9</td>\n",
       "      <td>1</td>\n",
       "    </tr>\n",
       "  </tbody>\n",
       "</table>\n",
       "</div>"
      ],
      "text/plain": [
       "   Age  Gender  Total_Bilirubin  Direct_Bilirubin  Alkaline_Phosphotase  \\\n",
       "0   65  Female              0.7               0.1                   187   \n",
       "\n",
       "   Alamine_Aminotransferase  Aspartate_Aminotransferase  Total_Protiens  \\\n",
       "0                        16                          18             6.8   \n",
       "\n",
       "   Albumin  Albumin_and_Globulin_Ratio  Target  \n",
       "0      3.3                         0.9       1  "
      ]
     },
     "execution_count": 175,
     "metadata": {},
     "output_type": "execute_result"
    }
   ],
   "source": [
    "dados.head(1)"
   ]
  },
  {
   "attachments": {},
   "cell_type": "markdown",
   "id": "f57ddb6d",
   "metadata": {},
   "source": [
    "Vamos observar a correlação entre as variáveis:"
   ]
  },
  {
   "cell_type": "code",
   "execution_count": 176,
   "id": "afa89522",
   "metadata": {},
   "outputs": [
    {
     "data": {
      "text/html": [
       "<div>\n",
       "<style scoped>\n",
       "    .dataframe tbody tr th:only-of-type {\n",
       "        vertical-align: middle;\n",
       "    }\n",
       "\n",
       "    .dataframe tbody tr th {\n",
       "        vertical-align: top;\n",
       "    }\n",
       "\n",
       "    .dataframe thead th {\n",
       "        text-align: right;\n",
       "    }\n",
       "</style>\n",
       "<table border=\"1\" class=\"dataframe\">\n",
       "  <thead>\n",
       "    <tr style=\"text-align: right;\">\n",
       "      <th></th>\n",
       "      <th>Age</th>\n",
       "      <th>Total_Bilirubin</th>\n",
       "      <th>Direct_Bilirubin</th>\n",
       "      <th>Alkaline_Phosphotase</th>\n",
       "      <th>Alamine_Aminotransferase</th>\n",
       "      <th>Aspartate_Aminotransferase</th>\n",
       "      <th>Total_Protiens</th>\n",
       "      <th>Albumin</th>\n",
       "      <th>Albumin_and_Globulin_Ratio</th>\n",
       "      <th>Target</th>\n",
       "    </tr>\n",
       "  </thead>\n",
       "  <tbody>\n",
       "    <tr>\n",
       "      <th>Age</th>\n",
       "      <td>1.000000</td>\n",
       "      <td>0.011763</td>\n",
       "      <td>0.007529</td>\n",
       "      <td>0.080425</td>\n",
       "      <td>-0.086883</td>\n",
       "      <td>-0.019910</td>\n",
       "      <td>-0.187461</td>\n",
       "      <td>-0.265924</td>\n",
       "      <td>-0.216408</td>\n",
       "      <td>0.137351</td>\n",
       "    </tr>\n",
       "    <tr>\n",
       "      <th>Total_Bilirubin</th>\n",
       "      <td>0.011763</td>\n",
       "      <td>1.000000</td>\n",
       "      <td>0.874618</td>\n",
       "      <td>0.206669</td>\n",
       "      <td>0.214065</td>\n",
       "      <td>0.237831</td>\n",
       "      <td>-0.008099</td>\n",
       "      <td>-0.222250</td>\n",
       "      <td>-0.206267</td>\n",
       "      <td>0.220208</td>\n",
       "    </tr>\n",
       "    <tr>\n",
       "      <th>Direct_Bilirubin</th>\n",
       "      <td>0.007529</td>\n",
       "      <td>0.874618</td>\n",
       "      <td>1.000000</td>\n",
       "      <td>0.234939</td>\n",
       "      <td>0.233894</td>\n",
       "      <td>0.257544</td>\n",
       "      <td>-0.000139</td>\n",
       "      <td>-0.228531</td>\n",
       "      <td>-0.200125</td>\n",
       "      <td>0.246046</td>\n",
       "    </tr>\n",
       "    <tr>\n",
       "      <th>Alkaline_Phosphotase</th>\n",
       "      <td>0.080425</td>\n",
       "      <td>0.206669</td>\n",
       "      <td>0.234939</td>\n",
       "      <td>1.000000</td>\n",
       "      <td>0.125680</td>\n",
       "      <td>0.167196</td>\n",
       "      <td>-0.028514</td>\n",
       "      <td>-0.165453</td>\n",
       "      <td>-0.234166</td>\n",
       "      <td>0.184866</td>\n",
       "    </tr>\n",
       "    <tr>\n",
       "      <th>Alamine_Aminotransferase</th>\n",
       "      <td>-0.086883</td>\n",
       "      <td>0.214065</td>\n",
       "      <td>0.233894</td>\n",
       "      <td>0.125680</td>\n",
       "      <td>1.000000</td>\n",
       "      <td>0.791966</td>\n",
       "      <td>-0.042518</td>\n",
       "      <td>-0.029742</td>\n",
       "      <td>-0.002375</td>\n",
       "      <td>0.163416</td>\n",
       "    </tr>\n",
       "    <tr>\n",
       "      <th>Aspartate_Aminotransferase</th>\n",
       "      <td>-0.019910</td>\n",
       "      <td>0.237831</td>\n",
       "      <td>0.257544</td>\n",
       "      <td>0.167196</td>\n",
       "      <td>0.791966</td>\n",
       "      <td>1.000000</td>\n",
       "      <td>-0.025645</td>\n",
       "      <td>-0.085290</td>\n",
       "      <td>-0.070040</td>\n",
       "      <td>0.151934</td>\n",
       "    </tr>\n",
       "    <tr>\n",
       "      <th>Total_Protiens</th>\n",
       "      <td>-0.187461</td>\n",
       "      <td>-0.008099</td>\n",
       "      <td>-0.000139</td>\n",
       "      <td>-0.028514</td>\n",
       "      <td>-0.042518</td>\n",
       "      <td>-0.025645</td>\n",
       "      <td>1.000000</td>\n",
       "      <td>0.784053</td>\n",
       "      <td>0.234887</td>\n",
       "      <td>-0.035008</td>\n",
       "    </tr>\n",
       "    <tr>\n",
       "      <th>Albumin</th>\n",
       "      <td>-0.265924</td>\n",
       "      <td>-0.222250</td>\n",
       "      <td>-0.228531</td>\n",
       "      <td>-0.165453</td>\n",
       "      <td>-0.029742</td>\n",
       "      <td>-0.085290</td>\n",
       "      <td>0.784053</td>\n",
       "      <td>1.000000</td>\n",
       "      <td>0.689632</td>\n",
       "      <td>-0.161388</td>\n",
       "    </tr>\n",
       "    <tr>\n",
       "      <th>Albumin_and_Globulin_Ratio</th>\n",
       "      <td>-0.216408</td>\n",
       "      <td>-0.206267</td>\n",
       "      <td>-0.200125</td>\n",
       "      <td>-0.234166</td>\n",
       "      <td>-0.002375</td>\n",
       "      <td>-0.070040</td>\n",
       "      <td>0.234887</td>\n",
       "      <td>0.689632</td>\n",
       "      <td>1.000000</td>\n",
       "      <td>-0.163131</td>\n",
       "    </tr>\n",
       "    <tr>\n",
       "      <th>Target</th>\n",
       "      <td>0.137351</td>\n",
       "      <td>0.220208</td>\n",
       "      <td>0.246046</td>\n",
       "      <td>0.184866</td>\n",
       "      <td>0.163416</td>\n",
       "      <td>0.151934</td>\n",
       "      <td>-0.035008</td>\n",
       "      <td>-0.161388</td>\n",
       "      <td>-0.163131</td>\n",
       "      <td>1.000000</td>\n",
       "    </tr>\n",
       "  </tbody>\n",
       "</table>\n",
       "</div>"
      ],
      "text/plain": [
       "                                 Age  Total_Bilirubin  Direct_Bilirubin  \\\n",
       "Age                         1.000000         0.011763          0.007529   \n",
       "Total_Bilirubin             0.011763         1.000000          0.874618   \n",
       "Direct_Bilirubin            0.007529         0.874618          1.000000   \n",
       "Alkaline_Phosphotase        0.080425         0.206669          0.234939   \n",
       "Alamine_Aminotransferase   -0.086883         0.214065          0.233894   \n",
       "Aspartate_Aminotransferase -0.019910         0.237831          0.257544   \n",
       "Total_Protiens             -0.187461        -0.008099         -0.000139   \n",
       "Albumin                    -0.265924        -0.222250         -0.228531   \n",
       "Albumin_and_Globulin_Ratio -0.216408        -0.206267         -0.200125   \n",
       "Target                      0.137351         0.220208          0.246046   \n",
       "\n",
       "                            Alkaline_Phosphotase  Alamine_Aminotransferase  \\\n",
       "Age                                     0.080425                 -0.086883   \n",
       "Total_Bilirubin                         0.206669                  0.214065   \n",
       "Direct_Bilirubin                        0.234939                  0.233894   \n",
       "Alkaline_Phosphotase                    1.000000                  0.125680   \n",
       "Alamine_Aminotransferase                0.125680                  1.000000   \n",
       "Aspartate_Aminotransferase              0.167196                  0.791966   \n",
       "Total_Protiens                         -0.028514                 -0.042518   \n",
       "Albumin                                -0.165453                 -0.029742   \n",
       "Albumin_and_Globulin_Ratio             -0.234166                 -0.002375   \n",
       "Target                                  0.184866                  0.163416   \n",
       "\n",
       "                            Aspartate_Aminotransferase  Total_Protiens  \\\n",
       "Age                                          -0.019910       -0.187461   \n",
       "Total_Bilirubin                               0.237831       -0.008099   \n",
       "Direct_Bilirubin                              0.257544       -0.000139   \n",
       "Alkaline_Phosphotase                          0.167196       -0.028514   \n",
       "Alamine_Aminotransferase                      0.791966       -0.042518   \n",
       "Aspartate_Aminotransferase                    1.000000       -0.025645   \n",
       "Total_Protiens                               -0.025645        1.000000   \n",
       "Albumin                                      -0.085290        0.784053   \n",
       "Albumin_and_Globulin_Ratio                   -0.070040        0.234887   \n",
       "Target                                        0.151934       -0.035008   \n",
       "\n",
       "                             Albumin  Albumin_and_Globulin_Ratio    Target  \n",
       "Age                        -0.265924                   -0.216408  0.137351  \n",
       "Total_Bilirubin            -0.222250                   -0.206267  0.220208  \n",
       "Direct_Bilirubin           -0.228531                   -0.200125  0.246046  \n",
       "Alkaline_Phosphotase       -0.165453                   -0.234166  0.184866  \n",
       "Alamine_Aminotransferase   -0.029742                   -0.002375  0.163416  \n",
       "Aspartate_Aminotransferase -0.085290                   -0.070040  0.151934  \n",
       "Total_Protiens              0.784053                    0.234887 -0.035008  \n",
       "Albumin                     1.000000                    0.689632 -0.161388  \n",
       "Albumin_and_Globulin_Ratio  0.689632                    1.000000 -0.163131  \n",
       "Target                     -0.161388                   -0.163131  1.000000  "
      ]
     },
     "execution_count": 176,
     "metadata": {},
     "output_type": "execute_result"
    }
   ],
   "source": [
    "dados.corr()"
   ]
  },
  {
   "cell_type": "code",
   "execution_count": 177,
   "id": "e5d3a502",
   "metadata": {},
   "outputs": [
    {
     "data": {
      "text/plain": [
       "<Axes: >"
      ]
     },
     "execution_count": 177,
     "metadata": {},
     "output_type": "execute_result"
    },
    {
     "data": {
      "image/png": "[encoded data removed]",
      "text/plain": [
       "<Figure size 640x480 with 2 Axes>"
      ]
     },
     "metadata": {},
     "output_type": "display_data"
    }
   ],
   "source": [
    "#Analisando graficamente:\n",
    "\n",
    "matriz_corr = dados.corr()\n",
    "sns.heatmap(matriz_corr, annot=True, cmap='coolwarm')"
   ]
  },
  {
   "attachments": {},
   "cell_type": "markdown",
   "id": "66afbb45",
   "metadata": {},
   "source": [
    "Podemos observar, que não parece haver correlação entre a idade do paciente com as características que indicam a doença hepática. Também podemos observar uma alta correlação positiva entre Total_Bilirubin e Direct_Bilirubin, isto pode ser um problema para treinar nosso modelo de machine learning (problema de multicolinearidade)."
   ]
  },
  {
   "attachments": {},
   "cell_type": "markdown",
   "id": "bc62ec2a",
   "metadata": {},
   "source": [
    "**Exploração da Variável Categórica**"
   ]
  },
  {
   "cell_type": "code",
   "execution_count": 178,
   "id": "6f08be98",
   "metadata": {},
   "outputs": [
    {
     "data": {
      "text/html": [
       "<div>\n",
       "<style scoped>\n",
       "    .dataframe tbody tr th:only-of-type {\n",
       "        vertical-align: middle;\n",
       "    }\n",
       "\n",
       "    .dataframe tbody tr th {\n",
       "        vertical-align: top;\n",
       "    }\n",
       "\n",
       "    .dataframe thead th {\n",
       "        text-align: right;\n",
       "    }\n",
       "</style>\n",
       "<table border=\"1\" class=\"dataframe\">\n",
       "  <thead>\n",
       "    <tr style=\"text-align: right;\">\n",
       "      <th></th>\n",
       "      <th>Gender</th>\n",
       "    </tr>\n",
       "  </thead>\n",
       "  <tbody>\n",
       "    <tr>\n",
       "      <th>count</th>\n",
       "      <td>583</td>\n",
       "    </tr>\n",
       "    <tr>\n",
       "      <th>unique</th>\n",
       "      <td>2</td>\n",
       "    </tr>\n",
       "    <tr>\n",
       "      <th>top</th>\n",
       "      <td>Male</td>\n",
       "    </tr>\n",
       "    <tr>\n",
       "      <th>freq</th>\n",
       "      <td>441</td>\n",
       "    </tr>\n",
       "  </tbody>\n",
       "</table>\n",
       "</div>"
      ],
      "text/plain": [
       "       Gender\n",
       "count     583\n",
       "unique      2\n",
       "top      Male\n",
       "freq      441"
      ]
     },
     "execution_count": 178,
     "metadata": {},
     "output_type": "execute_result"
    }
   ],
   "source": [
    "dados.describe(include=['object'])"
   ]
  },
  {
   "attachments": {},
   "cell_type": "markdown",
   "id": "ff23d275",
   "metadata": {},
   "source": [
    "O que temos acima, significa o seguinte: temos 583 registros divididos entre duas classes ('Male' e 'Female'); top que mostra a classe com mais ocorrências no dataset."
   ]
  },
  {
   "cell_type": "code",
   "execution_count": 179,
   "id": "dd85c63b",
   "metadata": {},
   "outputs": [
    {
     "data": {
      "image/png": "[encoded data removed]",
      "text/plain": [
       "<Figure size 640x480 with 1 Axes>"
      ]
     },
     "metadata": {},
     "output_type": "display_data"
    }
   ],
   "source": [
    "sns.set(style=\"darkgrid\")\n",
    "\n",
    "# Plot\n",
    "ax = sns.countplot(data=dados, x='Gender', label='Count')\n",
    "\n",
    "# Value counts\n",
    "M, F = dados['Gender'].value_counts()\n",
    "\n",
    "for p in ax.patches:\n",
    "    ax.annotate(f'{p.get_height()}', (p.get_x() + p.get_width() / 2., p.get_height()), ha='center', va='center',\n",
    "                xytext=(0, 5), textcoords='offset points')\n",
    "\n",
    "plt.xlabel('Gender')\n",
    "plt.ylabel('Count')\n",
    "plt.title('Count of Gender')\n",
    "plt.show()"
   ]
  },
  {
   "attachments": {},
   "cell_type": "markdown",
   "id": "acd1889e",
   "metadata": {},
   "source": [
    "Temos que mais dados sobre pacientes do sexo masculino; o ideal, seriam dados bastante proporcionais entre os sexos. Deste forma, o modelo que será construído irá aprender bem as características de doençã hepática ou não, do sexo masculino; talvez não aprenda tão bem para o sexo feminino. Vale ressaltar, que não faz sentido balanceamento pois esta não é classe que queremos prever!"
   ]
  },
  {
   "attachments": {},
   "cell_type": "markdown",
   "id": "3e7f94ad",
   "metadata": {},
   "source": [
    "Já vamos transformar a variável categórica em sua representação numérica, usando label encoding. Além de reduzir o trabalho mais tarde, também facilitará a criação de gráficos durante o estudo."
   ]
  },
  {
   "cell_type": "code",
   "execution_count": 180,
   "id": "f46a3e5d",
   "metadata": {},
   "outputs": [],
   "source": [
    "# Função para label encondig\n",
    "def encoding_func(x):\n",
    "    if x == 'Male':\n",
    "        return 0\n",
    "    return 1"
   ]
  },
  {
   "cell_type": "code",
   "execution_count": 181,
   "id": "472b16c5",
   "metadata": {},
   "outputs": [],
   "source": [
    "# Aplicando a função à esta variável\n",
    "dados['Gender'] = dados['Gender'].map(encoding_func)"
   ]
  },
  {
   "cell_type": "code",
   "execution_count": 182,
   "id": "148920e1",
   "metadata": {},
   "outputs": [
    {
     "data": {
      "text/html": [
       "<div>\n",
       "<style scoped>\n",
       "    .dataframe tbody tr th:only-of-type {\n",
       "        vertical-align: middle;\n",
       "    }\n",
       "\n",
       "    .dataframe tbody tr th {\n",
       "        vertical-align: top;\n",
       "    }\n",
       "\n",
       "    .dataframe thead th {\n",
       "        text-align: right;\n",
       "    }\n",
       "</style>\n",
       "<table border=\"1\" class=\"dataframe\">\n",
       "  <thead>\n",
       "    <tr style=\"text-align: right;\">\n",
       "      <th></th>\n",
       "      <th>Age</th>\n",
       "      <th>Gender</th>\n",
       "      <th>Total_Bilirubin</th>\n",
       "      <th>Direct_Bilirubin</th>\n",
       "      <th>Alkaline_Phosphotase</th>\n",
       "      <th>Alamine_Aminotransferase</th>\n",
       "      <th>Aspartate_Aminotransferase</th>\n",
       "      <th>Total_Protiens</th>\n",
       "      <th>Albumin</th>\n",
       "      <th>Albumin_and_Globulin_Ratio</th>\n",
       "      <th>Target</th>\n",
       "    </tr>\n",
       "  </thead>\n",
       "  <tbody>\n",
       "    <tr>\n",
       "      <th>393</th>\n",
       "      <td>41</td>\n",
       "      <td>0</td>\n",
       "      <td>2.7</td>\n",
       "      <td>1.3</td>\n",
       "      <td>580</td>\n",
       "      <td>142</td>\n",
       "      <td>68</td>\n",
       "      <td>8.0</td>\n",
       "      <td>4.0</td>\n",
       "      <td>1.0</td>\n",
       "      <td>1</td>\n",
       "    </tr>\n",
       "    <tr>\n",
       "      <th>420</th>\n",
       "      <td>55</td>\n",
       "      <td>1</td>\n",
       "      <td>10.9</td>\n",
       "      <td>5.1</td>\n",
       "      <td>1350</td>\n",
       "      <td>48</td>\n",
       "      <td>57</td>\n",
       "      <td>6.4</td>\n",
       "      <td>2.3</td>\n",
       "      <td>0.5</td>\n",
       "      <td>1</td>\n",
       "    </tr>\n",
       "    <tr>\n",
       "      <th>564</th>\n",
       "      <td>38</td>\n",
       "      <td>1</td>\n",
       "      <td>0.6</td>\n",
       "      <td>0.1</td>\n",
       "      <td>165</td>\n",
       "      <td>22</td>\n",
       "      <td>34</td>\n",
       "      <td>5.9</td>\n",
       "      <td>2.9</td>\n",
       "      <td>0.9</td>\n",
       "      <td>0</td>\n",
       "    </tr>\n",
       "    <tr>\n",
       "      <th>543</th>\n",
       "      <td>40</td>\n",
       "      <td>0</td>\n",
       "      <td>1.2</td>\n",
       "      <td>0.6</td>\n",
       "      <td>204</td>\n",
       "      <td>23</td>\n",
       "      <td>27</td>\n",
       "      <td>7.6</td>\n",
       "      <td>4.0</td>\n",
       "      <td>1.1</td>\n",
       "      <td>1</td>\n",
       "    </tr>\n",
       "    <tr>\n",
       "      <th>579</th>\n",
       "      <td>40</td>\n",
       "      <td>0</td>\n",
       "      <td>0.6</td>\n",
       "      <td>0.1</td>\n",
       "      <td>98</td>\n",
       "      <td>35</td>\n",
       "      <td>31</td>\n",
       "      <td>6.0</td>\n",
       "      <td>3.2</td>\n",
       "      <td>1.1</td>\n",
       "      <td>1</td>\n",
       "    </tr>\n",
       "  </tbody>\n",
       "</table>\n",
       "</div>"
      ],
      "text/plain": [
       "     Age  Gender  Total_Bilirubin  Direct_Bilirubin  Alkaline_Phosphotase  \\\n",
       "393   41       0              2.7               1.3                   580   \n",
       "420   55       1             10.9               5.1                  1350   \n",
       "564   38       1              0.6               0.1                   165   \n",
       "543   40       0              1.2               0.6                   204   \n",
       "579   40       0              0.6               0.1                    98   \n",
       "\n",
       "     Alamine_Aminotransferase  Aspartate_Aminotransferase  Total_Protiens  \\\n",
       "393                       142                          68             8.0   \n",
       "420                        48                          57             6.4   \n",
       "564                        22                          34             5.9   \n",
       "543                        23                          27             7.6   \n",
       "579                        35                          31             6.0   \n",
       "\n",
       "     Albumin  Albumin_and_Globulin_Ratio  Target  \n",
       "393      4.0                         1.0       1  \n",
       "420      2.3                         0.5       1  \n",
       "564      2.9                         0.9       0  \n",
       "543      4.0                         1.1       1  \n",
       "579      3.2                         1.1       1  "
      ]
     },
     "execution_count": 182,
     "metadata": {},
     "output_type": "execute_result"
    }
   ],
   "source": [
    "dados.sample(5)"
   ]
  },
  {
   "attachments": {},
   "cell_type": "markdown",
   "id": "dad3fa13",
   "metadata": {},
   "source": [
    "**Verificando a Relação Entre Atributos**"
   ]
  },
  {
   "cell_type": "code",
   "execution_count": 183,
   "id": "68ddf63e",
   "metadata": {},
   "outputs": [
    {
     "data": {
      "text/plain": [
       "<seaborn.axisgrid.FacetGrid at 0x7fdb5fcb4c70>"
      ]
     },
     "execution_count": 183,
     "metadata": {},
     "output_type": "execute_result"
    },
    {
     "data": {
      "image/png": "[encoded data removed]",
      "text/plain": [
       "<Figure size 564.75x500 with 1 Axes>"
      ]
     },
     "metadata": {},
     "output_type": "display_data"
    }
   ],
   "source": [
    "sns.set_style('darkgrid')\n",
    "\n",
    "sns.FacetGrid(dados, hue = 'Target', height=5).map(plt.scatter, 'Total_Bilirubin', 'Direct_Bilirubin').add_legend()"
   ]
  },
  {
   "attachments": {},
   "cell_type": "markdown",
   "id": "977b1bef",
   "metadata": {},
   "source": [
    "Esses dois atributos, tem uma alta correlação com a detecção da doença. Provavelmente, uma das duas poderá ser removida do conjunto de dados, pois a multicolinearidade poderá fazer com que o modelo de machine learning fique tedencioso!"
   ]
  },
  {
   "cell_type": "code",
   "execution_count": 184,
   "id": "304fb289",
   "metadata": {},
   "outputs": [
    {
     "data": {
      "text/plain": [
       "<seaborn.axisgrid.FacetGrid at 0x7fdbad172eb0>"
      ]
     },
     "execution_count": 184,
     "metadata": {},
     "output_type": "execute_result"
    },
    {
     "data": {
      "image/png": "[encoded data removed]",
      "text/plain": [
       "<Figure size 573.472x500 with 1 Axes>"
      ]
     },
     "metadata": {},
     "output_type": "display_data"
    }
   ],
   "source": [
    "sns.set_style('darkgrid')\n",
    "\n",
    "sns.FacetGrid(dados, hue = 'Gender', height=5).map(plt.scatter, 'Total_Bilirubin', 'Direct_Bilirubin').add_legend()"
   ]
  },
  {
   "attachments": {},
   "cell_type": "markdown",
   "id": "8fef98a7",
   "metadata": {},
   "source": [
    "Podemos observar que o sexo do paciente não parece ter uma relação direta com essas duas variáveis, o que comprova que uma delas poderá ser removida do conjunto de dados!"
   ]
  },
  {
   "cell_type": "code",
   "execution_count": 185,
   "id": "95e66a85",
   "metadata": {},
   "outputs": [
    {
     "data": {
      "text/plain": [
       "<seaborn.axisgrid.FacetGrid at 0x7fdbad0f8ac0>"
      ]
     },
     "execution_count": 185,
     "metadata": {},
     "output_type": "execute_result"
    },
    {
     "data": {
      "image/png": "[encoded data removed]",
      "text/plain": [
       "<Figure size 564.75x500 with 1 Axes>"
      ]
     },
     "metadata": {},
     "output_type": "display_data"
    }
   ],
   "source": [
    "sns.set_style('darkgrid')\n",
    "\n",
    "sns.FacetGrid(dados, hue = 'Target', height=5).map(plt.scatter, 'Total_Bilirubin', 'Albumin').add_legend()"
   ]
  },
  {
   "attachments": {},
   "cell_type": "markdown",
   "id": "fb64dccf",
   "metadata": {},
   "source": [
    "Temos um padrão mas não parece haver uma correlação entre as duas variáveis numéricas e à variável alvo."
   ]
  },
  {
   "cell_type": "code",
   "execution_count": 186,
   "id": "6901b863",
   "metadata": {},
   "outputs": [
    {
     "data": {
      "text/plain": [
       "<seaborn.axisgrid.FacetGrid at 0x7fdbad021be0>"
      ]
     },
     "execution_count": 186,
     "metadata": {},
     "output_type": "execute_result"
    },
    {
     "data": {
      "image/png": "[encoded data removed]",
      "text/plain": [
       "<Figure size 573.472x500 with 1 Axes>"
      ]
     },
     "metadata": {},
     "output_type": "display_data"
    }
   ],
   "source": [
    "sns.set_style('darkgrid')\n",
    "\n",
    "sns.FacetGrid(dados, hue = 'Gender', height=5).map(plt.scatter, 'Total_Bilirubin', 'Albumin').add_legend()"
   ]
  },
  {
   "attachments": {},
   "cell_type": "markdown",
   "id": "19c534d9",
   "metadata": {},
   "source": [
    "Essas duas variáveis poderão ser mantidas no conjunto de dados."
   ]
  },
  {
   "attachments": {},
   "cell_type": "markdown",
   "id": "a7747630",
   "metadata": {},
   "source": [
    "**Verificando Valores Ausentes e Registros Duplicados**"
   ]
  },
  {
   "cell_type": "code",
   "execution_count": 187,
   "id": "d939f90b",
   "metadata": {},
   "outputs": [
    {
     "data": {
      "text/html": [
       "<div>\n",
       "<style scoped>\n",
       "    .dataframe tbody tr th:only-of-type {\n",
       "        vertical-align: middle;\n",
       "    }\n",
       "\n",
       "    .dataframe tbody tr th {\n",
       "        vertical-align: top;\n",
       "    }\n",
       "\n",
       "    .dataframe thead th {\n",
       "        text-align: right;\n",
       "    }\n",
       "</style>\n",
       "<table border=\"1\" class=\"dataframe\">\n",
       "  <thead>\n",
       "    <tr style=\"text-align: right;\">\n",
       "      <th></th>\n",
       "      <th>Age</th>\n",
       "      <th>Gender</th>\n",
       "      <th>Total_Bilirubin</th>\n",
       "      <th>Direct_Bilirubin</th>\n",
       "      <th>Alkaline_Phosphotase</th>\n",
       "      <th>Alamine_Aminotransferase</th>\n",
       "      <th>Aspartate_Aminotransferase</th>\n",
       "      <th>Total_Protiens</th>\n",
       "      <th>Albumin</th>\n",
       "      <th>Albumin_and_Globulin_Ratio</th>\n",
       "      <th>Target</th>\n",
       "    </tr>\n",
       "  </thead>\n",
       "  <tbody>\n",
       "    <tr>\n",
       "      <th>209</th>\n",
       "      <td>45</td>\n",
       "      <td>1</td>\n",
       "      <td>0.9</td>\n",
       "      <td>0.3</td>\n",
       "      <td>189</td>\n",
       "      <td>23</td>\n",
       "      <td>33</td>\n",
       "      <td>6.6</td>\n",
       "      <td>3.9</td>\n",
       "      <td>NaN</td>\n",
       "      <td>1</td>\n",
       "    </tr>\n",
       "    <tr>\n",
       "      <th>241</th>\n",
       "      <td>51</td>\n",
       "      <td>0</td>\n",
       "      <td>0.8</td>\n",
       "      <td>0.2</td>\n",
       "      <td>230</td>\n",
       "      <td>24</td>\n",
       "      <td>46</td>\n",
       "      <td>6.5</td>\n",
       "      <td>3.1</td>\n",
       "      <td>NaN</td>\n",
       "      <td>1</td>\n",
       "    </tr>\n",
       "    <tr>\n",
       "      <th>253</th>\n",
       "      <td>35</td>\n",
       "      <td>1</td>\n",
       "      <td>0.6</td>\n",
       "      <td>0.2</td>\n",
       "      <td>180</td>\n",
       "      <td>12</td>\n",
       "      <td>15</td>\n",
       "      <td>5.2</td>\n",
       "      <td>2.7</td>\n",
       "      <td>NaN</td>\n",
       "      <td>0</td>\n",
       "    </tr>\n",
       "    <tr>\n",
       "      <th>312</th>\n",
       "      <td>27</td>\n",
       "      <td>0</td>\n",
       "      <td>1.3</td>\n",
       "      <td>0.6</td>\n",
       "      <td>106</td>\n",
       "      <td>25</td>\n",
       "      <td>54</td>\n",
       "      <td>8.5</td>\n",
       "      <td>4.8</td>\n",
       "      <td>NaN</td>\n",
       "      <td>0</td>\n",
       "    </tr>\n",
       "  </tbody>\n",
       "</table>\n",
       "</div>"
      ],
      "text/plain": [
       "     Age  Gender  Total_Bilirubin  Direct_Bilirubin  Alkaline_Phosphotase  \\\n",
       "209   45       1              0.9               0.3                   189   \n",
       "241   51       0              0.8               0.2                   230   \n",
       "253   35       1              0.6               0.2                   180   \n",
       "312   27       0              1.3               0.6                   106   \n",
       "\n",
       "     Alamine_Aminotransferase  Aspartate_Aminotransferase  Total_Protiens  \\\n",
       "209                        23                          33             6.6   \n",
       "241                        24                          46             6.5   \n",
       "253                        12                          15             5.2   \n",
       "312                        25                          54             8.5   \n",
       "\n",
       "     Albumin  Albumin_and_Globulin_Ratio  Target  \n",
       "209      3.9                         NaN       1  \n",
       "241      3.1                         NaN       1  \n",
       "253      2.7                         NaN       0  \n",
       "312      4.8                         NaN       0  "
      ]
     },
     "execution_count": 187,
     "metadata": {},
     "output_type": "execute_result"
    }
   ],
   "source": [
    "dados[dados.isnull().values]"
   ]
  },
  {
   "attachments": {},
   "cell_type": "markdown",
   "id": "7b0ce597",
   "metadata": {},
   "source": [
    "**Verificando Registros Duplicados**"
   ]
  },
  {
   "cell_type": "code",
   "execution_count": 188,
   "id": "26db2108",
   "metadata": {},
   "outputs": [
    {
     "data": {
      "text/html": [
       "<div>\n",
       "<style scoped>\n",
       "    .dataframe tbody tr th:only-of-type {\n",
       "        vertical-align: middle;\n",
       "    }\n",
       "\n",
       "    .dataframe tbody tr th {\n",
       "        vertical-align: top;\n",
       "    }\n",
       "\n",
       "    .dataframe thead th {\n",
       "        text-align: right;\n",
       "    }\n",
       "</style>\n",
       "<table border=\"1\" class=\"dataframe\">\n",
       "  <thead>\n",
       "    <tr style=\"text-align: right;\">\n",
       "      <th></th>\n",
       "      <th>Age</th>\n",
       "      <th>Gender</th>\n",
       "      <th>Total_Bilirubin</th>\n",
       "      <th>Direct_Bilirubin</th>\n",
       "      <th>Alkaline_Phosphotase</th>\n",
       "      <th>Alamine_Aminotransferase</th>\n",
       "      <th>Aspartate_Aminotransferase</th>\n",
       "      <th>Total_Protiens</th>\n",
       "      <th>Albumin</th>\n",
       "      <th>Albumin_and_Globulin_Ratio</th>\n",
       "      <th>Target</th>\n",
       "    </tr>\n",
       "  </thead>\n",
       "  <tbody>\n",
       "    <tr>\n",
       "      <th>18</th>\n",
       "      <td>40</td>\n",
       "      <td>1</td>\n",
       "      <td>0.9</td>\n",
       "      <td>0.3</td>\n",
       "      <td>293</td>\n",
       "      <td>232</td>\n",
       "      <td>245</td>\n",
       "      <td>6.8</td>\n",
       "      <td>3.1</td>\n",
       "      <td>0.80</td>\n",
       "      <td>1</td>\n",
       "    </tr>\n",
       "    <tr>\n",
       "      <th>19</th>\n",
       "      <td>40</td>\n",
       "      <td>1</td>\n",
       "      <td>0.9</td>\n",
       "      <td>0.3</td>\n",
       "      <td>293</td>\n",
       "      <td>232</td>\n",
       "      <td>245</td>\n",
       "      <td>6.8</td>\n",
       "      <td>3.1</td>\n",
       "      <td>0.80</td>\n",
       "      <td>1</td>\n",
       "    </tr>\n",
       "    <tr>\n",
       "      <th>25</th>\n",
       "      <td>34</td>\n",
       "      <td>0</td>\n",
       "      <td>4.1</td>\n",
       "      <td>2.0</td>\n",
       "      <td>289</td>\n",
       "      <td>875</td>\n",
       "      <td>731</td>\n",
       "      <td>5.0</td>\n",
       "      <td>2.7</td>\n",
       "      <td>1.10</td>\n",
       "      <td>1</td>\n",
       "    </tr>\n",
       "    <tr>\n",
       "      <th>26</th>\n",
       "      <td>34</td>\n",
       "      <td>0</td>\n",
       "      <td>4.1</td>\n",
       "      <td>2.0</td>\n",
       "      <td>289</td>\n",
       "      <td>875</td>\n",
       "      <td>731</td>\n",
       "      <td>5.0</td>\n",
       "      <td>2.7</td>\n",
       "      <td>1.10</td>\n",
       "      <td>1</td>\n",
       "    </tr>\n",
       "    <tr>\n",
       "      <th>33</th>\n",
       "      <td>38</td>\n",
       "      <td>1</td>\n",
       "      <td>2.6</td>\n",
       "      <td>1.2</td>\n",
       "      <td>410</td>\n",
       "      <td>59</td>\n",
       "      <td>57</td>\n",
       "      <td>5.6</td>\n",
       "      <td>3.0</td>\n",
       "      <td>0.80</td>\n",
       "      <td>0</td>\n",
       "    </tr>\n",
       "    <tr>\n",
       "      <th>34</th>\n",
       "      <td>38</td>\n",
       "      <td>1</td>\n",
       "      <td>2.6</td>\n",
       "      <td>1.2</td>\n",
       "      <td>410</td>\n",
       "      <td>59</td>\n",
       "      <td>57</td>\n",
       "      <td>5.6</td>\n",
       "      <td>3.0</td>\n",
       "      <td>0.80</td>\n",
       "      <td>0</td>\n",
       "    </tr>\n",
       "    <tr>\n",
       "      <th>54</th>\n",
       "      <td>42</td>\n",
       "      <td>0</td>\n",
       "      <td>8.9</td>\n",
       "      <td>4.5</td>\n",
       "      <td>272</td>\n",
       "      <td>31</td>\n",
       "      <td>61</td>\n",
       "      <td>5.8</td>\n",
       "      <td>2.0</td>\n",
       "      <td>0.50</td>\n",
       "      <td>1</td>\n",
       "    </tr>\n",
       "    <tr>\n",
       "      <th>55</th>\n",
       "      <td>42</td>\n",
       "      <td>0</td>\n",
       "      <td>8.9</td>\n",
       "      <td>4.5</td>\n",
       "      <td>272</td>\n",
       "      <td>31</td>\n",
       "      <td>61</td>\n",
       "      <td>5.8</td>\n",
       "      <td>2.0</td>\n",
       "      <td>0.50</td>\n",
       "      <td>1</td>\n",
       "    </tr>\n",
       "    <tr>\n",
       "      <th>61</th>\n",
       "      <td>58</td>\n",
       "      <td>0</td>\n",
       "      <td>1.0</td>\n",
       "      <td>0.5</td>\n",
       "      <td>158</td>\n",
       "      <td>37</td>\n",
       "      <td>43</td>\n",
       "      <td>7.2</td>\n",
       "      <td>3.6</td>\n",
       "      <td>1.00</td>\n",
       "      <td>1</td>\n",
       "    </tr>\n",
       "    <tr>\n",
       "      <th>62</th>\n",
       "      <td>58</td>\n",
       "      <td>0</td>\n",
       "      <td>1.0</td>\n",
       "      <td>0.5</td>\n",
       "      <td>158</td>\n",
       "      <td>37</td>\n",
       "      <td>43</td>\n",
       "      <td>7.2</td>\n",
       "      <td>3.6</td>\n",
       "      <td>1.00</td>\n",
       "      <td>1</td>\n",
       "    </tr>\n",
       "    <tr>\n",
       "      <th>105</th>\n",
       "      <td>36</td>\n",
       "      <td>0</td>\n",
       "      <td>5.3</td>\n",
       "      <td>2.3</td>\n",
       "      <td>145</td>\n",
       "      <td>32</td>\n",
       "      <td>92</td>\n",
       "      <td>5.1</td>\n",
       "      <td>2.6</td>\n",
       "      <td>1.00</td>\n",
       "      <td>0</td>\n",
       "    </tr>\n",
       "    <tr>\n",
       "      <th>106</th>\n",
       "      <td>36</td>\n",
       "      <td>0</td>\n",
       "      <td>5.3</td>\n",
       "      <td>2.3</td>\n",
       "      <td>145</td>\n",
       "      <td>32</td>\n",
       "      <td>92</td>\n",
       "      <td>5.1</td>\n",
       "      <td>2.6</td>\n",
       "      <td>1.00</td>\n",
       "      <td>0</td>\n",
       "    </tr>\n",
       "    <tr>\n",
       "      <th>107</th>\n",
       "      <td>36</td>\n",
       "      <td>0</td>\n",
       "      <td>0.8</td>\n",
       "      <td>0.2</td>\n",
       "      <td>158</td>\n",
       "      <td>29</td>\n",
       "      <td>39</td>\n",
       "      <td>6.0</td>\n",
       "      <td>2.2</td>\n",
       "      <td>0.50</td>\n",
       "      <td>0</td>\n",
       "    </tr>\n",
       "    <tr>\n",
       "      <th>108</th>\n",
       "      <td>36</td>\n",
       "      <td>0</td>\n",
       "      <td>0.8</td>\n",
       "      <td>0.2</td>\n",
       "      <td>158</td>\n",
       "      <td>29</td>\n",
       "      <td>39</td>\n",
       "      <td>6.0</td>\n",
       "      <td>2.2</td>\n",
       "      <td>0.50</td>\n",
       "      <td>0</td>\n",
       "    </tr>\n",
       "    <tr>\n",
       "      <th>137</th>\n",
       "      <td>18</td>\n",
       "      <td>0</td>\n",
       "      <td>0.8</td>\n",
       "      <td>0.2</td>\n",
       "      <td>282</td>\n",
       "      <td>72</td>\n",
       "      <td>140</td>\n",
       "      <td>5.5</td>\n",
       "      <td>2.5</td>\n",
       "      <td>0.80</td>\n",
       "      <td>1</td>\n",
       "    </tr>\n",
       "    <tr>\n",
       "      <th>138</th>\n",
       "      <td>18</td>\n",
       "      <td>0</td>\n",
       "      <td>0.8</td>\n",
       "      <td>0.2</td>\n",
       "      <td>282</td>\n",
       "      <td>72</td>\n",
       "      <td>140</td>\n",
       "      <td>5.5</td>\n",
       "      <td>2.5</td>\n",
       "      <td>0.80</td>\n",
       "      <td>1</td>\n",
       "    </tr>\n",
       "    <tr>\n",
       "      <th>142</th>\n",
       "      <td>30</td>\n",
       "      <td>0</td>\n",
       "      <td>1.6</td>\n",
       "      <td>0.4</td>\n",
       "      <td>332</td>\n",
       "      <td>84</td>\n",
       "      <td>139</td>\n",
       "      <td>5.6</td>\n",
       "      <td>2.7</td>\n",
       "      <td>0.90</td>\n",
       "      <td>1</td>\n",
       "    </tr>\n",
       "    <tr>\n",
       "      <th>143</th>\n",
       "      <td>30</td>\n",
       "      <td>0</td>\n",
       "      <td>1.6</td>\n",
       "      <td>0.4</td>\n",
       "      <td>332</td>\n",
       "      <td>84</td>\n",
       "      <td>139</td>\n",
       "      <td>5.6</td>\n",
       "      <td>2.7</td>\n",
       "      <td>0.90</td>\n",
       "      <td>1</td>\n",
       "    </tr>\n",
       "    <tr>\n",
       "      <th>157</th>\n",
       "      <td>72</td>\n",
       "      <td>0</td>\n",
       "      <td>0.7</td>\n",
       "      <td>0.1</td>\n",
       "      <td>196</td>\n",
       "      <td>20</td>\n",
       "      <td>35</td>\n",
       "      <td>5.8</td>\n",
       "      <td>2.0</td>\n",
       "      <td>0.50</td>\n",
       "      <td>1</td>\n",
       "    </tr>\n",
       "    <tr>\n",
       "      <th>158</th>\n",
       "      <td>72</td>\n",
       "      <td>0</td>\n",
       "      <td>0.7</td>\n",
       "      <td>0.1</td>\n",
       "      <td>196</td>\n",
       "      <td>20</td>\n",
       "      <td>35</td>\n",
       "      <td>5.8</td>\n",
       "      <td>2.0</td>\n",
       "      <td>0.50</td>\n",
       "      <td>1</td>\n",
       "    </tr>\n",
       "    <tr>\n",
       "      <th>163</th>\n",
       "      <td>39</td>\n",
       "      <td>0</td>\n",
       "      <td>1.9</td>\n",
       "      <td>0.9</td>\n",
       "      <td>180</td>\n",
       "      <td>42</td>\n",
       "      <td>62</td>\n",
       "      <td>7.4</td>\n",
       "      <td>4.3</td>\n",
       "      <td>1.38</td>\n",
       "      <td>1</td>\n",
       "    </tr>\n",
       "    <tr>\n",
       "      <th>164</th>\n",
       "      <td>39</td>\n",
       "      <td>0</td>\n",
       "      <td>1.9</td>\n",
       "      <td>0.9</td>\n",
       "      <td>180</td>\n",
       "      <td>42</td>\n",
       "      <td>62</td>\n",
       "      <td>7.4</td>\n",
       "      <td>4.3</td>\n",
       "      <td>1.38</td>\n",
       "      <td>1</td>\n",
       "    </tr>\n",
       "    <tr>\n",
       "      <th>173</th>\n",
       "      <td>31</td>\n",
       "      <td>0</td>\n",
       "      <td>0.6</td>\n",
       "      <td>0.1</td>\n",
       "      <td>175</td>\n",
       "      <td>48</td>\n",
       "      <td>34</td>\n",
       "      <td>6.0</td>\n",
       "      <td>3.7</td>\n",
       "      <td>1.60</td>\n",
       "      <td>1</td>\n",
       "    </tr>\n",
       "    <tr>\n",
       "      <th>174</th>\n",
       "      <td>31</td>\n",
       "      <td>0</td>\n",
       "      <td>0.6</td>\n",
       "      <td>0.1</td>\n",
       "      <td>175</td>\n",
       "      <td>48</td>\n",
       "      <td>34</td>\n",
       "      <td>6.0</td>\n",
       "      <td>3.7</td>\n",
       "      <td>1.60</td>\n",
       "      <td>1</td>\n",
       "    </tr>\n",
       "    <tr>\n",
       "      <th>200</th>\n",
       "      <td>49</td>\n",
       "      <td>0</td>\n",
       "      <td>0.6</td>\n",
       "      <td>0.1</td>\n",
       "      <td>218</td>\n",
       "      <td>50</td>\n",
       "      <td>53</td>\n",
       "      <td>5.0</td>\n",
       "      <td>2.4</td>\n",
       "      <td>0.90</td>\n",
       "      <td>1</td>\n",
       "    </tr>\n",
       "    <tr>\n",
       "      <th>201</th>\n",
       "      <td>49</td>\n",
       "      <td>0</td>\n",
       "      <td>0.6</td>\n",
       "      <td>0.1</td>\n",
       "      <td>218</td>\n",
       "      <td>50</td>\n",
       "      <td>53</td>\n",
       "      <td>5.0</td>\n",
       "      <td>2.4</td>\n",
       "      <td>0.90</td>\n",
       "      <td>1</td>\n",
       "    </tr>\n",
       "  </tbody>\n",
       "</table>\n",
       "</div>"
      ],
      "text/plain": [
       "     Age  Gender  Total_Bilirubin  Direct_Bilirubin  Alkaline_Phosphotase  \\\n",
       "18    40       1              0.9               0.3                   293   \n",
       "19    40       1              0.9               0.3                   293   \n",
       "25    34       0              4.1               2.0                   289   \n",
       "26    34       0              4.1               2.0                   289   \n",
       "33    38       1              2.6               1.2                   410   \n",
       "34    38       1              2.6               1.2                   410   \n",
       "54    42       0              8.9               4.5                   272   \n",
       "55    42       0              8.9               4.5                   272   \n",
       "61    58       0              1.0               0.5                   158   \n",
       "62    58       0              1.0               0.5                   158   \n",
       "105   36       0              5.3               2.3                   145   \n",
       "106   36       0              5.3               2.3                   145   \n",
       "107   36       0              0.8               0.2                   158   \n",
       "108   36       0              0.8               0.2                   158   \n",
       "137   18       0              0.8               0.2                   282   \n",
       "138   18       0              0.8               0.2                   282   \n",
       "142   30       0              1.6               0.4                   332   \n",
       "143   30       0              1.6               0.4                   332   \n",
       "157   72       0              0.7               0.1                   196   \n",
       "158   72       0              0.7               0.1                   196   \n",
       "163   39       0              1.9               0.9                   180   \n",
       "164   39       0              1.9               0.9                   180   \n",
       "173   31       0              0.6               0.1                   175   \n",
       "174   31       0              0.6               0.1                   175   \n",
       "200   49       0              0.6               0.1                   218   \n",
       "201   49       0              0.6               0.1                   218   \n",
       "\n",
       "     Alamine_Aminotransferase  Aspartate_Aminotransferase  Total_Protiens  \\\n",
       "18                        232                         245             6.8   \n",
       "19                        232                         245             6.8   \n",
       "25                        875                         731             5.0   \n",
       "26                        875                         731             5.0   \n",
       "33                         59                          57             5.6   \n",
       "34                         59                          57             5.6   \n",
       "54                         31                          61             5.8   \n",
       "55                         31                          61             5.8   \n",
       "61                         37                          43             7.2   \n",
       "62                         37                          43             7.2   \n",
       "105                        32                          92             5.1   \n",
       "106                        32                          92             5.1   \n",
       "107                        29                          39             6.0   \n",
       "108                        29                          39             6.0   \n",
       "137                        72                         140             5.5   \n",
       "138                        72                         140             5.5   \n",
       "142                        84                         139             5.6   \n",
       "143                        84                         139             5.6   \n",
       "157                        20                          35             5.8   \n",
       "158                        20                          35             5.8   \n",
       "163                        42                          62             7.4   \n",
       "164                        42                          62             7.4   \n",
       "173                        48                          34             6.0   \n",
       "174                        48                          34             6.0   \n",
       "200                        50                          53             5.0   \n",
       "201                        50                          53             5.0   \n",
       "\n",
       "     Albumin  Albumin_and_Globulin_Ratio  Target  \n",
       "18       3.1                        0.80       1  \n",
       "19       3.1                        0.80       1  \n",
       "25       2.7                        1.10       1  \n",
       "26       2.7                        1.10       1  \n",
       "33       3.0                        0.80       0  \n",
       "34       3.0                        0.80       0  \n",
       "54       2.0                        0.50       1  \n",
       "55       2.0                        0.50       1  \n",
       "61       3.6                        1.00       1  \n",
       "62       3.6                        1.00       1  \n",
       "105      2.6                        1.00       0  \n",
       "106      2.6                        1.00       0  \n",
       "107      2.2                        0.50       0  \n",
       "108      2.2                        0.50       0  \n",
       "137      2.5                        0.80       1  \n",
       "138      2.5                        0.80       1  \n",
       "142      2.7                        0.90       1  \n",
       "143      2.7                        0.90       1  \n",
       "157      2.0                        0.50       1  \n",
       "158      2.0                        0.50       1  \n",
       "163      4.3                        1.38       1  \n",
       "164      4.3                        1.38       1  \n",
       "173      3.7                        1.60       1  \n",
       "174      3.7                        1.60       1  \n",
       "200      2.4                        0.90       1  \n",
       "201      2.4                        0.90       1  "
      ]
     },
     "execution_count": 188,
     "metadata": {},
     "output_type": "execute_result"
    }
   ],
   "source": [
    "dados[dados.duplicated(keep=False)]"
   ]
  },
  {
   "attachments": {},
   "cell_type": "markdown",
   "id": "ae41dba8",
   "metadata": {},
   "source": [
    "## **3- Limpeza dos Dados**"
   ]
  },
  {
   "attachments": {},
   "cell_type": "markdown",
   "id": "73de48e5",
   "metadata": {},
   "source": [
    "**Removendo registros duplicados**"
   ]
  },
  {
   "cell_type": "code",
   "execution_count": 189,
   "id": "bb2f9bf6",
   "metadata": {},
   "outputs": [],
   "source": [
    "dados = dados.drop_duplicates()"
   ]
  },
  {
   "attachments": {},
   "cell_type": "markdown",
   "id": "7229e031",
   "metadata": {},
   "source": [
    "**Tratamento de Outliers**"
   ]
  },
  {
   "cell_type": "code",
   "execution_count": 190,
   "id": "3de0bf86",
   "metadata": {},
   "outputs": [
    {
     "data": {
      "text/html": [
       "<div>\n",
       "<style scoped>\n",
       "    .dataframe tbody tr th:only-of-type {\n",
       "        vertical-align: middle;\n",
       "    }\n",
       "\n",
       "    .dataframe tbody tr th {\n",
       "        vertical-align: top;\n",
       "    }\n",
       "\n",
       "    .dataframe thead th {\n",
       "        text-align: right;\n",
       "    }\n",
       "</style>\n",
       "<table border=\"1\" class=\"dataframe\">\n",
       "  <thead>\n",
       "    <tr style=\"text-align: right;\">\n",
       "      <th></th>\n",
       "      <th>Age</th>\n",
       "      <th>Gender</th>\n",
       "      <th>Total_Bilirubin</th>\n",
       "      <th>Direct_Bilirubin</th>\n",
       "      <th>Alkaline_Phosphotase</th>\n",
       "      <th>Alamine_Aminotransferase</th>\n",
       "      <th>Aspartate_Aminotransferase</th>\n",
       "      <th>Total_Protiens</th>\n",
       "      <th>Albumin</th>\n",
       "      <th>Albumin_and_Globulin_Ratio</th>\n",
       "      <th>Target</th>\n",
       "    </tr>\n",
       "  </thead>\n",
       "  <tbody>\n",
       "    <tr>\n",
       "      <th>count</th>\n",
       "      <td>570.000000</td>\n",
       "      <td>570.000000</td>\n",
       "      <td>570.000000</td>\n",
       "      <td>570.000000</td>\n",
       "      <td>570.000000</td>\n",
       "      <td>570.000000</td>\n",
       "      <td>570.000000</td>\n",
       "      <td>570.000000</td>\n",
       "      <td>570.000000</td>\n",
       "      <td>566.000000</td>\n",
       "      <td>570.000000</td>\n",
       "    </tr>\n",
       "    <tr>\n",
       "      <th>mean</th>\n",
       "      <td>44.849123</td>\n",
       "      <td>0.245614</td>\n",
       "      <td>3.321754</td>\n",
       "      <td>1.497544</td>\n",
       "      <td>291.750877</td>\n",
       "      <td>79.728070</td>\n",
       "      <td>109.380702</td>\n",
       "      <td>6.496316</td>\n",
       "      <td>3.148947</td>\n",
       "      <td>0.948004</td>\n",
       "      <td>0.712281</td>\n",
       "    </tr>\n",
       "    <tr>\n",
       "      <th>std</th>\n",
       "      <td>16.242182</td>\n",
       "      <td>0.430829</td>\n",
       "      <td>6.267941</td>\n",
       "      <td>2.833231</td>\n",
       "      <td>245.291859</td>\n",
       "      <td>181.471697</td>\n",
       "      <td>290.880671</td>\n",
       "      <td>1.088300</td>\n",
       "      <td>0.796813</td>\n",
       "      <td>0.319635</td>\n",
       "      <td>0.453097</td>\n",
       "    </tr>\n",
       "    <tr>\n",
       "      <th>min</th>\n",
       "      <td>4.000000</td>\n",
       "      <td>0.000000</td>\n",
       "      <td>0.400000</td>\n",
       "      <td>0.100000</td>\n",
       "      <td>63.000000</td>\n",
       "      <td>10.000000</td>\n",
       "      <td>10.000000</td>\n",
       "      <td>2.700000</td>\n",
       "      <td>0.900000</td>\n",
       "      <td>0.300000</td>\n",
       "      <td>0.000000</td>\n",
       "    </tr>\n",
       "    <tr>\n",
       "      <th>25%</th>\n",
       "      <td>33.000000</td>\n",
       "      <td>0.000000</td>\n",
       "      <td>0.800000</td>\n",
       "      <td>0.200000</td>\n",
       "      <td>176.000000</td>\n",
       "      <td>23.000000</td>\n",
       "      <td>25.000000</td>\n",
       "      <td>5.800000</td>\n",
       "      <td>2.600000</td>\n",
       "      <td>0.700000</td>\n",
       "      <td>0.000000</td>\n",
       "    </tr>\n",
       "    <tr>\n",
       "      <th>50%</th>\n",
       "      <td>45.000000</td>\n",
       "      <td>0.000000</td>\n",
       "      <td>1.000000</td>\n",
       "      <td>0.300000</td>\n",
       "      <td>208.000000</td>\n",
       "      <td>35.000000</td>\n",
       "      <td>41.000000</td>\n",
       "      <td>6.600000</td>\n",
       "      <td>3.100000</td>\n",
       "      <td>0.950000</td>\n",
       "      <td>1.000000</td>\n",
       "    </tr>\n",
       "    <tr>\n",
       "      <th>75%</th>\n",
       "      <td>58.000000</td>\n",
       "      <td>0.000000</td>\n",
       "      <td>2.600000</td>\n",
       "      <td>1.300000</td>\n",
       "      <td>298.000000</td>\n",
       "      <td>60.000000</td>\n",
       "      <td>86.750000</td>\n",
       "      <td>7.200000</td>\n",
       "      <td>3.800000</td>\n",
       "      <td>1.100000</td>\n",
       "      <td>1.000000</td>\n",
       "    </tr>\n",
       "    <tr>\n",
       "      <th>max</th>\n",
       "      <td>90.000000</td>\n",
       "      <td>1.000000</td>\n",
       "      <td>75.000000</td>\n",
       "      <td>19.700000</td>\n",
       "      <td>2110.000000</td>\n",
       "      <td>2000.000000</td>\n",
       "      <td>4929.000000</td>\n",
       "      <td>9.600000</td>\n",
       "      <td>5.500000</td>\n",
       "      <td>2.800000</td>\n",
       "      <td>1.000000</td>\n",
       "    </tr>\n",
       "  </tbody>\n",
       "</table>\n",
       "</div>"
      ],
      "text/plain": [
       "              Age      Gender  Total_Bilirubin  Direct_Bilirubin  \\\n",
       "count  570.000000  570.000000       570.000000        570.000000   \n",
       "mean    44.849123    0.245614         3.321754          1.497544   \n",
       "std     16.242182    0.430829         6.267941          2.833231   \n",
       "min      4.000000    0.000000         0.400000          0.100000   \n",
       "25%     33.000000    0.000000         0.800000          0.200000   \n",
       "50%     45.000000    0.000000         1.000000          0.300000   \n",
       "75%     58.000000    0.000000         2.600000          1.300000   \n",
       "max     90.000000    1.000000        75.000000         19.700000   \n",
       "\n",
       "       Alkaline_Phosphotase  Alamine_Aminotransferase  \\\n",
       "count            570.000000                570.000000   \n",
       "mean             291.750877                 79.728070   \n",
       "std              245.291859                181.471697   \n",
       "min               63.000000                 10.000000   \n",
       "25%              176.000000                 23.000000   \n",
       "50%              208.000000                 35.000000   \n",
       "75%              298.000000                 60.000000   \n",
       "max             2110.000000               2000.000000   \n",
       "\n",
       "       Aspartate_Aminotransferase  Total_Protiens     Albumin  \\\n",
       "count                  570.000000      570.000000  570.000000   \n",
       "mean                   109.380702        6.496316    3.148947   \n",
       "std                    290.880671        1.088300    0.796813   \n",
       "min                     10.000000        2.700000    0.900000   \n",
       "25%                     25.000000        5.800000    2.600000   \n",
       "50%                     41.000000        6.600000    3.100000   \n",
       "75%                     86.750000        7.200000    3.800000   \n",
       "max                   4929.000000        9.600000    5.500000   \n",
       "\n",
       "       Albumin_and_Globulin_Ratio      Target  \n",
       "count                  566.000000  570.000000  \n",
       "mean                     0.948004    0.712281  \n",
       "std                      0.319635    0.453097  \n",
       "min                      0.300000    0.000000  \n",
       "25%                      0.700000    0.000000  \n",
       "50%                      0.950000    1.000000  \n",
       "75%                      1.100000    1.000000  \n",
       "max                      2.800000    1.000000  "
      ]
     },
     "execution_count": 190,
     "metadata": {},
     "output_type": "execute_result"
    }
   ],
   "source": [
    "dados.describe()"
   ]
  },
  {
   "attachments": {},
   "cell_type": "markdown",
   "id": "f1d60a92",
   "metadata": {},
   "source": [
    "A partir do *describe()* no nosso dataset, observamos que as variáveis \"Alamine_Aminotransferase\" e \"Aspartate_Aminotransferase\" possuem valores máximos muito acima da média. Portanto, vale verificar de fato, se vamos considerar esses valores como outliers ou não."
   ]
  },
  {
   "cell_type": "code",
   "execution_count": 191,
   "id": "9f9862e2",
   "metadata": {},
   "outputs": [
    {
     "data": {
      "text/plain": [
       "<Axes: >"
      ]
     },
     "execution_count": 191,
     "metadata": {},
     "output_type": "execute_result"
    },
    {
     "data": {
      "image/png": "[encoded data removed]",
      "text/plain": [
       "<Figure size 640x480 with 1 Axes>"
      ]
     },
     "metadata": {},
     "output_type": "display_data"
    }
   ],
   "source": [
    "sns.boxplot(dados.Alamine_Aminotransferase)"
   ]
  },
  {
   "cell_type": "code",
   "execution_count": 192,
   "id": "51904eb1",
   "metadata": {},
   "outputs": [
    {
     "data": {
      "text/plain": [
       "117    2000\n",
       "27     1680\n",
       "47     1630\n",
       "118    1350\n",
       "135    1250\n",
       "Name: Alamine_Aminotransferase, dtype: int64"
      ]
     },
     "execution_count": 192,
     "metadata": {},
     "output_type": "execute_result"
    }
   ],
   "source": [
    "#Contaegem de frequência por valor\n",
    "dados.Alamine_Aminotransferase.sort_values(ascending=False).head()"
   ]
  },
  {
   "attachments": {},
   "cell_type": "markdown",
   "id": "1d843162",
   "metadata": {},
   "source": [
    "Considerando os 5 maiores valores para esta variável, podemos ver que não necessariamente são outliers, pois temos muitos pacientes com os valores extremos."
   ]
  },
  {
   "cell_type": "code",
   "execution_count": 193,
   "id": "c3f8887b",
   "metadata": {},
   "outputs": [
    {
     "data": {
      "text/plain": [
       "<Axes: >"
      ]
     },
     "execution_count": 193,
     "metadata": {},
     "output_type": "execute_result"
    },
    {
     "data": {
      "image/png": "[encoded data removed]",
      "text/plain": [
       "<Figure size 640x480 with 1 Axes>"
      ]
     },
     "metadata": {},
     "output_type": "display_data"
    }
   ],
   "source": [
    "sns.boxplot(dados.Aspartate_Aminotransferase)"
   ]
  },
  {
   "cell_type": "code",
   "execution_count": 194,
   "id": "be9f413c",
   "metadata": {},
   "outputs": [
    {
     "data": {
      "text/plain": [
       "135    4929\n",
       "117    2946\n",
       "118    1600\n",
       "207    1500\n",
       "199    1050\n",
       "Name: Aspartate_Aminotransferase, dtype: int64"
      ]
     },
     "execution_count": 194,
     "metadata": {},
     "output_type": "execute_result"
    }
   ],
   "source": [
    "#Contaegem de frequência por valor\n",
    "dados.Aspartate_Aminotransferase.sort_values(ascending=False).head()"
   ]
  },
  {
   "attachments": {},
   "cell_type": "markdown",
   "id": "54192796",
   "metadata": {},
   "source": [
    "Novamente, podemos ver que não necessariamente são outliers, pois temos muitos pacientes com os valores extremos. Porém, nesta variável a diferença entre a média e o valor extremo é muito alta!  \n",
    "  \n",
    "Para esta variável, vamos remover os registros com os valores extremos."
   ]
  },
  {
   "cell_type": "code",
   "execution_count": 195,
   "id": "9bb66617",
   "metadata": {},
   "outputs": [
    {
     "data": {
      "text/plain": [
       "(569, 11)"
      ]
     },
     "execution_count": 195,
     "metadata": {},
     "output_type": "execute_result"
    }
   ],
   "source": [
    "# Manter somente os registros onde o valor for menor ou igual a 3000\n",
    "dados = dados[dados.Aspartate_Aminotransferase <= 3000]\n",
    "dados.shape"
   ]
  },
  {
   "cell_type": "code",
   "execution_count": 196,
   "id": "a39f9ae4",
   "metadata": {},
   "outputs": [
    {
     "data": {
      "text/plain": [
       "<Axes: >"
      ]
     },
     "execution_count": 196,
     "metadata": {},
     "output_type": "execute_result"
    },
    {
     "data": {
      "image/png": "[encoded data removed]",
      "text/plain": [
       "<Figure size 640x480 with 1 Axes>"
      ]
     },
     "metadata": {},
     "output_type": "display_data"
    }
   ],
   "source": [
    "sns.boxplot(dados.Aspartate_Aminotransferase)"
   ]
  },
  {
   "cell_type": "code",
   "execution_count": 197,
   "id": "92ca882d",
   "metadata": {},
   "outputs": [
    {
     "data": {
      "text/plain": [
       "582    24\n",
       "581    32\n",
       "580    49\n",
       "579    31\n",
       "578    34\n",
       "Name: Aspartate_Aminotransferase, dtype: int64"
      ]
     },
     "execution_count": 197,
     "metadata": {},
     "output_type": "execute_result"
    }
   ],
   "source": [
    "# Contagem de frequência por valor\n",
    "dados.Aspartate_Aminotransferase.sort_index(ascending=False).head()"
   ]
  },
  {
   "cell_type": "code",
   "execution_count": 198,
   "id": "16fe2ec0",
   "metadata": {},
   "outputs": [
    {
     "data": {
      "text/plain": [
       "(568, 11)"
      ]
     },
     "execution_count": 198,
     "metadata": {},
     "output_type": "execute_result"
    }
   ],
   "source": [
    "# Manter somente os registros onde o valor for menor ou igual a 2500\n",
    "dados = dados[dados.Aspartate_Aminotransferase <= 2500]\n",
    "dados.shape"
   ]
  },
  {
   "cell_type": "code",
   "execution_count": 199,
   "id": "f708ef33",
   "metadata": {},
   "outputs": [
    {
     "data": {
      "text/html": [
       "<div>\n",
       "<style scoped>\n",
       "    .dataframe tbody tr th:only-of-type {\n",
       "        vertical-align: middle;\n",
       "    }\n",
       "\n",
       "    .dataframe tbody tr th {\n",
       "        vertical-align: top;\n",
       "    }\n",
       "\n",
       "    .dataframe thead th {\n",
       "        text-align: right;\n",
       "    }\n",
       "</style>\n",
       "<table border=\"1\" class=\"dataframe\">\n",
       "  <thead>\n",
       "    <tr style=\"text-align: right;\">\n",
       "      <th></th>\n",
       "      <th>Age</th>\n",
       "      <th>Gender</th>\n",
       "      <th>Total_Bilirubin</th>\n",
       "      <th>Direct_Bilirubin</th>\n",
       "      <th>Alkaline_Phosphotase</th>\n",
       "      <th>Alamine_Aminotransferase</th>\n",
       "      <th>Aspartate_Aminotransferase</th>\n",
       "      <th>Total_Protiens</th>\n",
       "      <th>Albumin</th>\n",
       "      <th>Albumin_and_Globulin_Ratio</th>\n",
       "      <th>Target</th>\n",
       "    </tr>\n",
       "  </thead>\n",
       "  <tbody>\n",
       "    <tr>\n",
       "      <th>count</th>\n",
       "      <td>568.000000</td>\n",
       "      <td>568.000000</td>\n",
       "      <td>568.000000</td>\n",
       "      <td>568.000000</td>\n",
       "      <td>568.000000</td>\n",
       "      <td>568.000000</td>\n",
       "      <td>568.000000</td>\n",
       "      <td>568.000000</td>\n",
       "      <td>568.000000</td>\n",
       "      <td>564.000000</td>\n",
       "      <td>568.000000</td>\n",
       "    </tr>\n",
       "    <tr>\n",
       "      <th>mean</th>\n",
       "      <td>44.834507</td>\n",
       "      <td>0.246479</td>\n",
       "      <td>3.291197</td>\n",
       "      <td>1.482042</td>\n",
       "      <td>290.482394</td>\n",
       "      <td>74.286972</td>\n",
       "      <td>95.901408</td>\n",
       "      <td>6.496831</td>\n",
       "      <td>3.150000</td>\n",
       "      <td>0.948174</td>\n",
       "      <td>0.711268</td>\n",
       "    </tr>\n",
       "    <tr>\n",
       "      <th>std</th>\n",
       "      <td>16.237569</td>\n",
       "      <td>0.431340</td>\n",
       "      <td>6.257583</td>\n",
       "      <td>2.826056</td>\n",
       "      <td>243.271522</td>\n",
       "      <td>155.240601</td>\n",
       "      <td>171.956479</td>\n",
       "      <td>1.089500</td>\n",
       "      <td>0.797571</td>\n",
       "      <td>0.319301</td>\n",
       "      <td>0.453573</td>\n",
       "    </tr>\n",
       "    <tr>\n",
       "      <th>min</th>\n",
       "      <td>4.000000</td>\n",
       "      <td>0.000000</td>\n",
       "      <td>0.400000</td>\n",
       "      <td>0.100000</td>\n",
       "      <td>63.000000</td>\n",
       "      <td>10.000000</td>\n",
       "      <td>10.000000</td>\n",
       "      <td>2.700000</td>\n",
       "      <td>0.900000</td>\n",
       "      <td>0.300000</td>\n",
       "      <td>0.000000</td>\n",
       "    </tr>\n",
       "    <tr>\n",
       "      <th>25%</th>\n",
       "      <td>33.000000</td>\n",
       "      <td>0.000000</td>\n",
       "      <td>0.800000</td>\n",
       "      <td>0.200000</td>\n",
       "      <td>175.750000</td>\n",
       "      <td>23.000000</td>\n",
       "      <td>25.000000</td>\n",
       "      <td>5.800000</td>\n",
       "      <td>2.600000</td>\n",
       "      <td>0.700000</td>\n",
       "      <td>0.000000</td>\n",
       "    </tr>\n",
       "    <tr>\n",
       "      <th>50%</th>\n",
       "      <td>45.000000</td>\n",
       "      <td>0.000000</td>\n",
       "      <td>1.000000</td>\n",
       "      <td>0.300000</td>\n",
       "      <td>208.000000</td>\n",
       "      <td>35.000000</td>\n",
       "      <td>41.000000</td>\n",
       "      <td>6.600000</td>\n",
       "      <td>3.100000</td>\n",
       "      <td>0.950000</td>\n",
       "      <td>1.000000</td>\n",
       "    </tr>\n",
       "    <tr>\n",
       "      <th>75%</th>\n",
       "      <td>58.000000</td>\n",
       "      <td>0.000000</td>\n",
       "      <td>2.600000</td>\n",
       "      <td>1.300000</td>\n",
       "      <td>298.000000</td>\n",
       "      <td>60.000000</td>\n",
       "      <td>86.000000</td>\n",
       "      <td>7.200000</td>\n",
       "      <td>3.800000</td>\n",
       "      <td>1.100000</td>\n",
       "      <td>1.000000</td>\n",
       "    </tr>\n",
       "    <tr>\n",
       "      <th>max</th>\n",
       "      <td>90.000000</td>\n",
       "      <td>1.000000</td>\n",
       "      <td>75.000000</td>\n",
       "      <td>19.700000</td>\n",
       "      <td>2110.000000</td>\n",
       "      <td>1680.000000</td>\n",
       "      <td>1600.000000</td>\n",
       "      <td>9.600000</td>\n",
       "      <td>5.500000</td>\n",
       "      <td>2.800000</td>\n",
       "      <td>1.000000</td>\n",
       "    </tr>\n",
       "  </tbody>\n",
       "</table>\n",
       "</div>"
      ],
      "text/plain": [
       "              Age      Gender  Total_Bilirubin  Direct_Bilirubin  \\\n",
       "count  568.000000  568.000000       568.000000        568.000000   \n",
       "mean    44.834507    0.246479         3.291197          1.482042   \n",
       "std     16.237569    0.431340         6.257583          2.826056   \n",
       "min      4.000000    0.000000         0.400000          0.100000   \n",
       "25%     33.000000    0.000000         0.800000          0.200000   \n",
       "50%     45.000000    0.000000         1.000000          0.300000   \n",
       "75%     58.000000    0.000000         2.600000          1.300000   \n",
       "max     90.000000    1.000000        75.000000         19.700000   \n",
       "\n",
       "       Alkaline_Phosphotase  Alamine_Aminotransferase  \\\n",
       "count            568.000000                568.000000   \n",
       "mean             290.482394                 74.286972   \n",
       "std              243.271522                155.240601   \n",
       "min               63.000000                 10.000000   \n",
       "25%              175.750000                 23.000000   \n",
       "50%              208.000000                 35.000000   \n",
       "75%              298.000000                 60.000000   \n",
       "max             2110.000000               1680.000000   \n",
       "\n",
       "       Aspartate_Aminotransferase  Total_Protiens     Albumin  \\\n",
       "count                  568.000000      568.000000  568.000000   \n",
       "mean                    95.901408        6.496831    3.150000   \n",
       "std                    171.956479        1.089500    0.797571   \n",
       "min                     10.000000        2.700000    0.900000   \n",
       "25%                     25.000000        5.800000    2.600000   \n",
       "50%                     41.000000        6.600000    3.100000   \n",
       "75%                     86.000000        7.200000    3.800000   \n",
       "max                   1600.000000        9.600000    5.500000   \n",
       "\n",
       "       Albumin_and_Globulin_Ratio      Target  \n",
       "count                  564.000000  568.000000  \n",
       "mean                     0.948174    0.711268  \n",
       "std                      0.319301    0.453573  \n",
       "min                      0.300000    0.000000  \n",
       "25%                      0.700000    0.000000  \n",
       "50%                      0.950000    1.000000  \n",
       "75%                      1.100000    1.000000  \n",
       "max                      2.800000    1.000000  "
      ]
     },
     "execution_count": 199,
     "metadata": {},
     "output_type": "execute_result"
    }
   ],
   "source": [
    "dados.describe()"
   ]
  },
  {
   "attachments": {},
   "cell_type": "markdown",
   "id": "3478ed60",
   "metadata": {},
   "source": [
    "Veja que o valor máximo da variável Alamine_Aminotransferase também dimunui, com a remoção do último paciente."
   ]
  },
  {
   "attachments": {},
   "cell_type": "markdown",
   "id": "4ea574a9",
   "metadata": {},
   "source": [
    "## 3.1- Tratamento de Valores Ausentes"
   ]
  },
  {
   "cell_type": "markdown",
   "id": "1f0cca74",
   "metadata": {},
   "source": [
    "Verificando se há valores ausentes:"
   ]
  },
  {
   "cell_type": "code",
   "execution_count": 200,
   "id": "29e2ded9",
   "metadata": {},
   "outputs": [
    {
     "data": {
      "text/plain": [
       "True"
      ]
     },
     "execution_count": 200,
     "metadata": {},
     "output_type": "execute_result"
    }
   ],
   "source": [
    "dados.isnull().values.any()"
   ]
  },
  {
   "cell_type": "code",
   "execution_count": 201,
   "id": "bf2c36f2",
   "metadata": {},
   "outputs": [
    {
     "data": {
      "text/plain": [
       "1"
      ]
     },
     "execution_count": 201,
     "metadata": {},
     "output_type": "execute_result"
    }
   ],
   "source": [
    "#Verifica quantas colunas tem valor ausente\n",
    "dados.isnull().values.any().sum()"
   ]
  },
  {
   "cell_type": "markdown",
   "id": "e8133e57",
   "metadata": {},
   "source": [
    "Apenas uma variável possui valores ausentes."
   ]
  },
  {
   "cell_type": "code",
   "execution_count": 202,
   "id": "3d6161fa",
   "metadata": {},
   "outputs": [
    {
     "data": {
      "text/html": [
       "<div>\n",
       "<style scoped>\n",
       "    .dataframe tbody tr th:only-of-type {\n",
       "        vertical-align: middle;\n",
       "    }\n",
       "\n",
       "    .dataframe tbody tr th {\n",
       "        vertical-align: top;\n",
       "    }\n",
       "\n",
       "    .dataframe thead th {\n",
       "        text-align: right;\n",
       "    }\n",
       "</style>\n",
       "<table border=\"1\" class=\"dataframe\">\n",
       "  <thead>\n",
       "    <tr style=\"text-align: right;\">\n",
       "      <th></th>\n",
       "      <th>Age</th>\n",
       "      <th>Gender</th>\n",
       "      <th>Total_Bilirubin</th>\n",
       "      <th>Direct_Bilirubin</th>\n",
       "      <th>Alkaline_Phosphotase</th>\n",
       "      <th>Alamine_Aminotransferase</th>\n",
       "      <th>Aspartate_Aminotransferase</th>\n",
       "      <th>Total_Protiens</th>\n",
       "      <th>Albumin</th>\n",
       "      <th>Albumin_and_Globulin_Ratio</th>\n",
       "      <th>Target</th>\n",
       "    </tr>\n",
       "  </thead>\n",
       "  <tbody>\n",
       "    <tr>\n",
       "      <th>209</th>\n",
       "      <td>45</td>\n",
       "      <td>1</td>\n",
       "      <td>0.9</td>\n",
       "      <td>0.3</td>\n",
       "      <td>189</td>\n",
       "      <td>23</td>\n",
       "      <td>33</td>\n",
       "      <td>6.6</td>\n",
       "      <td>3.9</td>\n",
       "      <td>NaN</td>\n",
       "      <td>1</td>\n",
       "    </tr>\n",
       "    <tr>\n",
       "      <th>241</th>\n",
       "      <td>51</td>\n",
       "      <td>0</td>\n",
       "      <td>0.8</td>\n",
       "      <td>0.2</td>\n",
       "      <td>230</td>\n",
       "      <td>24</td>\n",
       "      <td>46</td>\n",
       "      <td>6.5</td>\n",
       "      <td>3.1</td>\n",
       "      <td>NaN</td>\n",
       "      <td>1</td>\n",
       "    </tr>\n",
       "    <tr>\n",
       "      <th>253</th>\n",
       "      <td>35</td>\n",
       "      <td>1</td>\n",
       "      <td>0.6</td>\n",
       "      <td>0.2</td>\n",
       "      <td>180</td>\n",
       "      <td>12</td>\n",
       "      <td>15</td>\n",
       "      <td>5.2</td>\n",
       "      <td>2.7</td>\n",
       "      <td>NaN</td>\n",
       "      <td>0</td>\n",
       "    </tr>\n",
       "    <tr>\n",
       "      <th>312</th>\n",
       "      <td>27</td>\n",
       "      <td>0</td>\n",
       "      <td>1.3</td>\n",
       "      <td>0.6</td>\n",
       "      <td>106</td>\n",
       "      <td>25</td>\n",
       "      <td>54</td>\n",
       "      <td>8.5</td>\n",
       "      <td>4.8</td>\n",
       "      <td>NaN</td>\n",
       "      <td>0</td>\n",
       "    </tr>\n",
       "  </tbody>\n",
       "</table>\n",
       "</div>"
      ],
      "text/plain": [
       "     Age  Gender  Total_Bilirubin  Direct_Bilirubin  Alkaline_Phosphotase  \\\n",
       "209   45       1              0.9               0.3                   189   \n",
       "241   51       0              0.8               0.2                   230   \n",
       "253   35       1              0.6               0.2                   180   \n",
       "312   27       0              1.3               0.6                   106   \n",
       "\n",
       "     Alamine_Aminotransferase  Aspartate_Aminotransferase  Total_Protiens  \\\n",
       "209                        23                          33             6.6   \n",
       "241                        24                          46             6.5   \n",
       "253                        12                          15             5.2   \n",
       "312                        25                          54             8.5   \n",
       "\n",
       "     Albumin  Albumin_and_Globulin_Ratio  Target  \n",
       "209      3.9                         NaN       1  \n",
       "241      3.1                         NaN       1  \n",
       "253      2.7                         NaN       0  \n",
       "312      4.8                         NaN       0  "
      ]
     },
     "execution_count": 202,
     "metadata": {},
     "output_type": "execute_result"
    }
   ],
   "source": [
    "dados[dados.isnull().values]"
   ]
  },
  {
   "cell_type": "markdown",
   "id": "c9b7036d",
   "metadata": {},
   "source": [
    "Como temos mais de 500 registros, vamos excluir estes registros:"
   ]
  },
  {
   "cell_type": "code",
   "execution_count": 203,
   "id": "41101f66",
   "metadata": {},
   "outputs": [],
   "source": [
    "dados = dados.dropna(how='any')"
   ]
  },
  {
   "cell_type": "code",
   "execution_count": 204,
   "id": "6b91821d",
   "metadata": {},
   "outputs": [],
   "source": [
    "#Verificando se ainda há valores ausentes:"
   ]
  },
  {
   "cell_type": "code",
   "execution_count": 205,
   "id": "e96520c7",
   "metadata": {},
   "outputs": [
    {
     "data": {
      "text/html": [
       "<div>\n",
       "<style scoped>\n",
       "    .dataframe tbody tr th:only-of-type {\n",
       "        vertical-align: middle;\n",
       "    }\n",
       "\n",
       "    .dataframe tbody tr th {\n",
       "        vertical-align: top;\n",
       "    }\n",
       "\n",
       "    .dataframe thead th {\n",
       "        text-align: right;\n",
       "    }\n",
       "</style>\n",
       "<table border=\"1\" class=\"dataframe\">\n",
       "  <thead>\n",
       "    <tr style=\"text-align: right;\">\n",
       "      <th></th>\n",
       "      <th>Age</th>\n",
       "      <th>Gender</th>\n",
       "      <th>Total_Bilirubin</th>\n",
       "      <th>Direct_Bilirubin</th>\n",
       "      <th>Alkaline_Phosphotase</th>\n",
       "      <th>Alamine_Aminotransferase</th>\n",
       "      <th>Aspartate_Aminotransferase</th>\n",
       "      <th>Total_Protiens</th>\n",
       "      <th>Albumin</th>\n",
       "      <th>Albumin_and_Globulin_Ratio</th>\n",
       "      <th>Target</th>\n",
       "    </tr>\n",
       "  </thead>\n",
       "  <tbody>\n",
       "  </tbody>\n",
       "</table>\n",
       "</div>"
      ],
      "text/plain": [
       "Empty DataFrame\n",
       "Columns: [Age, Gender, Total_Bilirubin, Direct_Bilirubin, Alkaline_Phosphotase, Alamine_Aminotransferase, Aspartate_Aminotransferase, Total_Protiens, Albumin, Albumin_and_Globulin_Ratio, Target]\n",
       "Index: []"
      ]
     },
     "execution_count": 205,
     "metadata": {},
     "output_type": "execute_result"
    }
   ],
   "source": [
    "dados[dados.isnull().values]"
   ]
  },
  {
   "cell_type": "markdown",
   "id": "e152a17b",
   "metadata": {},
   "source": [
    "## 3.2 - Pré-Processamento de Dados Para Construção de Modelos de Machine Learning."
   ]
  },
  {
   "cell_type": "markdown",
   "id": "b46a8771",
   "metadata": {},
   "source": [
    "Esta é a última etapa, antes de construir os modelos de ML!"
   ]
  },
  {
   "cell_type": "markdown",
   "id": "226ff980",
   "metadata": {},
   "source": [
    "Dada a alta correlação entre as variáveis Direct_Bilirubin e Total_Bilirubin, vamos remover Direct_Bilirubin:"
   ]
  },
  {
   "cell_type": "code",
   "execution_count": 206,
   "id": "bca90d3d",
   "metadata": {},
   "outputs": [],
   "source": [
    "dados = dados.drop('Direct_Bilirubin', 1)"
   ]
  },
  {
   "cell_type": "markdown",
   "id": "6491a919",
   "metadata": {},
   "source": [
    "**Divisão em Treino e Teste**"
   ]
  },
  {
   "cell_type": "code",
   "execution_count": 207,
   "id": "65a0c39b",
   "metadata": {},
   "outputs": [],
   "source": [
    "# Criando um objeto separado para a variável target\n",
    "y = dados.Target"
   ]
  },
  {
   "cell_type": "code",
   "execution_count": 208,
   "id": "77c786fa",
   "metadata": {},
   "outputs": [],
   "source": [
    "# Criando um objeto separado para as variáveis de entrada\n",
    "X = dados.drop('Target', axis=1)"
   ]
  },
  {
   "cell_type": "code",
   "execution_count": 209,
   "id": "17749104",
   "metadata": {},
   "outputs": [],
   "source": [
    "# Split em dados de treino e teste com amostragem estratificada\n",
    "X_treino, X_teste, y_treino, y_teste = train_test_split(X, y, test_size=0.25, random_state=1234, stratify=dados.Target)"
   ]
  },
  {
   "cell_type": "code",
   "execution_count": 210,
   "id": "1317ab92",
   "metadata": {},
   "outputs": [
    {
     "data": {
      "text/plain": [
       "423"
      ]
     },
     "execution_count": 210,
     "metadata": {},
     "output_type": "execute_result"
    }
   ],
   "source": [
    "len(X_treino)"
   ]
  },
  {
   "cell_type": "code",
   "execution_count": 211,
   "id": "35c5fdb8",
   "metadata": {},
   "outputs": [
    {
     "data": {
      "text/plain": [
       "141"
      ]
     },
     "execution_count": 211,
     "metadata": {},
     "output_type": "execute_result"
    }
   ],
   "source": [
    "len(X_teste)"
   ]
  },
  {
   "cell_type": "markdown",
   "id": "dd2e3296",
   "metadata": {},
   "source": [
    "**Balanceamento de Classe**"
   ]
  },
  {
   "cell_type": "code",
   "execution_count": 212,
   "id": "41a7dcdf",
   "metadata": {},
   "outputs": [
    {
     "data": {
      "text/plain": [
       "1    301\n",
       "0    122\n",
       "Name: Target, dtype: int64"
      ]
     },
     "execution_count": 212,
     "metadata": {},
     "output_type": "execute_result"
    }
   ],
   "source": [
    "y_treino.value_counts()"
   ]
  },
  {
   "cell_type": "markdown",
   "id": "c71681c3",
   "metadata": {},
   "source": [
    "Podemos perceber que 301 pacientes que desenvolveram a doença hepática e 122 pacientes que não desenvolveram hepática. As classes estão desbalanceadas!  \n",
    "Se levarmos os dados como estão para o treinamento dos modelos, ou seja, sem balanceamento; vamos construir um modelo tendencioso! "
   ]
  },
  {
   "cell_type": "markdown",
   "id": "6e98ebb3",
   "metadata": {},
   "source": [
    "Vamos aplicar a técnica de oversampling e aumentar o número de exemplos da classe minoritária:"
   ]
  },
  {
   "cell_type": "code",
   "execution_count": 213,
   "id": "7aa9f540",
   "metadata": {},
   "outputs": [],
   "source": [
    "import imblearn\n",
    "from imblearn.over_sampling import SMOTE\n",
    "\n",
    "# Criando dados sintéticos com base nos dados existentes\n",
    "over_sampler = SMOTE(k_neighbors=2)"
   ]
  },
  {
   "cell_type": "markdown",
   "id": "a75a658e",
   "metadata": {},
   "source": [
    "Vamos realizar o balanceamento de classes somente nos dados de treino, de forma que não haja interferências artificiais introduzidas pelo procedimento de balanceamento e consigamos avaliar o desempenho real do modelo (ou dos modelos)!"
   ]
  },
  {
   "cell_type": "code",
   "execution_count": 214,
   "id": "24126415",
   "metadata": {},
   "outputs": [],
   "source": [
    "# Aplicando o oversampling\n",
    "X_res, y_res = over_sampler.fit_resample(X_treino, y_treino)"
   ]
  },
  {
   "cell_type": "code",
   "execution_count": 215,
   "id": "8a698d5c",
   "metadata": {},
   "outputs": [
    {
     "data": {
      "text/plain": [
       "602"
      ]
     },
     "execution_count": 215,
     "metadata": {},
     "output_type": "execute_result"
    }
   ],
   "source": [
    "len(X_res)"
   ]
  },
  {
   "cell_type": "code",
   "execution_count": 216,
   "id": "0ba5a549",
   "metadata": {},
   "outputs": [
    {
     "data": {
      "text/plain": [
       "602"
      ]
     },
     "execution_count": 216,
     "metadata": {},
     "output_type": "execute_result"
    }
   ],
   "source": [
    "len(y_res)"
   ]
  },
  {
   "cell_type": "code",
   "execution_count": 217,
   "id": "9a5e9e04",
   "metadata": {},
   "outputs": [
    {
     "data": {
      "text/plain": [
       "1    301\n",
       "0    301\n",
       "Name: Target, dtype: int64"
      ]
     },
     "execution_count": 217,
     "metadata": {},
     "output_type": "execute_result"
    }
   ],
   "source": [
    "y_res.value_counts()"
   ]
  },
  {
   "cell_type": "code",
   "execution_count": 218,
   "id": "8c417d1d",
   "metadata": {},
   "outputs": [],
   "source": [
    "#Ajustando os nomes\n",
    "X_treino = X_res"
   ]
  },
  {
   "cell_type": "code",
   "execution_count": 219,
   "metadata": {},
   "outputs": [],
   "source": [
    "y_treino = y_res"
   ]
  },
  {
   "cell_type": "markdown",
   "id": "f5828d69",
   "metadata": {},
   "source": [
    "**Padronização dos Dados**"
   ]
  },
  {
   "cell_type": "markdown",
   "id": "74344636",
   "metadata": {},
   "source": [
    "Podemos perceber que os dados não estão na mesma escala. Vejamos:"
   ]
  },
  {
   "cell_type": "code",
   "execution_count": 220,
   "id": "7f2a570a",
   "metadata": {},
   "outputs": [
    {
     "data": {
      "text/html": [
       "<div>\n",
       "<style scoped>\n",
       "    .dataframe tbody tr th:only-of-type {\n",
       "        vertical-align: middle;\n",
       "    }\n",
       "\n",
       "    .dataframe tbody tr th {\n",
       "        vertical-align: top;\n",
       "    }\n",
       "\n",
       "    .dataframe thead th {\n",
       "        text-align: right;\n",
       "    }\n",
       "</style>\n",
       "<table border=\"1\" class=\"dataframe\">\n",
       "  <thead>\n",
       "    <tr style=\"text-align: right;\">\n",
       "      <th></th>\n",
       "      <th>Age</th>\n",
       "      <th>Gender</th>\n",
       "      <th>Total_Bilirubin</th>\n",
       "      <th>Alkaline_Phosphotase</th>\n",
       "      <th>Alamine_Aminotransferase</th>\n",
       "      <th>Aspartate_Aminotransferase</th>\n",
       "      <th>Total_Protiens</th>\n",
       "      <th>Albumin</th>\n",
       "      <th>Albumin_and_Globulin_Ratio</th>\n",
       "    </tr>\n",
       "  </thead>\n",
       "  <tbody>\n",
       "    <tr>\n",
       "      <th>0</th>\n",
       "      <td>45</td>\n",
       "      <td>0</td>\n",
       "      <td>2.5</td>\n",
       "      <td>163</td>\n",
       "      <td>28</td>\n",
       "      <td>22</td>\n",
       "      <td>7.6</td>\n",
       "      <td>4.0</td>\n",
       "      <td>1.1</td>\n",
       "    </tr>\n",
       "    <tr>\n",
       "      <th>1</th>\n",
       "      <td>72</td>\n",
       "      <td>0</td>\n",
       "      <td>0.8</td>\n",
       "      <td>148</td>\n",
       "      <td>23</td>\n",
       "      <td>35</td>\n",
       "      <td>6.0</td>\n",
       "      <td>3.0</td>\n",
       "      <td>1.0</td>\n",
       "    </tr>\n",
       "    <tr>\n",
       "      <th>2</th>\n",
       "      <td>18</td>\n",
       "      <td>0</td>\n",
       "      <td>0.8</td>\n",
       "      <td>282</td>\n",
       "      <td>72</td>\n",
       "      <td>140</td>\n",
       "      <td>5.5</td>\n",
       "      <td>2.5</td>\n",
       "      <td>0.8</td>\n",
       "    </tr>\n",
       "    <tr>\n",
       "      <th>3</th>\n",
       "      <td>42</td>\n",
       "      <td>0</td>\n",
       "      <td>8.9</td>\n",
       "      <td>272</td>\n",
       "      <td>31</td>\n",
       "      <td>61</td>\n",
       "      <td>5.8</td>\n",
       "      <td>2.0</td>\n",
       "      <td>0.5</td>\n",
       "    </tr>\n",
       "    <tr>\n",
       "      <th>4</th>\n",
       "      <td>42</td>\n",
       "      <td>0</td>\n",
       "      <td>0.8</td>\n",
       "      <td>127</td>\n",
       "      <td>29</td>\n",
       "      <td>30</td>\n",
       "      <td>4.9</td>\n",
       "      <td>2.7</td>\n",
       "      <td>1.2</td>\n",
       "    </tr>\n",
       "  </tbody>\n",
       "</table>\n",
       "</div>"
      ],
      "text/plain": [
       "   Age  Gender  Total_Bilirubin  Alkaline_Phosphotase  \\\n",
       "0   45       0              2.5                   163   \n",
       "1   72       0              0.8                   148   \n",
       "2   18       0              0.8                   282   \n",
       "3   42       0              8.9                   272   \n",
       "4   42       0              0.8                   127   \n",
       "\n",
       "   Alamine_Aminotransferase  Aspartate_Aminotransferase  Total_Protiens  \\\n",
       "0                        28                          22             7.6   \n",
       "1                        23                          35             6.0   \n",
       "2                        72                         140             5.5   \n",
       "3                        31                          61             5.8   \n",
       "4                        29                          30             4.9   \n",
       "\n",
       "   Albumin  Albumin_and_Globulin_Ratio  \n",
       "0      4.0                         1.1  \n",
       "1      3.0                         1.0  \n",
       "2      2.5                         0.8  \n",
       "3      2.0                         0.5  \n",
       "4      2.7                         1.2  "
      ]
     },
     "execution_count": 220,
     "metadata": {},
     "output_type": "execute_result"
    }
   ],
   "source": [
    "X_treino.head()"
   ]
  },
  {
   "cell_type": "markdown",
   "id": "18b4bf69",
   "metadata": {},
   "source": [
    "Na modelagem preditiva, é importante destacar que a grande maioria algoritmos de ML têm como suposição, que os dados estejam na mesma escala. Se não entregarmos dados na mesma escala para os algoritmos, qualquer avaliação do resultado (*mesmo que seja boa!*) será equivocada!  \n",
    "  \n",
    "Primeiro, vamos calcular a média dos dados de entrada (treino):"
   ]
  },
  {
   "cell_type": "code",
   "execution_count": 221,
   "id": "ad3aa67a",
   "metadata": {},
   "outputs": [
    {
     "name": "stdout",
     "output_type": "stream",
     "text": [
      "Age                            43.506645\n",
      "Gender                          0.215947\n",
      "Total_Bilirubin                 2.679942\n",
      "Alkaline_Phosphotase          268.257475\n",
      "Alamine_Aminotransferase       63.023256\n",
      "Aspartate_Aminotransferase     78.549834\n",
      "Total_Protiens                  6.524488\n",
      "Albumin                         3.247546\n",
      "Albumin_and_Globulin_Ratio      0.998920\n",
      "dtype: float64\n",
      "Age                            16.266012\n",
      "Gender                          0.411820\n",
      "Total_Bilirubin                 5.563261\n",
      "Alkaline_Phosphotase          223.923764\n",
      "Alamine_Aminotransferase      139.939193\n",
      "Aspartate_Aminotransferase    144.066950\n",
      "Total_Protiens                  1.017616\n",
      "Albumin                         0.753943\n",
      "Albumin_and_Globulin_Ratio      0.306373\n",
      "dtype: float64\n"
     ]
    }
   ],
   "source": [
    "treino_mean = X_treino.mean()\n",
    "treino_std = X_treino.std()\n",
    "print(treino_mean)\n",
    "print(treino_std)"
   ]
  },
  {
   "cell_type": "markdown",
   "id": "bcf650c2",
   "metadata": {},
   "source": [
    "Agora, vamos modificar os dados, sem perder a informação!  \n",
    " \n",
    "Aplicando a padronização:"
   ]
  },
  {
   "cell_type": "code",
   "execution_count": 222,
   "id": "6f2e318f",
   "metadata": {},
   "outputs": [],
   "source": [
    "X_treino = (X_treino - treino_mean) / treino_std"
   ]
  },
  {
   "cell_type": "code",
   "execution_count": 223,
   "id": "e384670b",
   "metadata": {},
   "outputs": [
    {
     "data": {
      "text/html": [
       "<div>\n",
       "<style scoped>\n",
       "    .dataframe tbody tr th:only-of-type {\n",
       "        vertical-align: middle;\n",
       "    }\n",
       "\n",
       "    .dataframe tbody tr th {\n",
       "        vertical-align: top;\n",
       "    }\n",
       "\n",
       "    .dataframe thead th {\n",
       "        text-align: right;\n",
       "    }\n",
       "</style>\n",
       "<table border=\"1\" class=\"dataframe\">\n",
       "  <thead>\n",
       "    <tr style=\"text-align: right;\">\n",
       "      <th></th>\n",
       "      <th>Age</th>\n",
       "      <th>Gender</th>\n",
       "      <th>Total_Bilirubin</th>\n",
       "      <th>Alkaline_Phosphotase</th>\n",
       "      <th>Alamine_Aminotransferase</th>\n",
       "      <th>Aspartate_Aminotransferase</th>\n",
       "      <th>Total_Protiens</th>\n",
       "      <th>Albumin</th>\n",
       "      <th>Albumin_and_Globulin_Ratio</th>\n",
       "    </tr>\n",
       "  </thead>\n",
       "  <tbody>\n",
       "    <tr>\n",
       "      <th>0</th>\n",
       "      <td>0.091808</td>\n",
       "      <td>-0.524372</td>\n",
       "      <td>-0.032345</td>\n",
       "      <td>-0.470059</td>\n",
       "      <td>-0.250275</td>\n",
       "      <td>-0.392525</td>\n",
       "      <td>1.056893</td>\n",
       "      <td>0.998026</td>\n",
       "      <td>0.329925</td>\n",
       "    </tr>\n",
       "    <tr>\n",
       "      <th>1</th>\n",
       "      <td>1.751711</td>\n",
       "      <td>-0.524372</td>\n",
       "      <td>-0.337921</td>\n",
       "      <td>-0.537047</td>\n",
       "      <td>-0.286005</td>\n",
       "      <td>-0.302289</td>\n",
       "      <td>-0.515409</td>\n",
       "      <td>-0.328335</td>\n",
       "      <td>0.003525</td>\n",
       "    </tr>\n",
       "    <tr>\n",
       "      <th>2</th>\n",
       "      <td>-1.568095</td>\n",
       "      <td>-0.524372</td>\n",
       "      <td>-0.337921</td>\n",
       "      <td>0.061371</td>\n",
       "      <td>0.064147</td>\n",
       "      <td>0.426539</td>\n",
       "      <td>-1.006753</td>\n",
       "      <td>-0.991516</td>\n",
       "      <td>-0.649274</td>\n",
       "    </tr>\n",
       "    <tr>\n",
       "      <th>3</th>\n",
       "      <td>-0.092625</td>\n",
       "      <td>-0.524372</td>\n",
       "      <td>1.118060</td>\n",
       "      <td>0.016713</td>\n",
       "      <td>-0.228837</td>\n",
       "      <td>-0.121817</td>\n",
       "      <td>-0.711947</td>\n",
       "      <td>-1.654696</td>\n",
       "      <td>-1.628473</td>\n",
       "    </tr>\n",
       "    <tr>\n",
       "      <th>4</th>\n",
       "      <td>-0.092625</td>\n",
       "      <td>-0.524372</td>\n",
       "      <td>-0.337921</td>\n",
       "      <td>-0.630828</td>\n",
       "      <td>-0.243129</td>\n",
       "      <td>-0.336995</td>\n",
       "      <td>-1.596367</td>\n",
       "      <td>-0.726244</td>\n",
       "      <td>0.656325</td>\n",
       "    </tr>\n",
       "  </tbody>\n",
       "</table>\n",
       "</div>"
      ],
      "text/plain": [
       "        Age    Gender  Total_Bilirubin  Alkaline_Phosphotase  \\\n",
       "0  0.091808 -0.524372        -0.032345             -0.470059   \n",
       "1  1.751711 -0.524372        -0.337921             -0.537047   \n",
       "2 -1.568095 -0.524372        -0.337921              0.061371   \n",
       "3 -0.092625 -0.524372         1.118060              0.016713   \n",
       "4 -0.092625 -0.524372        -0.337921             -0.630828   \n",
       "\n",
       "   Alamine_Aminotransferase  Aspartate_Aminotransferase  Total_Protiens  \\\n",
       "0                 -0.250275                   -0.392525        1.056893   \n",
       "1                 -0.286005                   -0.302289       -0.515409   \n",
       "2                  0.064147                    0.426539       -1.006753   \n",
       "3                 -0.228837                   -0.121817       -0.711947   \n",
       "4                 -0.243129                   -0.336995       -1.596367   \n",
       "\n",
       "    Albumin  Albumin_and_Globulin_Ratio  \n",
       "0  0.998026                    0.329925  \n",
       "1 -0.328335                    0.003525  \n",
       "2 -0.991516                   -0.649274  \n",
       "3 -1.654696                   -1.628473  \n",
       "4 -0.726244                    0.656325  "
      ]
     },
     "execution_count": 223,
     "metadata": {},
     "output_type": "execute_result"
    }
   ],
   "source": [
    "X_treino.head()"
   ]
  },
  {
   "cell_type": "code",
   "execution_count": 224,
   "id": "73daef99",
   "metadata": {},
   "outputs": [
    {
     "data": {
      "text/html": [
       "<div>\n",
       "<style scoped>\n",
       "    .dataframe tbody tr th:only-of-type {\n",
       "        vertical-align: middle;\n",
       "    }\n",
       "\n",
       "    .dataframe tbody tr th {\n",
       "        vertical-align: top;\n",
       "    }\n",
       "\n",
       "    .dataframe thead th {\n",
       "        text-align: right;\n",
       "    }\n",
       "</style>\n",
       "<table border=\"1\" class=\"dataframe\">\n",
       "  <thead>\n",
       "    <tr style=\"text-align: right;\">\n",
       "      <th></th>\n",
       "      <th>Age</th>\n",
       "      <th>Gender</th>\n",
       "      <th>Total_Bilirubin</th>\n",
       "      <th>Alkaline_Phosphotase</th>\n",
       "      <th>Alamine_Aminotransferase</th>\n",
       "      <th>Aspartate_Aminotransferase</th>\n",
       "      <th>Total_Protiens</th>\n",
       "      <th>Albumin</th>\n",
       "      <th>Albumin_and_Globulin_Ratio</th>\n",
       "    </tr>\n",
       "  </thead>\n",
       "  <tbody>\n",
       "    <tr>\n",
       "      <th>count</th>\n",
       "      <td>6.020000e+02</td>\n",
       "      <td>6.020000e+02</td>\n",
       "      <td>6.020000e+02</td>\n",
       "      <td>6.020000e+02</td>\n",
       "      <td>6.020000e+02</td>\n",
       "      <td>6.020000e+02</td>\n",
       "      <td>6.020000e+02</td>\n",
       "      <td>6.020000e+02</td>\n",
       "      <td>6.020000e+02</td>\n",
       "    </tr>\n",
       "    <tr>\n",
       "      <th>mean</th>\n",
       "      <td>8.852277e-17</td>\n",
       "      <td>-4.721214e-17</td>\n",
       "      <td>2.360607e-17</td>\n",
       "      <td>-5.901518e-18</td>\n",
       "      <td>-5.901518e-18</td>\n",
       "      <td>-1.180304e-17</td>\n",
       "      <td>-1.408987e-16</td>\n",
       "      <td>3.540911e-17</td>\n",
       "      <td>-5.665457e-16</td>\n",
       "    </tr>\n",
       "    <tr>\n",
       "      <th>std</th>\n",
       "      <td>1.000000e+00</td>\n",
       "      <td>1.000000e+00</td>\n",
       "      <td>1.000000e+00</td>\n",
       "      <td>1.000000e+00</td>\n",
       "      <td>1.000000e+00</td>\n",
       "      <td>1.000000e+00</td>\n",
       "      <td>1.000000e+00</td>\n",
       "      <td>1.000000e+00</td>\n",
       "      <td>1.000000e+00</td>\n",
       "    </tr>\n",
       "    <tr>\n",
       "      <th>min</th>\n",
       "      <td>-2.428785e+00</td>\n",
       "      <td>-5.243722e-01</td>\n",
       "      <td>-4.098211e-01</td>\n",
       "      <td>-9.166400e-01</td>\n",
       "      <td>-3.789021e-01</td>\n",
       "      <td>-4.758193e-01</td>\n",
       "      <td>-3.758282e+00</td>\n",
       "      <td>-3.113693e+00</td>\n",
       "      <td>-2.281272e+00</td>\n",
       "    </tr>\n",
       "    <tr>\n",
       "      <th>25%</th>\n",
       "      <td>-7.074042e-01</td>\n",
       "      <td>-5.243722e-01</td>\n",
       "      <td>-3.395032e-01</td>\n",
       "      <td>-4.298672e-01</td>\n",
       "      <td>-2.860046e-01</td>\n",
       "      <td>-3.786422e-01</td>\n",
       "      <td>-6.590940e-01</td>\n",
       "      <td>-6.164882e-01</td>\n",
       "      <td>-6.492738e-01</td>\n",
       "    </tr>\n",
       "    <tr>\n",
       "      <th>50%</th>\n",
       "      <td>9.180833e-02</td>\n",
       "      <td>-5.243722e-01</td>\n",
       "      <td>-3.160793e-01</td>\n",
       "      <td>-3.115233e-01</td>\n",
       "      <td>-2.216910e-01</td>\n",
       "      <td>-2.849358e-01</td>\n",
       "      <td>7.420437e-02</td>\n",
       "      <td>-3.451790e-03</td>\n",
       "      <td>3.525391e-03</td>\n",
       "    </tr>\n",
       "    <tr>\n",
       "      <th>75%</th>\n",
       "      <td>7.065872e-01</td>\n",
       "      <td>-5.243722e-01</td>\n",
       "      <td>-1.401951e-01</td>\n",
       "      <td>6.137144e-02</td>\n",
       "      <td>-7.162579e-02</td>\n",
       "      <td>-7.322869e-02</td>\n",
       "      <td>6.638177e-01</td>\n",
       "      <td>8.180963e-01</td>\n",
       "      <td>6.133073e-01</td>\n",
       "    </tr>\n",
       "    <tr>\n",
       "      <th>max</th>\n",
       "      <td>2.858313e+00</td>\n",
       "      <td>1.903874e+00</td>\n",
       "      <td>1.299958e+01</td>\n",
       "      <td>8.224864e+00</td>\n",
       "      <td>1.155485e+01</td>\n",
       "      <td>1.056072e+01</td>\n",
       "      <td>3.022271e+00</td>\n",
       "      <td>2.987567e+00</td>\n",
       "      <td>5.878718e+00</td>\n",
       "    </tr>\n",
       "  </tbody>\n",
       "</table>\n",
       "</div>"
      ],
      "text/plain": [
       "                Age        Gender  Total_Bilirubin  Alkaline_Phosphotase  \\\n",
       "count  6.020000e+02  6.020000e+02     6.020000e+02          6.020000e+02   \n",
       "mean   8.852277e-17 -4.721214e-17     2.360607e-17         -5.901518e-18   \n",
       "std    1.000000e+00  1.000000e+00     1.000000e+00          1.000000e+00   \n",
       "min   -2.428785e+00 -5.243722e-01    -4.098211e-01         -9.166400e-01   \n",
       "25%   -7.074042e-01 -5.243722e-01    -3.395032e-01         -4.298672e-01   \n",
       "50%    9.180833e-02 -5.243722e-01    -3.160793e-01         -3.115233e-01   \n",
       "75%    7.065872e-01 -5.243722e-01    -1.401951e-01          6.137144e-02   \n",
       "max    2.858313e+00  1.903874e+00     1.299958e+01          8.224864e+00   \n",
       "\n",
       "       Alamine_Aminotransferase  Aspartate_Aminotransferase  Total_Protiens  \\\n",
       "count              6.020000e+02                6.020000e+02    6.020000e+02   \n",
       "mean              -5.901518e-18               -1.180304e-17   -1.408987e-16   \n",
       "std                1.000000e+00                1.000000e+00    1.000000e+00   \n",
       "min               -3.789021e-01               -4.758193e-01   -3.758282e+00   \n",
       "25%               -2.860046e-01               -3.786422e-01   -6.590940e-01   \n",
       "50%               -2.216910e-01               -2.849358e-01    7.420437e-02   \n",
       "75%               -7.162579e-02               -7.322869e-02    6.638177e-01   \n",
       "max                1.155485e+01                1.056072e+01    3.022271e+00   \n",
       "\n",
       "            Albumin  Albumin_and_Globulin_Ratio  \n",
       "count  6.020000e+02                6.020000e+02  \n",
       "mean   3.540911e-17               -5.665457e-16  \n",
       "std    1.000000e+00                1.000000e+00  \n",
       "min   -3.113693e+00               -2.281272e+00  \n",
       "25%   -6.164882e-01               -6.492738e-01  \n",
       "50%   -3.451790e-03                3.525391e-03  \n",
       "75%    8.180963e-01                6.133073e-01  \n",
       "max    2.987567e+00                5.878718e+00  "
      ]
     },
     "execution_count": 224,
     "metadata": {},
     "output_type": "execute_result"
    }
   ],
   "source": [
    "X_treino.describe()"
   ]
  },
  {
   "cell_type": "markdown",
   "id": "ffab2981",
   "metadata": {},
   "source": [
    "Agora, precisamos padronizar os dados de teste com a média e desvio padrão do treino, ou seja: com o mesmo \"padrão\" adotado nos dados de treino!  \n",
    "  \n",
    "A justificativa deste último procedimento, é simples: foi assim, que o algortimo aprendeu, logo quando usarmos o modelo com novos dados, deveremos padronizar esses dados (seguindo o mesmo padrão que foi usado nos dados do treino)."
   ]
  },
  {
   "cell_type": "markdown",
   "id": "c2975f53",
   "metadata": {},
   "source": [
    "**Toda e qualquer transformação aplicada em treino, deve ser aplicada em teste e em novos dados!**"
   ]
  },
  {
   "cell_type": "code",
   "execution_count": 225,
   "id": "eec1a7a6",
   "metadata": {},
   "outputs": [],
   "source": [
    "X_teste = (X_teste - treino_mean) / treino_std"
   ]
  },
  {
   "cell_type": "code",
   "execution_count": 226,
   "id": "35efd606",
   "metadata": {},
   "outputs": [
    {
     "data": {
      "text/html": [
       "<div>\n",
       "<style scoped>\n",
       "    .dataframe tbody tr th:only-of-type {\n",
       "        vertical-align: middle;\n",
       "    }\n",
       "\n",
       "    .dataframe tbody tr th {\n",
       "        vertical-align: top;\n",
       "    }\n",
       "\n",
       "    .dataframe thead th {\n",
       "        text-align: right;\n",
       "    }\n",
       "</style>\n",
       "<table border=\"1\" class=\"dataframe\">\n",
       "  <thead>\n",
       "    <tr style=\"text-align: right;\">\n",
       "      <th></th>\n",
       "      <th>Age</th>\n",
       "      <th>Gender</th>\n",
       "      <th>Total_Bilirubin</th>\n",
       "      <th>Alkaline_Phosphotase</th>\n",
       "      <th>Alamine_Aminotransferase</th>\n",
       "      <th>Aspartate_Aminotransferase</th>\n",
       "      <th>Total_Protiens</th>\n",
       "      <th>Albumin</th>\n",
       "      <th>Albumin_and_Globulin_Ratio</th>\n",
       "    </tr>\n",
       "  </thead>\n",
       "  <tbody>\n",
       "    <tr>\n",
       "      <th>220</th>\n",
       "      <td>-0.400015</td>\n",
       "      <td>-0.524372</td>\n",
       "      <td>-0.337921</td>\n",
       "      <td>-0.541512</td>\n",
       "      <td>-0.257421</td>\n",
       "      <td>-0.225935</td>\n",
       "      <td>-1.498098</td>\n",
       "      <td>-0.991516</td>\n",
       "      <td>0.003525</td>\n",
       "    </tr>\n",
       "    <tr>\n",
       "      <th>448</th>\n",
       "      <td>0.276242</td>\n",
       "      <td>1.903874</td>\n",
       "      <td>-0.337921</td>\n",
       "      <td>-0.563841</td>\n",
       "      <td>-0.264567</td>\n",
       "      <td>-0.371701</td>\n",
       "      <td>-0.515409</td>\n",
       "      <td>-0.858880</td>\n",
       "      <td>-0.975673</td>\n",
       "    </tr>\n",
       "    <tr>\n",
       "      <th>509</th>\n",
       "      <td>0.153286</td>\n",
       "      <td>-0.524372</td>\n",
       "      <td>3.113293</td>\n",
       "      <td>-0.063671</td>\n",
       "      <td>0.550073</td>\n",
       "      <td>3.203026</td>\n",
       "      <td>-1.105022</td>\n",
       "      <td>-0.328335</td>\n",
       "      <td>0.656325</td>\n",
       "    </tr>\n",
       "    <tr>\n",
       "      <th>415</th>\n",
       "      <td>1.628755</td>\n",
       "      <td>-0.524372</td>\n",
       "      <td>-0.248045</td>\n",
       "      <td>1.883420</td>\n",
       "      <td>0.214213</td>\n",
       "      <td>-0.267583</td>\n",
       "      <td>-2.873862</td>\n",
       "      <td>-0.726244</td>\n",
       "      <td>-0.975673</td>\n",
       "    </tr>\n",
       "    <tr>\n",
       "      <th>56</th>\n",
       "      <td>-0.645926</td>\n",
       "      <td>-0.524372</td>\n",
       "      <td>-0.337921</td>\n",
       "      <td>-0.313756</td>\n",
       "      <td>-0.264567</td>\n",
       "      <td>-0.385583</td>\n",
       "      <td>1.449969</td>\n",
       "      <td>0.998026</td>\n",
       "      <td>0.003525</td>\n",
       "    </tr>\n",
       "  </tbody>\n",
       "</table>\n",
       "</div>"
      ],
      "text/plain": [
       "          Age    Gender  Total_Bilirubin  Alkaline_Phosphotase  \\\n",
       "220 -0.400015 -0.524372        -0.337921             -0.541512   \n",
       "448  0.276242  1.903874        -0.337921             -0.563841   \n",
       "509  0.153286 -0.524372         3.113293             -0.063671   \n",
       "415  1.628755 -0.524372        -0.248045              1.883420   \n",
       "56  -0.645926 -0.524372        -0.337921             -0.313756   \n",
       "\n",
       "     Alamine_Aminotransferase  Aspartate_Aminotransferase  Total_Protiens  \\\n",
       "220                 -0.257421                   -0.225935       -1.498098   \n",
       "448                 -0.264567                   -0.371701       -0.515409   \n",
       "509                  0.550073                    3.203026       -1.105022   \n",
       "415                  0.214213                   -0.267583       -2.873862   \n",
       "56                  -0.264567                   -0.385583        1.449969   \n",
       "\n",
       "      Albumin  Albumin_and_Globulin_Ratio  \n",
       "220 -0.991516                    0.003525  \n",
       "448 -0.858880                   -0.975673  \n",
       "509 -0.328335                    0.656325  \n",
       "415 -0.726244                   -0.975673  \n",
       "56   0.998026                    0.003525  "
      ]
     },
     "execution_count": 226,
     "metadata": {},
     "output_type": "execute_result"
    }
   ],
   "source": [
    "X_teste.head()"
   ]
  },
  {
   "cell_type": "markdown",
   "id": "a4918735",
   "metadata": {},
   "source": [
    "## **Construção, Treinamento e Avaliação do Modelo 1 com Regressão Logística (Benchmark)**"
   ]
  },
  {
   "cell_type": "markdown",
   "id": "80439490",
   "metadata": {},
   "source": [
    "Na primeira versão do modelo, o ideal é utilizar um algortmo simples, que será usado como Benchmark (modelo base). Vamos utilizar a regressão logística."
   ]
  },
  {
   "cell_type": "code",
   "execution_count": 227,
   "id": "90335f2d",
   "metadata": {},
   "outputs": [],
   "source": [
    "# Definindo lista de hiperparâmetros\n",
    "tuned_params_v1 = {'C': [0.0001, 0.001, 0.01, 1, 10, 100, 1000, 10000],\n",
    "                    'penalty': ['l1', 'l2']}"
   ]
  },
  {
   "cell_type": "code",
   "execution_count": 228,
   "id": "a8c18f56",
   "metadata": {},
   "outputs": [],
   "source": [
    "# Criando modelo com GridSearch\n",
    "# Vários modelos serão criados com diferentes combinações de hiperparâmetros\n",
    "\n",
    "modelo_v1 = GridSearchCV(LogisticRegression(),\n",
    "                        tuned_params_v1,\n",
    "                        scoring = 'roc_auc',\n",
    "                        n_jobs = -1)"
   ]
  },
  {
   "cell_type": "code",
   "execution_count": 229,
   "id": "d39ca7e1",
   "metadata": {},
   "outputs": [
    {
     "data": {
      "text/html": [
       "<style>#sk-container-id-12 {color: black;background-color: white;}#sk-container-id-12 pre{padding: 0;}#sk-container-id-12 div.sk-toggleable {background-color: white;}#sk-container-id-12 label.sk-toggleable__label {cursor: pointer;display: block;width: 100%;margin-bottom: 0;padding: 0.3em;box-sizing: border-box;text-align: center;}#sk-container-id-12 label.sk-toggleable__label-arrow:before {content: \"▸\";float: left;margin-right: 0.25em;color: #696969;}#sk-container-id-12 label.sk-toggleable__label-arrow:hover:before {color: black;}#sk-container-id-12 div.sk-estimator:hover label.sk-toggleable__label-arrow:before {color: black;}#sk-container-id-12 div.sk-toggleable__content {max-height: 0;max-width: 0;overflow: hidden;text-align: left;background-color: #f0f8ff;}#sk-container-id-12 div.sk-toggleable__content pre {margin: 0.2em;color: black;border-radius: 0.25em;background-color: #f0f8ff;}#sk-container-id-12 input.sk-toggleable__control:checked~div.sk-toggleable__content {max-height: 200px;max-width: 100%;overflow: auto;}#sk-container-id-12 input.sk-toggleable__control:checked~label.sk-toggleable__label-arrow:before {content: \"▾\";}#sk-container-id-12 div.sk-estimator input.sk-toggleable__control:checked~label.sk-toggleable__label {background-color: #d4ebff;}#sk-container-id-12 div.sk-label input.sk-toggleable__control:checked~label.sk-toggleable__label {background-color: #d4ebff;}#sk-container-id-12 input.sk-hidden--visually {border: 0;clip: rect(1px 1px 1px 1px);clip: rect(1px, 1px, 1px, 1px);height: 1px;margin: -1px;overflow: hidden;padding: 0;position: absolute;width: 1px;}#sk-container-id-12 div.sk-estimator {font-family: monospace;background-color: #f0f8ff;border: 1px dotted black;border-radius: 0.25em;box-sizing: border-box;margin-bottom: 0.5em;}#sk-container-id-12 div.sk-estimator:hover {background-color: #d4ebff;}#sk-container-id-12 div.sk-parallel-item::after {content: \"\";width: 100%;border-bottom: 1px solid gray;flex-grow: 1;}#sk-container-id-12 div.sk-label:hover label.sk-toggleable__label {background-color: #d4ebff;}#sk-container-id-12 div.sk-serial::before {content: \"\";position: absolute;border-left: 1px solid gray;box-sizing: border-box;top: 0;bottom: 0;left: 50%;z-index: 0;}#sk-container-id-12 div.sk-serial {display: flex;flex-direction: column;align-items: center;background-color: white;padding-right: 0.2em;padding-left: 0.2em;position: relative;}#sk-container-id-12 div.sk-item {position: relative;z-index: 1;}#sk-container-id-12 div.sk-parallel {display: flex;align-items: stretch;justify-content: center;background-color: white;position: relative;}#sk-container-id-12 div.sk-item::before, #sk-container-id-12 div.sk-parallel-item::before {content: \"\";position: absolute;border-left: 1px solid gray;box-sizing: border-box;top: 0;bottom: 0;left: 50%;z-index: -1;}#sk-container-id-12 div.sk-parallel-item {display: flex;flex-direction: column;z-index: 1;position: relative;background-color: white;}#sk-container-id-12 div.sk-parallel-item:first-child::after {align-self: flex-end;width: 50%;}#sk-container-id-12 div.sk-parallel-item:last-child::after {align-self: flex-start;width: 50%;}#sk-container-id-12 div.sk-parallel-item:only-child::after {width: 0;}#sk-container-id-12 div.sk-dashed-wrapped {border: 1px dashed gray;margin: 0 0.4em 0.5em 0.4em;box-sizing: border-box;padding-bottom: 0.4em;background-color: white;}#sk-container-id-12 div.sk-label label {font-family: monospace;font-weight: bold;display: inline-block;line-height: 1.2em;}#sk-container-id-12 div.sk-label-container {text-align: center;}#sk-container-id-12 div.sk-container {/* jupyter's `normalize.less` sets `[hidden] { display: none; }` but bootstrap.min.css set `[hidden] { display: none !important; }` so we also need the `!important` here to be able to override the default hidden behavior on the sphinx rendered scikit-learn.org. See: https://github.com/scikit-learn/scikit-learn/issues/21755 */display: inline-block !important;position: relative;}#sk-container-id-12 div.sk-text-repr-fallback {display: none;}</style><div id=\"sk-container-id-12\" class=\"sk-top-container\"><div class=\"sk-text-repr-fallback\"><pre>GridSearchCV(estimator=LogisticRegression(), n_jobs=-1,\n",
       "             param_grid={&#x27;C&#x27;: [0.0001, 0.001, 0.01, 1, 10, 100, 1000, 10000],\n",
       "                         &#x27;penalty&#x27;: [&#x27;l1&#x27;, &#x27;l2&#x27;]},\n",
       "             scoring=&#x27;roc_auc&#x27;)</pre><b>In a Jupyter environment, please rerun this cell to show the HTML representation or trust the notebook. <br />On GitHub, the HTML representation is unable to render, please try loading this page with nbviewer.org.</b></div><div class=\"sk-container\" hidden><div class=\"sk-item sk-dashed-wrapped\"><div class=\"sk-label-container\"><div class=\"sk-label sk-toggleable\"><input class=\"sk-toggleable__control sk-hidden--visually\" id=\"sk-estimator-id-18\" type=\"checkbox\" ><label for=\"sk-estimator-id-18\" class=\"sk-toggleable__label sk-toggleable__label-arrow\">GridSearchCV</label><div class=\"sk-toggleable__content\"><pre>GridSearchCV(estimator=LogisticRegression(), n_jobs=-1,\n",
       "             param_grid={&#x27;C&#x27;: [0.0001, 0.001, 0.01, 1, 10, 100, 1000, 10000],\n",
       "                         &#x27;penalty&#x27;: [&#x27;l1&#x27;, &#x27;l2&#x27;]},\n",
       "             scoring=&#x27;roc_auc&#x27;)</pre></div></div></div><div class=\"sk-parallel\"><div class=\"sk-parallel-item\"><div class=\"sk-item\"><div class=\"sk-label-container\"><div class=\"sk-label sk-toggleable\"><input class=\"sk-toggleable__control sk-hidden--visually\" id=\"sk-estimator-id-19\" type=\"checkbox\" ><label for=\"sk-estimator-id-19\" class=\"sk-toggleable__label sk-toggleable__label-arrow\">estimator: LogisticRegression</label><div class=\"sk-toggleable__content\"><pre>LogisticRegression()</pre></div></div></div><div class=\"sk-serial\"><div class=\"sk-item\"><div class=\"sk-estimator sk-toggleable\"><input class=\"sk-toggleable__control sk-hidden--visually\" id=\"sk-estimator-id-20\" type=\"checkbox\" ><label for=\"sk-estimator-id-20\" class=\"sk-toggleable__label sk-toggleable__label-arrow\">LogisticRegression</label><div class=\"sk-toggleable__content\"><pre>LogisticRegression()</pre></div></div></div></div></div></div></div></div></div></div>"
      ],
      "text/plain": [
       "GridSearchCV(estimator=LogisticRegression(), n_jobs=-1,\n",
       "             param_grid={'C': [0.0001, 0.001, 0.01, 1, 10, 100, 1000, 10000],\n",
       "                         'penalty': ['l1', 'l2']},\n",
       "             scoring='roc_auc')"
      ]
     },
     "execution_count": 229,
     "metadata": {},
     "output_type": "execute_result"
    }
   ],
   "source": [
    "# Treinamento do modelo\n",
    "modelo_v1.fit(X_treino, y_treino)"
   ]
  },
  {
   "cell_type": "code",
   "execution_count": 230,
   "id": "414c6e79",
   "metadata": {},
   "outputs": [
    {
     "data": {
      "text/html": [
       "<style>#sk-container-id-13 {color: black;background-color: white;}#sk-container-id-13 pre{padding: 0;}#sk-container-id-13 div.sk-toggleable {background-color: white;}#sk-container-id-13 label.sk-toggleable__label {cursor: pointer;display: block;width: 100%;margin-bottom: 0;padding: 0.3em;box-sizing: border-box;text-align: center;}#sk-container-id-13 label.sk-toggleable__label-arrow:before {content: \"▸\";float: left;margin-right: 0.25em;color: #696969;}#sk-container-id-13 label.sk-toggleable__label-arrow:hover:before {color: black;}#sk-container-id-13 div.sk-estimator:hover label.sk-toggleable__label-arrow:before {color: black;}#sk-container-id-13 div.sk-toggleable__content {max-height: 0;max-width: 0;overflow: hidden;text-align: left;background-color: #f0f8ff;}#sk-container-id-13 div.sk-toggleable__content pre {margin: 0.2em;color: black;border-radius: 0.25em;background-color: #f0f8ff;}#sk-container-id-13 input.sk-toggleable__control:checked~div.sk-toggleable__content {max-height: 200px;max-width: 100%;overflow: auto;}#sk-container-id-13 input.sk-toggleable__control:checked~label.sk-toggleable__label-arrow:before {content: \"▾\";}#sk-container-id-13 div.sk-estimator input.sk-toggleable__control:checked~label.sk-toggleable__label {background-color: #d4ebff;}#sk-container-id-13 div.sk-label input.sk-toggleable__control:checked~label.sk-toggleable__label {background-color: #d4ebff;}#sk-container-id-13 input.sk-hidden--visually {border: 0;clip: rect(1px 1px 1px 1px);clip: rect(1px, 1px, 1px, 1px);height: 1px;margin: -1px;overflow: hidden;padding: 0;position: absolute;width: 1px;}#sk-container-id-13 div.sk-estimator {font-family: monospace;background-color: #f0f8ff;border: 1px dotted black;border-radius: 0.25em;box-sizing: border-box;margin-bottom: 0.5em;}#sk-container-id-13 div.sk-estimator:hover {background-color: #d4ebff;}#sk-container-id-13 div.sk-parallel-item::after {content: \"\";width: 100%;border-bottom: 1px solid gray;flex-grow: 1;}#sk-container-id-13 div.sk-label:hover label.sk-toggleable__label {background-color: #d4ebff;}#sk-container-id-13 div.sk-serial::before {content: \"\";position: absolute;border-left: 1px solid gray;box-sizing: border-box;top: 0;bottom: 0;left: 50%;z-index: 0;}#sk-container-id-13 div.sk-serial {display: flex;flex-direction: column;align-items: center;background-color: white;padding-right: 0.2em;padding-left: 0.2em;position: relative;}#sk-container-id-13 div.sk-item {position: relative;z-index: 1;}#sk-container-id-13 div.sk-parallel {display: flex;align-items: stretch;justify-content: center;background-color: white;position: relative;}#sk-container-id-13 div.sk-item::before, #sk-container-id-13 div.sk-parallel-item::before {content: \"\";position: absolute;border-left: 1px solid gray;box-sizing: border-box;top: 0;bottom: 0;left: 50%;z-index: -1;}#sk-container-id-13 div.sk-parallel-item {display: flex;flex-direction: column;z-index: 1;position: relative;background-color: white;}#sk-container-id-13 div.sk-parallel-item:first-child::after {align-self: flex-end;width: 50%;}#sk-container-id-13 div.sk-parallel-item:last-child::after {align-self: flex-start;width: 50%;}#sk-container-id-13 div.sk-parallel-item:only-child::after {width: 0;}#sk-container-id-13 div.sk-dashed-wrapped {border: 1px dashed gray;margin: 0 0.4em 0.5em 0.4em;box-sizing: border-box;padding-bottom: 0.4em;background-color: white;}#sk-container-id-13 div.sk-label label {font-family: monospace;font-weight: bold;display: inline-block;line-height: 1.2em;}#sk-container-id-13 div.sk-label-container {text-align: center;}#sk-container-id-13 div.sk-container {/* jupyter's `normalize.less` sets `[hidden] { display: none; }` but bootstrap.min.css set `[hidden] { display: none !important; }` so we also need the `!important` here to be able to override the default hidden behavior on the sphinx rendered scikit-learn.org. See: https://github.com/scikit-learn/scikit-learn/issues/21755 */display: inline-block !important;position: relative;}#sk-container-id-13 div.sk-text-repr-fallback {display: none;}</style><div id=\"sk-container-id-13\" class=\"sk-top-container\"><div class=\"sk-text-repr-fallback\"><pre>LogisticRegression(C=1)</pre><b>In a Jupyter environment, please rerun this cell to show the HTML representation or trust the notebook. <br />On GitHub, the HTML representation is unable to render, please try loading this page with nbviewer.org.</b></div><div class=\"sk-container\" hidden><div class=\"sk-item\"><div class=\"sk-estimator sk-toggleable\"><input class=\"sk-toggleable__control sk-hidden--visually\" id=\"sk-estimator-id-21\" type=\"checkbox\" checked><label for=\"sk-estimator-id-21\" class=\"sk-toggleable__label sk-toggleable__label-arrow\">LogisticRegression</label><div class=\"sk-toggleable__content\"><pre>LogisticRegression(C=1)</pre></div></div></div></div></div>"
      ],
      "text/plain": [
       "LogisticRegression(C=1)"
      ]
     },
     "execution_count": 230,
     "metadata": {},
     "output_type": "execute_result"
    }
   ],
   "source": [
    "# melhor modelo\n",
    "modelo_v1.best_estimator_"
   ]
  },
  {
   "cell_type": "code",
   "execution_count": 231,
   "id": "dad255e7",
   "metadata": {},
   "outputs": [],
   "source": [
    "# Previsões com dados de teste\n",
    "y_pred_v1 = modelo_v1.predict(X_teste)"
   ]
  },
  {
   "cell_type": "code",
   "execution_count": 232,
   "id": "418d8598",
   "metadata": {},
   "outputs": [
    {
     "data": {
      "text/plain": [
       "array([0, 1, 1, 0, 0, 0, 0, 1, 0, 1])"
      ]
     },
     "execution_count": 232,
     "metadata": {},
     "output_type": "execute_result"
    }
   ],
   "source": [
    "# Mostrando as 10 primeiras previsões\n",
    "y_pred_v1[:10]"
   ]
  },
  {
   "cell_type": "code",
   "execution_count": 233,
   "id": "620c6805",
   "metadata": {},
   "outputs": [],
   "source": [
    "# Previsões no formato de probabilidade para cada classe\n",
    "y_pred_proba_v1 = modelo_v1.predict_proba(X_teste)"
   ]
  },
  {
   "cell_type": "code",
   "execution_count": 234,
   "id": "e36ba7eb",
   "metadata": {},
   "outputs": [
    {
     "data": {
      "text/plain": [
       "array([[0.75057001, 0.24942999],\n",
       "       [0.49299936, 0.50700064],\n",
       "       [0.00024964, 0.99975036],\n",
       "       [0.68179639, 0.31820361],\n",
       "       [0.66217821, 0.33782179],\n",
       "       [0.60734405, 0.39265595],\n",
       "       [0.74298551, 0.25701449],\n",
       "       [0.08620232, 0.91379768],\n",
       "       [0.59058794, 0.40941206],\n",
       "       [0.01234522, 0.98765478]])"
      ]
     },
     "execution_count": 234,
     "metadata": {},
     "output_type": "execute_result"
    }
   ],
   "source": [
    "# Mostrando as 10 primeiras previsões\n",
    "np.set_printoptions(formatter={'float': '{:0.8f}'.format}) # Configurar a formatação para exibição dos arrays \n",
    "\n",
    "y_pred_proba_v1[:10]\n"
   ]
  },
  {
   "cell_type": "markdown",
   "id": "1c651055",
   "metadata": {},
   "source": [
    "Explicando os resultados acima:"
   ]
  },
  {
   "cell_type": "markdown",
   "id": "56c05675",
   "metadata": {},
   "source": [
    "* Para o primeiro resultado (*cuja classe é 0*), na prática a regressão logística tem aproximadamente 75% de certeza que é classe 0 25% de certeza de que é classe 1. Como a probabilidade maior é da classe 0, ela previu com classe 0. Segue a mesma lógica para todas as linhas.\n",
    "\n",
    "* Além de prever a classe, a regressão logística também possibilita prever a probabilidade daquela classe, o que é muito últil na área médica - *que é o caso desse projeto*!"
   ]
  },
  {
   "cell_type": "markdown",
   "id": "bcf9d1b2",
   "metadata": {},
   "source": [
    "Vamos extrair a probabilidade somente da classe 1 (**desenvolveram doença hepática**), para calcular a curva ROC:"
   ]
  },
  {
   "cell_type": "code",
   "execution_count": 235,
   "id": "29635d0e",
   "metadata": {},
   "outputs": [],
   "source": [
    "y_pred_proba_v1 = modelo_v1.predict_proba(X_teste)[:,1]"
   ]
  },
  {
   "cell_type": "code",
   "execution_count": 236,
   "id": "7191b488",
   "metadata": {},
   "outputs": [
    {
     "data": {
      "text/plain": [
       "array([0.24942999, 0.50700064, 0.99975036, 0.31820361, 0.33782179,\n",
       "       0.39265595, 0.25701449, 0.91379768, 0.40941206, 0.98765478])"
      ]
     },
     "execution_count": 236,
     "metadata": {},
     "output_type": "execute_result"
    }
   ],
   "source": [
    "# Mostrando as 10 primeiras previsões\n",
    "y_pred_proba_v1[:10]"
   ]
  },
  {
   "cell_type": "markdown",
   "id": "53d79388",
   "metadata": {},
   "source": [
    "Como exemplo, vamos verificar um dos pontos de dados:"
   ]
  },
  {
   "cell_type": "code",
   "execution_count": 237,
   "id": "79bd263d",
   "metadata": {},
   "outputs": [
    {
     "name": "stdout",
     "output_type": "stream",
     "text": [
      "Para o ponto de dado 98, classe real = 1, classe prevista = 1, probabilidade prevista = 0.9089084752473486\n"
     ]
    }
   ],
   "source": [
    "i = 98\n",
    "print('Para o ponto de dado {}, classe real = {}, classe prevista = {}, probabilidade prevista = {}'.format(i, y_teste.iloc[i], y_pred_v1[i], y_pred_proba_v1[i]))"
   ]
  },
  {
   "cell_type": "code",
   "execution_count": 238,
   "id": "2692eca5",
   "metadata": {},
   "outputs": [
    {
     "data": {
      "text/plain": [
       "array([[32,  8],\n",
       "       [38, 63]])"
      ]
     },
     "execution_count": 238,
     "metadata": {},
     "output_type": "execute_result"
    }
   ],
   "source": [
    "confusion_matrix(y_teste, y_pred_v1)"
   ]
  },
  {
   "cell_type": "code",
   "execution_count": 239,
   "id": "606f16e3",
   "metadata": {},
   "outputs": [
    {
     "name": "stdout",
     "output_type": "stream",
     "text": [
      "32 8 38 63\n"
     ]
    }
   ],
   "source": [
    "# Extraindo cada valor da CM\n",
    "tn, fp, fn, tp = confusion_matrix(y_teste, y_pred_v1).ravel()\n",
    "print(tn, fp, fn, tp)"
   ]
  },
  {
   "cell_type": "markdown",
   "id": "25c34bad",
   "metadata": {},
   "source": [
    "Calculando a métrica global AUC (Area Under The Curve) com dados reais e previsões em teste (quanto maior, melhor!):"
   ]
  },
  {
   "cell_type": "code",
   "execution_count": 240,
   "id": "9123e0c0",
   "metadata": {},
   "outputs": [
    {
     "name": "stdout",
     "output_type": "stream",
     "text": [
      "0.7118811881188121\n"
     ]
    }
   ],
   "source": [
    "roc_auc_v1 = roc_auc_score(y_teste, y_pred_v1)\n",
    "print(roc_auc_v1)"
   ]
  },
  {
   "cell_type": "markdown",
   "id": "1a116fcf",
   "metadata": {},
   "source": [
    "Calculando a curva ROC com dados e previsões em teste:"
   ]
  },
  {
   "cell_type": "code",
   "execution_count": 241,
   "id": "67a6e836",
   "metadata": {},
   "outputs": [],
   "source": [
    "fpr_v1 , tpr_v1, thresholds = roc_curve(y_teste, y_pred_proba_v1)"
   ]
  },
  {
   "cell_type": "markdown",
   "id": "52d1d913",
   "metadata": {},
   "source": [
    "AUC em teste:"
   ]
  },
  {
   "cell_type": "code",
   "execution_count": 242,
   "id": "5fd09062",
   "metadata": {},
   "outputs": [
    {
     "name": "stdout",
     "output_type": "stream",
     "text": [
      "0.7368811881188119\n"
     ]
    }
   ],
   "source": [
    "auc_v1 = auc(fpr_v1, tpr_v1)\n",
    "print(auc_v1)"
   ]
  },
  {
   "cell_type": "markdown",
   "id": "82c0a80f",
   "metadata": {},
   "source": [
    "Acurácia em teste:"
   ]
  },
  {
   "cell_type": "code",
   "execution_count": 243,
   "id": "81044db7",
   "metadata": {},
   "outputs": [
    {
     "name": "stdout",
     "output_type": "stream",
     "text": [
      "0.6737588652482269\n"
     ]
    }
   ],
   "source": [
    "acuracia_v1 = accuracy_score(y_teste, y_pred_v1 )\n",
    "print(acuracia_v1)"
   ]
  },
  {
   "cell_type": "markdown",
   "id": "1cbbf15f",
   "metadata": {},
   "source": [
    "Ou seja: o nosso modelo base, em cada 100 previsões, acerta 64."
   ]
  },
  {
   "cell_type": "markdown",
   "id": "abd70220",
   "metadata": {},
   "source": [
    "**Feature Importance**"
   ]
  },
  {
   "cell_type": "markdown",
   "id": "8bac6d60",
   "metadata": {},
   "source": [
    "Construindo novamente o modelo com os melhores hiperparâmetro (não precisamos mais do GrideSearchVC, pois já sabemos qual é o melhor parâmetro)."
   ]
  },
  {
   "cell_type": "code",
   "execution_count": 244,
   "id": "04c4c6c8",
   "metadata": {},
   "outputs": [
    {
     "data": {
      "text/html": [
       "<style>#sk-container-id-14 {color: black;background-color: white;}#sk-container-id-14 pre{padding: 0;}#sk-container-id-14 div.sk-toggleable {background-color: white;}#sk-container-id-14 label.sk-toggleable__label {cursor: pointer;display: block;width: 100%;margin-bottom: 0;padding: 0.3em;box-sizing: border-box;text-align: center;}#sk-container-id-14 label.sk-toggleable__label-arrow:before {content: \"▸\";float: left;margin-right: 0.25em;color: #696969;}#sk-container-id-14 label.sk-toggleable__label-arrow:hover:before {color: black;}#sk-container-id-14 div.sk-estimator:hover label.sk-toggleable__label-arrow:before {color: black;}#sk-container-id-14 div.sk-toggleable__content {max-height: 0;max-width: 0;overflow: hidden;text-align: left;background-color: #f0f8ff;}#sk-container-id-14 div.sk-toggleable__content pre {margin: 0.2em;color: black;border-radius: 0.25em;background-color: #f0f8ff;}#sk-container-id-14 input.sk-toggleable__control:checked~div.sk-toggleable__content {max-height: 200px;max-width: 100%;overflow: auto;}#sk-container-id-14 input.sk-toggleable__control:checked~label.sk-toggleable__label-arrow:before {content: \"▾\";}#sk-container-id-14 div.sk-estimator input.sk-toggleable__control:checked~label.sk-toggleable__label {background-color: #d4ebff;}#sk-container-id-14 div.sk-label input.sk-toggleable__control:checked~label.sk-toggleable__label {background-color: #d4ebff;}#sk-container-id-14 input.sk-hidden--visually {border: 0;clip: rect(1px 1px 1px 1px);clip: rect(1px, 1px, 1px, 1px);height: 1px;margin: -1px;overflow: hidden;padding: 0;position: absolute;width: 1px;}#sk-container-id-14 div.sk-estimator {font-family: monospace;background-color: #f0f8ff;border: 1px dotted black;border-radius: 0.25em;box-sizing: border-box;margin-bottom: 0.5em;}#sk-container-id-14 div.sk-estimator:hover {background-color: #d4ebff;}#sk-container-id-14 div.sk-parallel-item::after {content: \"\";width: 100%;border-bottom: 1px solid gray;flex-grow: 1;}#sk-container-id-14 div.sk-label:hover label.sk-toggleable__label {background-color: #d4ebff;}#sk-container-id-14 div.sk-serial::before {content: \"\";position: absolute;border-left: 1px solid gray;box-sizing: border-box;top: 0;bottom: 0;left: 50%;z-index: 0;}#sk-container-id-14 div.sk-serial {display: flex;flex-direction: column;align-items: center;background-color: white;padding-right: 0.2em;padding-left: 0.2em;position: relative;}#sk-container-id-14 div.sk-item {position: relative;z-index: 1;}#sk-container-id-14 div.sk-parallel {display: flex;align-items: stretch;justify-content: center;background-color: white;position: relative;}#sk-container-id-14 div.sk-item::before, #sk-container-id-14 div.sk-parallel-item::before {content: \"\";position: absolute;border-left: 1px solid gray;box-sizing: border-box;top: 0;bottom: 0;left: 50%;z-index: -1;}#sk-container-id-14 div.sk-parallel-item {display: flex;flex-direction: column;z-index: 1;position: relative;background-color: white;}#sk-container-id-14 div.sk-parallel-item:first-child::after {align-self: flex-end;width: 50%;}#sk-container-id-14 div.sk-parallel-item:last-child::after {align-self: flex-start;width: 50%;}#sk-container-id-14 div.sk-parallel-item:only-child::after {width: 0;}#sk-container-id-14 div.sk-dashed-wrapped {border: 1px dashed gray;margin: 0 0.4em 0.5em 0.4em;box-sizing: border-box;padding-bottom: 0.4em;background-color: white;}#sk-container-id-14 div.sk-label label {font-family: monospace;font-weight: bold;display: inline-block;line-height: 1.2em;}#sk-container-id-14 div.sk-label-container {text-align: center;}#sk-container-id-14 div.sk-container {/* jupyter's `normalize.less` sets `[hidden] { display: none; }` but bootstrap.min.css set `[hidden] { display: none !important; }` so we also need the `!important` here to be able to override the default hidden behavior on the sphinx rendered scikit-learn.org. See: https://github.com/scikit-learn/scikit-learn/issues/21755 */display: inline-block !important;position: relative;}#sk-container-id-14 div.sk-text-repr-fallback {display: none;}</style><div id=\"sk-container-id-14\" class=\"sk-top-container\"><div class=\"sk-text-repr-fallback\"><pre>LogisticRegression(C=1)</pre><b>In a Jupyter environment, please rerun this cell to show the HTML representation or trust the notebook. <br />On GitHub, the HTML representation is unable to render, please try loading this page with nbviewer.org.</b></div><div class=\"sk-container\" hidden><div class=\"sk-item\"><div class=\"sk-estimator sk-toggleable\"><input class=\"sk-toggleable__control sk-hidden--visually\" id=\"sk-estimator-id-22\" type=\"checkbox\" checked><label for=\"sk-estimator-id-22\" class=\"sk-toggleable__label sk-toggleable__label-arrow\">LogisticRegression</label><div class=\"sk-toggleable__content\"><pre>LogisticRegression(C=1)</pre></div></div></div></div></div>"
      ],
      "text/plain": [
       "LogisticRegression(C=1)"
      ]
     },
     "execution_count": 244,
     "metadata": {},
     "output_type": "execute_result"
    }
   ],
   "source": [
    "modelo_v1 = LogisticRegression(C = 1)\n",
    "modelo_v1.fit(X_treino, y_treino)"
   ]
  },
  {
   "cell_type": "markdown",
   "id": "30d1ada9",
   "metadata": {},
   "source": [
    "Obtemos os coeficientes ordernados pelo maior, usando np.argsort:"
   ]
  },
  {
   "cell_type": "code",
   "execution_count": 245,
   "id": "7654e1d0",
   "metadata": {},
   "outputs": [],
   "source": [
    "indices = np.argsort(-abs(modelo_v1.coef_[0,:]))"
   ]
  },
  {
   "cell_type": "code",
   "execution_count": 246,
   "id": "4b5a5174",
   "metadata": {},
   "outputs": [
    {
     "name": "stdout",
     "output_type": "stream",
     "text": [
      "Variáveis mais importantes para o resultado do modelo_v1:\n",
      "--------------------------------------------------\n",
      "Total_Bilirubin\n",
      "Alamine_Aminotransferase\n",
      "Aspartate_Aminotransferase\n",
      "Albumin\n",
      "Total_Protiens\n",
      "Age\n",
      "Alkaline_Phosphotase\n",
      "Gender\n",
      "Albumin_and_Globulin_Ratio\n"
     ]
    }
   ],
   "source": [
    "print(\"Variáveis mais importantes para o resultado do modelo_v1:\")\n",
    "print(50*'-')\n",
    "for feature in X.columns[indices]:\n",
    "    print(feature)"
   ]
  },
  {
   "cell_type": "markdown",
   "id": "41d8b08b",
   "metadata": {},
   "source": [
    "**Salvando o modelo em disco:**"
   ]
  },
  {
   "cell_type": "code",
   "execution_count": 247,
   "id": "0f4be095",
   "metadata": {},
   "outputs": [],
   "source": [
    "with open('modelos/modelo_v1.pkl', 'wb') as pickle_file:\n",
    "      joblib.dump(modelo_v1, 'modelos/modelo_v1.pkl') "
   ]
  },
  {
   "cell_type": "markdown",
   "id": "201cd313",
   "metadata": {},
   "source": [
    "Criando um dataframe para receber as métricas de cada modelo:"
   ]
  },
  {
   "cell_type": "code",
   "execution_count": 248,
   "id": "8222e7c8",
   "metadata": {},
   "outputs": [],
   "source": [
    "\n",
    "df_modelos = pd.DataFrame()"
   ]
  },
  {
   "cell_type": "markdown",
   "id": "a3958603",
   "metadata": {},
   "source": [
    "Dicionário com as métricas do modelo_v1:"
   ]
  },
  {
   "cell_type": "code",
   "execution_count": 249,
   "id": "bb696e1a",
   "metadata": {},
   "outputs": [],
   "source": [
    "\n",
    "dict_modelo_v1 = {'Nome': 'modelo_v1', \n",
    "                  'Algoritmo': 'Regressão Logística', \n",
    "                  'ROC_AUC Score': roc_auc_v1,\n",
    "                  'AUC Score': auc_v1,\n",
    "                  'Acurácia': acuracia_v1}"
   ]
  },
  {
   "cell_type": "markdown",
   "id": "ae764dd2",
   "metadata": {},
   "source": [
    "Adicionando o dict ao dataframe:"
   ]
  },
  {
   "cell_type": "code",
   "execution_count": 250,
   "id": "23a7b22d",
   "metadata": {},
   "outputs": [],
   "source": [
    "df_modelos = df_modelos.append(dict_modelo_v1, ignore_index = True)"
   ]
  },
  {
   "cell_type": "code",
   "execution_count": 251,
   "id": "ea2a1b63",
   "metadata": {},
   "outputs": [
    {
     "data": {
      "text/html": [
       "<div>\n",
       "<style scoped>\n",
       "    .dataframe tbody tr th:only-of-type {\n",
       "        vertical-align: middle;\n",
       "    }\n",
       "\n",
       "    .dataframe tbody tr th {\n",
       "        vertical-align: top;\n",
       "    }\n",
       "\n",
       "    .dataframe thead th {\n",
       "        text-align: right;\n",
       "    }\n",
       "</style>\n",
       "<table border=\"1\" class=\"dataframe\">\n",
       "  <thead>\n",
       "    <tr style=\"text-align: right;\">\n",
       "      <th></th>\n",
       "      <th>Nome</th>\n",
       "      <th>Algoritmo</th>\n",
       "      <th>ROC_AUC Score</th>\n",
       "      <th>AUC Score</th>\n",
       "      <th>Acurácia</th>\n",
       "    </tr>\n",
       "  </thead>\n",
       "  <tbody>\n",
       "    <tr>\n",
       "      <th>0</th>\n",
       "      <td>modelo_v1</td>\n",
       "      <td>Regressão Logística</td>\n",
       "      <td>0.711881</td>\n",
       "      <td>0.736881</td>\n",
       "      <td>0.673759</td>\n",
       "    </tr>\n",
       "  </tbody>\n",
       "</table>\n",
       "</div>"
      ],
      "text/plain": [
       "        Nome            Algoritmo  ROC_AUC Score  AUC Score  Acurácia\n",
       "0  modelo_v1  Regressão Logística       0.711881   0.736881  0.673759"
      ]
     },
     "metadata": {},
     "output_type": "display_data"
    }
   ],
   "source": [
    "display(df_modelos)"
   ]
  },
  {
   "cell_type": "markdown",
   "id": "771f8047",
   "metadata": {},
   "source": [
    "## **Construção, Treinamento e Avaliação do Modelo 2 com Random Forest**"
   ]
  },
  {
   "cell_type": "markdown",
   "id": "669ceabb",
   "metadata": {},
   "source": [
    "O objetivo deste próximo passo, é tentar obter um modelo melhor que primeira versão. Vamos testar com Random Forest:"
   ]
  },
  {
   "cell_type": "code",
   "execution_count": 252,
   "id": "af2603fb",
   "metadata": {},
   "outputs": [],
   "source": [
    "# Grid de hiperparâmetros\n",
    "tuned_params_v2 = {'n_estimators' : [100, 200, 300, 400, 500],\n",
    "                   'min_samples_split' : [2, 5, 10],\n",
    "                   'min_samples_leaf': [1, 2, 4]}"
   ]
  },
  {
   "cell_type": "code",
   "execution_count": 253,
   "id": "9a6fa53c",
   "metadata": {},
   "outputs": [],
   "source": [
    "# Criando modelo com RandomizedSearchCV para buscar a melhor combinação de hiperparâmetros\n",
    "modelo_v2 = RandomizedSearchCV(RandomForestClassifier(),\n",
    "                               tuned_params_v2,\n",
    "                               n_iter=15,\n",
    "                               scoring='roc_auc',\n",
    "                               n_jobs=-1)"
   ]
  },
  {
   "cell_type": "code",
   "execution_count": 254,
   "id": "9db6f041",
   "metadata": {},
   "outputs": [
    {
     "data": {
      "text/html": [
       "<style>#sk-container-id-15 {color: black;background-color: white;}#sk-container-id-15 pre{padding: 0;}#sk-container-id-15 div.sk-toggleable {background-color: white;}#sk-container-id-15 label.sk-toggleable__label {cursor: pointer;display: block;width: 100%;margin-bottom: 0;padding: 0.3em;box-sizing: border-box;text-align: center;}#sk-container-id-15 label.sk-toggleable__label-arrow:before {content: \"▸\";float: left;margin-right: 0.25em;color: #696969;}#sk-container-id-15 label.sk-toggleable__label-arrow:hover:before {color: black;}#sk-container-id-15 div.sk-estimator:hover label.sk-toggleable__label-arrow:before {color: black;}#sk-container-id-15 div.sk-toggleable__content {max-height: 0;max-width: 0;overflow: hidden;text-align: left;background-color: #f0f8ff;}#sk-container-id-15 div.sk-toggleable__content pre {margin: 0.2em;color: black;border-radius: 0.25em;background-color: #f0f8ff;}#sk-container-id-15 input.sk-toggleable__control:checked~div.sk-toggleable__content {max-height: 200px;max-width: 100%;overflow: auto;}#sk-container-id-15 input.sk-toggleable__control:checked~label.sk-toggleable__label-arrow:before {content: \"▾\";}#sk-container-id-15 div.sk-estimator input.sk-toggleable__control:checked~label.sk-toggleable__label {background-color: #d4ebff;}#sk-container-id-15 div.sk-label input.sk-toggleable__control:checked~label.sk-toggleable__label {background-color: #d4ebff;}#sk-container-id-15 input.sk-hidden--visually {border: 0;clip: rect(1px 1px 1px 1px);clip: rect(1px, 1px, 1px, 1px);height: 1px;margin: -1px;overflow: hidden;padding: 0;position: absolute;width: 1px;}#sk-container-id-15 div.sk-estimator {font-family: monospace;background-color: #f0f8ff;border: 1px dotted black;border-radius: 0.25em;box-sizing: border-box;margin-bottom: 0.5em;}#sk-container-id-15 div.sk-estimator:hover {background-color: #d4ebff;}#sk-container-id-15 div.sk-parallel-item::after {content: \"\";width: 100%;border-bottom: 1px solid gray;flex-grow: 1;}#sk-container-id-15 div.sk-label:hover label.sk-toggleable__label {background-color: #d4ebff;}#sk-container-id-15 div.sk-serial::before {content: \"\";position: absolute;border-left: 1px solid gray;box-sizing: border-box;top: 0;bottom: 0;left: 50%;z-index: 0;}#sk-container-id-15 div.sk-serial {display: flex;flex-direction: column;align-items: center;background-color: white;padding-right: 0.2em;padding-left: 0.2em;position: relative;}#sk-container-id-15 div.sk-item {position: relative;z-index: 1;}#sk-container-id-15 div.sk-parallel {display: flex;align-items: stretch;justify-content: center;background-color: white;position: relative;}#sk-container-id-15 div.sk-item::before, #sk-container-id-15 div.sk-parallel-item::before {content: \"\";position: absolute;border-left: 1px solid gray;box-sizing: border-box;top: 0;bottom: 0;left: 50%;z-index: -1;}#sk-container-id-15 div.sk-parallel-item {display: flex;flex-direction: column;z-index: 1;position: relative;background-color: white;}#sk-container-id-15 div.sk-parallel-item:first-child::after {align-self: flex-end;width: 50%;}#sk-container-id-15 div.sk-parallel-item:last-child::after {align-self: flex-start;width: 50%;}#sk-container-id-15 div.sk-parallel-item:only-child::after {width: 0;}#sk-container-id-15 div.sk-dashed-wrapped {border: 1px dashed gray;margin: 0 0.4em 0.5em 0.4em;box-sizing: border-box;padding-bottom: 0.4em;background-color: white;}#sk-container-id-15 div.sk-label label {font-family: monospace;font-weight: bold;display: inline-block;line-height: 1.2em;}#sk-container-id-15 div.sk-label-container {text-align: center;}#sk-container-id-15 div.sk-container {/* jupyter's `normalize.less` sets `[hidden] { display: none; }` but bootstrap.min.css set `[hidden] { display: none !important; }` so we also need the `!important` here to be able to override the default hidden behavior on the sphinx rendered scikit-learn.org. See: https://github.com/scikit-learn/scikit-learn/issues/21755 */display: inline-block !important;position: relative;}#sk-container-id-15 div.sk-text-repr-fallback {display: none;}</style><div id=\"sk-container-id-15\" class=\"sk-top-container\"><div class=\"sk-text-repr-fallback\"><pre>RandomizedSearchCV(estimator=RandomForestClassifier(), n_iter=15, n_jobs=-1,\n",
       "                   param_distributions={&#x27;min_samples_leaf&#x27;: [1, 2, 4],\n",
       "                                        &#x27;min_samples_split&#x27;: [2, 5, 10],\n",
       "                                        &#x27;n_estimators&#x27;: [100, 200, 300, 400,\n",
       "                                                         500]},\n",
       "                   scoring=&#x27;roc_auc&#x27;)</pre><b>In a Jupyter environment, please rerun this cell to show the HTML representation or trust the notebook. <br />On GitHub, the HTML representation is unable to render, please try loading this page with nbviewer.org.</b></div><div class=\"sk-container\" hidden><div class=\"sk-item sk-dashed-wrapped\"><div class=\"sk-label-container\"><div class=\"sk-label sk-toggleable\"><input class=\"sk-toggleable__control sk-hidden--visually\" id=\"sk-estimator-id-23\" type=\"checkbox\" ><label for=\"sk-estimator-id-23\" class=\"sk-toggleable__label sk-toggleable__label-arrow\">RandomizedSearchCV</label><div class=\"sk-toggleable__content\"><pre>RandomizedSearchCV(estimator=RandomForestClassifier(), n_iter=15, n_jobs=-1,\n",
       "                   param_distributions={&#x27;min_samples_leaf&#x27;: [1, 2, 4],\n",
       "                                        &#x27;min_samples_split&#x27;: [2, 5, 10],\n",
       "                                        &#x27;n_estimators&#x27;: [100, 200, 300, 400,\n",
       "                                                         500]},\n",
       "                   scoring=&#x27;roc_auc&#x27;)</pre></div></div></div><div class=\"sk-parallel\"><div class=\"sk-parallel-item\"><div class=\"sk-item\"><div class=\"sk-label-container\"><div class=\"sk-label sk-toggleable\"><input class=\"sk-toggleable__control sk-hidden--visually\" id=\"sk-estimator-id-24\" type=\"checkbox\" ><label for=\"sk-estimator-id-24\" class=\"sk-toggleable__label sk-toggleable__label-arrow\">estimator: RandomForestClassifier</label><div class=\"sk-toggleable__content\"><pre>RandomForestClassifier()</pre></div></div></div><div class=\"sk-serial\"><div class=\"sk-item\"><div class=\"sk-estimator sk-toggleable\"><input class=\"sk-toggleable__control sk-hidden--visually\" id=\"sk-estimator-id-25\" type=\"checkbox\" ><label for=\"sk-estimator-id-25\" class=\"sk-toggleable__label sk-toggleable__label-arrow\">RandomForestClassifier</label><div class=\"sk-toggleable__content\"><pre>RandomForestClassifier()</pre></div></div></div></div></div></div></div></div></div></div>"
      ],
      "text/plain": [
       "RandomizedSearchCV(estimator=RandomForestClassifier(), n_iter=15, n_jobs=-1,\n",
       "                   param_distributions={'min_samples_leaf': [1, 2, 4],\n",
       "                                        'min_samples_split': [2, 5, 10],\n",
       "                                        'n_estimators': [100, 200, 300, 400,\n",
       "                                                         500]},\n",
       "                   scoring='roc_auc')"
      ]
     },
     "execution_count": 254,
     "metadata": {},
     "output_type": "execute_result"
    }
   ],
   "source": [
    "#Trinando o modelo:\n",
    "modelo_v2.fit(X_treino, y_treino)"
   ]
  },
  {
   "cell_type": "code",
   "execution_count": 255,
   "id": "40fdba12",
   "metadata": {},
   "outputs": [
    {
     "data": {
      "text/html": [
       "<style>#sk-container-id-16 {color: black;background-color: white;}#sk-container-id-16 pre{padding: 0;}#sk-container-id-16 div.sk-toggleable {background-color: white;}#sk-container-id-16 label.sk-toggleable__label {cursor: pointer;display: block;width: 100%;margin-bottom: 0;padding: 0.3em;box-sizing: border-box;text-align: center;}#sk-container-id-16 label.sk-toggleable__label-arrow:before {content: \"▸\";float: left;margin-right: 0.25em;color: #696969;}#sk-container-id-16 label.sk-toggleable__label-arrow:hover:before {color: black;}#sk-container-id-16 div.sk-estimator:hover label.sk-toggleable__label-arrow:before {color: black;}#sk-container-id-16 div.sk-toggleable__content {max-height: 0;max-width: 0;overflow: hidden;text-align: left;background-color: #f0f8ff;}#sk-container-id-16 div.sk-toggleable__content pre {margin: 0.2em;color: black;border-radius: 0.25em;background-color: #f0f8ff;}#sk-container-id-16 input.sk-toggleable__control:checked~div.sk-toggleable__content {max-height: 200px;max-width: 100%;overflow: auto;}#sk-container-id-16 input.sk-toggleable__control:checked~label.sk-toggleable__label-arrow:before {content: \"▾\";}#sk-container-id-16 div.sk-estimator input.sk-toggleable__control:checked~label.sk-toggleable__label {background-color: #d4ebff;}#sk-container-id-16 div.sk-label input.sk-toggleable__control:checked~label.sk-toggleable__label {background-color: #d4ebff;}#sk-container-id-16 input.sk-hidden--visually {border: 0;clip: rect(1px 1px 1px 1px);clip: rect(1px, 1px, 1px, 1px);height: 1px;margin: -1px;overflow: hidden;padding: 0;position: absolute;width: 1px;}#sk-container-id-16 div.sk-estimator {font-family: monospace;background-color: #f0f8ff;border: 1px dotted black;border-radius: 0.25em;box-sizing: border-box;margin-bottom: 0.5em;}#sk-container-id-16 div.sk-estimator:hover {background-color: #d4ebff;}#sk-container-id-16 div.sk-parallel-item::after {content: \"\";width: 100%;border-bottom: 1px solid gray;flex-grow: 1;}#sk-container-id-16 div.sk-label:hover label.sk-toggleable__label {background-color: #d4ebff;}#sk-container-id-16 div.sk-serial::before {content: \"\";position: absolute;border-left: 1px solid gray;box-sizing: border-box;top: 0;bottom: 0;left: 50%;z-index: 0;}#sk-container-id-16 div.sk-serial {display: flex;flex-direction: column;align-items: center;background-color: white;padding-right: 0.2em;padding-left: 0.2em;position: relative;}#sk-container-id-16 div.sk-item {position: relative;z-index: 1;}#sk-container-id-16 div.sk-parallel {display: flex;align-items: stretch;justify-content: center;background-color: white;position: relative;}#sk-container-id-16 div.sk-item::before, #sk-container-id-16 div.sk-parallel-item::before {content: \"\";position: absolute;border-left: 1px solid gray;box-sizing: border-box;top: 0;bottom: 0;left: 50%;z-index: -1;}#sk-container-id-16 div.sk-parallel-item {display: flex;flex-direction: column;z-index: 1;position: relative;background-color: white;}#sk-container-id-16 div.sk-parallel-item:first-child::after {align-self: flex-end;width: 50%;}#sk-container-id-16 div.sk-parallel-item:last-child::after {align-self: flex-start;width: 50%;}#sk-container-id-16 div.sk-parallel-item:only-child::after {width: 0;}#sk-container-id-16 div.sk-dashed-wrapped {border: 1px dashed gray;margin: 0 0.4em 0.5em 0.4em;box-sizing: border-box;padding-bottom: 0.4em;background-color: white;}#sk-container-id-16 div.sk-label label {font-family: monospace;font-weight: bold;display: inline-block;line-height: 1.2em;}#sk-container-id-16 div.sk-label-container {text-align: center;}#sk-container-id-16 div.sk-container {/* jupyter's `normalize.less` sets `[hidden] { display: none; }` but bootstrap.min.css set `[hidden] { display: none !important; }` so we also need the `!important` here to be able to override the default hidden behavior on the sphinx rendered scikit-learn.org. See: https://github.com/scikit-learn/scikit-learn/issues/21755 */display: inline-block !important;position: relative;}#sk-container-id-16 div.sk-text-repr-fallback {display: none;}</style><div id=\"sk-container-id-16\" class=\"sk-top-container\"><div class=\"sk-text-repr-fallback\"><pre>RandomForestClassifier(n_estimators=500)</pre><b>In a Jupyter environment, please rerun this cell to show the HTML representation or trust the notebook. <br />On GitHub, the HTML representation is unable to render, please try loading this page with nbviewer.org.</b></div><div class=\"sk-container\" hidden><div class=\"sk-item\"><div class=\"sk-estimator sk-toggleable\"><input class=\"sk-toggleable__control sk-hidden--visually\" id=\"sk-estimator-id-26\" type=\"checkbox\" checked><label for=\"sk-estimator-id-26\" class=\"sk-toggleable__label sk-toggleable__label-arrow\">RandomForestClassifier</label><div class=\"sk-toggleable__content\"><pre>RandomForestClassifier(n_estimators=500)</pre></div></div></div></div></div>"
      ],
      "text/plain": [
       "RandomForestClassifier(n_estimators=500)"
      ]
     },
     "execution_count": 255,
     "metadata": {},
     "output_type": "execute_result"
    }
   ],
   "source": [
    "#Extraindo o melhor modelo\n",
    "modelo_v2.best_estimator_"
   ]
  },
  {
   "cell_type": "markdown",
   "id": "25f0ad96",
   "metadata": {},
   "source": [
    "Obtemos que o melhor modelo, foi com 400 árvores."
   ]
  },
  {
   "cell_type": "code",
   "execution_count": 256,
   "id": "cc9af094",
   "metadata": {},
   "outputs": [],
   "source": [
    "#Previsões em teste\n",
    "y_pred_v2 = modelo_v2.predict(X_teste)"
   ]
  },
  {
   "cell_type": "code",
   "execution_count": 257,
   "id": "fc7deac7",
   "metadata": {},
   "outputs": [],
   "source": [
    "#Obtendo as previsões para a classe positiva\n",
    "y_pred_proba_v2 = modelo_v2.predict_proba(X_teste)[:,1]"
   ]
  },
  {
   "cell_type": "code",
   "execution_count": 258,
   "id": "70fe8396",
   "metadata": {},
   "outputs": [
    {
     "data": {
      "text/plain": [
       "array([[18, 22],\n",
       "       [16, 85]])"
      ]
     },
     "execution_count": 258,
     "metadata": {},
     "output_type": "execute_result"
    }
   ],
   "source": [
    "confusion_matrix(y_teste, y_pred_v2)"
   ]
  },
  {
   "cell_type": "code",
   "execution_count": 259,
   "id": "40cedfe8",
   "metadata": {},
   "outputs": [
    {
     "name": "stdout",
     "output_type": "stream",
     "text": [
      "0.6457920792079207\n"
     ]
    }
   ],
   "source": [
    "# Curva ROC nos dados e previsões em teste\n",
    "roc_auc_v2 = roc_auc_score(y_teste, y_pred_v2)\n",
    "print(roc_auc_v2)"
   ]
  },
  {
   "cell_type": "code",
   "execution_count": 260,
   "id": "2759419c",
   "metadata": {},
   "outputs": [],
   "source": [
    "# Curva ROC nos dados e previsões em teste\n",
    "fpr_v2, tpr_v2, thresholds = roc_curve(y_teste, y_pred_proba_v2)"
   ]
  },
  {
   "cell_type": "code",
   "execution_count": 261,
   "id": "8353d55c",
   "metadata": {},
   "outputs": [
    {
     "name": "stdout",
     "output_type": "stream",
     "text": [
      "0.7503712871287129\n"
     ]
    }
   ],
   "source": [
    "# AUC em teste\n",
    "auc_v2 = auc(fpr_v2, tpr_v2)\n",
    "print(auc_v2)"
   ]
  },
  {
   "cell_type": "code",
   "execution_count": 262,
   "id": "6577b019",
   "metadata": {},
   "outputs": [
    {
     "name": "stdout",
     "output_type": "stream",
     "text": [
      "0.7304964539007093\n"
     ]
    }
   ],
   "source": [
    "#Acurácia em teste\n",
    "acuracia_v2 = accuracy_score(y_teste, y_pred_v2)\n",
    "print(acuracia_v2)"
   ]
  },
  {
   "cell_type": "markdown",
   "id": "9e3ba8ab",
   "metadata": {},
   "source": [
    "**Feature Importance**"
   ]
  },
  {
   "cell_type": "code",
   "execution_count": 263,
   "id": "cdfebd63",
   "metadata": {},
   "outputs": [
    {
     "data": {
      "text/plain": [
       "{'n_estimators': 500, 'min_samples_split': 2, 'min_samples_leaf': 1}"
      ]
     },
     "execution_count": 263,
     "metadata": {},
     "output_type": "execute_result"
    }
   ],
   "source": [
    "modelo_v2.best_params_"
   ]
  },
  {
   "cell_type": "code",
   "execution_count": 264,
   "id": "6d28f425",
   "metadata": {},
   "outputs": [
    {
     "data": {
      "text/html": [
       "<style>#sk-container-id-17 {color: black;background-color: white;}#sk-container-id-17 pre{padding: 0;}#sk-container-id-17 div.sk-toggleable {background-color: white;}#sk-container-id-17 label.sk-toggleable__label {cursor: pointer;display: block;width: 100%;margin-bottom: 0;padding: 0.3em;box-sizing: border-box;text-align: center;}#sk-container-id-17 label.sk-toggleable__label-arrow:before {content: \"▸\";float: left;margin-right: 0.25em;color: #696969;}#sk-container-id-17 label.sk-toggleable__label-arrow:hover:before {color: black;}#sk-container-id-17 div.sk-estimator:hover label.sk-toggleable__label-arrow:before {color: black;}#sk-container-id-17 div.sk-toggleable__content {max-height: 0;max-width: 0;overflow: hidden;text-align: left;background-color: #f0f8ff;}#sk-container-id-17 div.sk-toggleable__content pre {margin: 0.2em;color: black;border-radius: 0.25em;background-color: #f0f8ff;}#sk-container-id-17 input.sk-toggleable__control:checked~div.sk-toggleable__content {max-height: 200px;max-width: 100%;overflow: auto;}#sk-container-id-17 input.sk-toggleable__control:checked~label.sk-toggleable__label-arrow:before {content: \"▾\";}#sk-container-id-17 div.sk-estimator input.sk-toggleable__control:checked~label.sk-toggleable__label {background-color: #d4ebff;}#sk-container-id-17 div.sk-label input.sk-toggleable__control:checked~label.sk-toggleable__label {background-color: #d4ebff;}#sk-container-id-17 input.sk-hidden--visually {border: 0;clip: rect(1px 1px 1px 1px);clip: rect(1px, 1px, 1px, 1px);height: 1px;margin: -1px;overflow: hidden;padding: 0;position: absolute;width: 1px;}#sk-container-id-17 div.sk-estimator {font-family: monospace;background-color: #f0f8ff;border: 1px dotted black;border-radius: 0.25em;box-sizing: border-box;margin-bottom: 0.5em;}#sk-container-id-17 div.sk-estimator:hover {background-color: #d4ebff;}#sk-container-id-17 div.sk-parallel-item::after {content: \"\";width: 100%;border-bottom: 1px solid gray;flex-grow: 1;}#sk-container-id-17 div.sk-label:hover label.sk-toggleable__label {background-color: #d4ebff;}#sk-container-id-17 div.sk-serial::before {content: \"\";position: absolute;border-left: 1px solid gray;box-sizing: border-box;top: 0;bottom: 0;left: 50%;z-index: 0;}#sk-container-id-17 div.sk-serial {display: flex;flex-direction: column;align-items: center;background-color: white;padding-right: 0.2em;padding-left: 0.2em;position: relative;}#sk-container-id-17 div.sk-item {position: relative;z-index: 1;}#sk-container-id-17 div.sk-parallel {display: flex;align-items: stretch;justify-content: center;background-color: white;position: relative;}#sk-container-id-17 div.sk-item::before, #sk-container-id-17 div.sk-parallel-item::before {content: \"\";position: absolute;border-left: 1px solid gray;box-sizing: border-box;top: 0;bottom: 0;left: 50%;z-index: -1;}#sk-container-id-17 div.sk-parallel-item {display: flex;flex-direction: column;z-index: 1;position: relative;background-color: white;}#sk-container-id-17 div.sk-parallel-item:first-child::after {align-self: flex-end;width: 50%;}#sk-container-id-17 div.sk-parallel-item:last-child::after {align-self: flex-start;width: 50%;}#sk-container-id-17 div.sk-parallel-item:only-child::after {width: 0;}#sk-container-id-17 div.sk-dashed-wrapped {border: 1px dashed gray;margin: 0 0.4em 0.5em 0.4em;box-sizing: border-box;padding-bottom: 0.4em;background-color: white;}#sk-container-id-17 div.sk-label label {font-family: monospace;font-weight: bold;display: inline-block;line-height: 1.2em;}#sk-container-id-17 div.sk-label-container {text-align: center;}#sk-container-id-17 div.sk-container {/* jupyter's `normalize.less` sets `[hidden] { display: none; }` but bootstrap.min.css set `[hidden] { display: none !important; }` so we also need the `!important` here to be able to override the default hidden behavior on the sphinx rendered scikit-learn.org. See: https://github.com/scikit-learn/scikit-learn/issues/21755 */display: inline-block !important;position: relative;}#sk-container-id-17 div.sk-text-repr-fallback {display: none;}</style><div id=\"sk-container-id-17\" class=\"sk-top-container\"><div class=\"sk-text-repr-fallback\"><pre>RandomForestClassifier(n_estimators=400)</pre><b>In a Jupyter environment, please rerun this cell to show the HTML representation or trust the notebook. <br />On GitHub, the HTML representation is unable to render, please try loading this page with nbviewer.org.</b></div><div class=\"sk-container\" hidden><div class=\"sk-item\"><div class=\"sk-estimator sk-toggleable\"><input class=\"sk-toggleable__control sk-hidden--visually\" id=\"sk-estimator-id-27\" type=\"checkbox\" checked><label for=\"sk-estimator-id-27\" class=\"sk-toggleable__label sk-toggleable__label-arrow\">RandomForestClassifier</label><div class=\"sk-toggleable__content\"><pre>RandomForestClassifier(n_estimators=400)</pre></div></div></div></div></div>"
      ],
      "text/plain": [
       "RandomForestClassifier(n_estimators=400)"
      ]
     },
     "execution_count": 264,
     "metadata": {},
     "output_type": "execute_result"
    }
   ],
   "source": [
    "# Recriando o modelo com os melhores hiperparâmetros\n",
    "modelo_v2 = RandomForestClassifier(n_estimators=400, min_samples_split=2, min_samples_leaf=1)\n",
    "modelo_v2.fit(X_treino, y_treino)"
   ]
  },
  {
   "cell_type": "code",
   "execution_count": 265,
   "id": "b6700524",
   "metadata": {},
   "outputs": [
    {
     "name": "stdout",
     "output_type": "stream",
     "text": [
      "Variáveis mais importantes para o resultado do modelo_v2: \n",
      "--------------------------------------------------\n",
      "Total_Bilirubin\n",
      "Alkaline_Phosphotase\n",
      "Aspartate_Aminotransferase\n",
      "Alamine_Aminotransferase\n",
      "Albumin_and_Globulin_Ratio\n",
      "Age\n",
      "Total_Protiens\n",
      "Albumin\n",
      "Gender\n"
     ]
    }
   ],
   "source": [
    "# Variáveis mais relevantes\n",
    "indices = np.argsort(-modelo_v2.feature_importances_)\n",
    "print(\"Variáveis mais importantes para o resultado do modelo_v2: \")\n",
    "print(50*'-')\n",
    "for feature in X.columns[indices]:\n",
    "    print(feature)"
   ]
  },
  {
   "cell_type": "markdown",
   "id": "d3e8aa6b",
   "metadata": {},
   "source": [
    "Total_Bilirubin aparece novamente no topo da lista, o que pode ser um bom sinal, no sentido que os dois modelos até o momento estão encontrando os mesmos insights. Em outras palavras: há um padrão nos dados!"
   ]
  },
  {
   "cell_type": "code",
   "execution_count": 266,
   "id": "590a5367",
   "metadata": {},
   "outputs": [],
   "source": [
    "#Salvando o modelo em disco\n",
    "with open('modelos/modelo_v2.pkl', 'wb') as pickle_file:\n",
    "    joblib.dump(modelo_v2, 'modelos/modelo_v2.pkl')"
   ]
  },
  {
   "cell_type": "code",
   "execution_count": 267,
   "id": "efc74774",
   "metadata": {},
   "outputs": [],
   "source": [
    "# Dicionário com as métricas do modelo_v2\n",
    "dict_modelo_v2 = {'Nome' : 'modelo_v2',\n",
    "                  'Algoritmo' : 'Random Forest',\n",
    "                  'ROC_AUC Score' : roc_auc_v2,\n",
    "                  'AUC Score' : auc_v2,\n",
    "                  'Acurácia' : acuracia_v2}"
   ]
  },
  {
   "cell_type": "code",
   "execution_count": 268,
   "id": "009cda80",
   "metadata": {},
   "outputs": [],
   "source": [
    "# Adicionando o dict ao dataframe\n",
    "df_modelos = df_modelos.append(dict_modelo_v2, ignore_index=True)"
   ]
  },
  {
   "cell_type": "code",
   "execution_count": 269,
   "id": "51f33554",
   "metadata": {},
   "outputs": [
    {
     "data": {
      "text/html": [
       "<div>\n",
       "<style scoped>\n",
       "    .dataframe tbody tr th:only-of-type {\n",
       "        vertical-align: middle;\n",
       "    }\n",
       "\n",
       "    .dataframe tbody tr th {\n",
       "        vertical-align: top;\n",
       "    }\n",
       "\n",
       "    .dataframe thead th {\n",
       "        text-align: right;\n",
       "    }\n",
       "</style>\n",
       "<table border=\"1\" class=\"dataframe\">\n",
       "  <thead>\n",
       "    <tr style=\"text-align: right;\">\n",
       "      <th></th>\n",
       "      <th>Nome</th>\n",
       "      <th>Algoritmo</th>\n",
       "      <th>ROC_AUC Score</th>\n",
       "      <th>AUC Score</th>\n",
       "      <th>Acurácia</th>\n",
       "    </tr>\n",
       "  </thead>\n",
       "  <tbody>\n",
       "    <tr>\n",
       "      <th>0</th>\n",
       "      <td>modelo_v1</td>\n",
       "      <td>Regressão Logística</td>\n",
       "      <td>0.711881</td>\n",
       "      <td>0.736881</td>\n",
       "      <td>0.673759</td>\n",
       "    </tr>\n",
       "    <tr>\n",
       "      <th>1</th>\n",
       "      <td>modelo_v2</td>\n",
       "      <td>Random Forest</td>\n",
       "      <td>0.645792</td>\n",
       "      <td>0.750371</td>\n",
       "      <td>0.730496</td>\n",
       "    </tr>\n",
       "  </tbody>\n",
       "</table>\n",
       "</div>"
      ],
      "text/plain": [
       "        Nome            Algoritmo  ROC_AUC Score  AUC Score  Acurácia\n",
       "0  modelo_v1  Regressão Logística       0.711881   0.736881  0.673759\n",
       "1  modelo_v2        Random Forest       0.645792   0.750371  0.730496"
      ]
     },
     "metadata": {},
     "output_type": "display_data"
    }
   ],
   "source": [
    "display(df_modelos)"
   ]
  },
  {
   "cell_type": "markdown",
   "id": "b8152ac6",
   "metadata": {},
   "source": [
    "## **Construção, Treinamento e Avaliação do Modelo 3 com KNN**"
   ]
  },
  {
   "cell_type": "markdown",
   "id": "07f8a8d7",
   "metadata": {},
   "source": [
    "Testando o algoritmo KNN, para criar a versão 3 do modelo.  \n",
    "  \n",
    "Lista de possíveis valores de K:"
   ]
  },
  {
   "cell_type": "code",
   "execution_count": 270,
   "id": "71416746",
   "metadata": {},
   "outputs": [],
   "source": [
    "vizinhos = list(range(1, 20, 2))"
   ]
  },
  {
   "cell_type": "code",
   "execution_count": 271,
   "id": "78e96c3b",
   "metadata": {},
   "outputs": [],
   "source": [
    "# Lista para os scores\n",
    "cv_scores = []"
   ]
  },
  {
   "cell_type": "code",
   "execution_count": 272,
   "id": "77dfb1f4",
   "metadata": {},
   "outputs": [],
   "source": [
    "# Validação cruzada para determinada o melhor valor de k\n",
    "for k in vizinhos:\n",
    "    knn = KNeighborsClassifier(n_neighbors=k)\n",
    "    scores = cross_val_score(knn, X_treino, y_treino, cv = 5, scoring = 'accuracy')\n",
    "    cv_scores.append(scores.mean())"
   ]
  },
  {
   "cell_type": "code",
   "execution_count": 273,
   "id": "c890ced5",
   "metadata": {},
   "outputs": [],
   "source": [
    "#Ajustando o erro de classificação\n",
    "erro = [1 - x for x in cv_scores]"
   ]
  },
  {
   "cell_type": "code",
   "execution_count": 274,
   "id": "9de945be",
   "metadata": {},
   "outputs": [
    {
     "name": "stdout",
     "output_type": "stream",
     "text": [
      "O valor ideal de k é 1\n"
     ]
    }
   ],
   "source": [
    "# Determinando o melhor valor de k (com menor erro)\n",
    "optimal_k = vizinhos[erro.index(min(erro))]\n",
    "print('O valor ideal de k é %d' % optimal_k)"
   ]
  },
  {
   "cell_type": "code",
   "execution_count": 275,
   "id": "4cab99f7",
   "metadata": {},
   "outputs": [],
   "source": [
    "# Criando o modelo versão 3\n",
    "modelo_v3 = KNeighborsClassifier(n_neighbors=optimal_k)"
   ]
  },
  {
   "cell_type": "code",
   "execution_count": 276,
   "id": "d2a3e2e9",
   "metadata": {},
   "outputs": [
    {
     "data": {
      "text/html": [
       "<style>#sk-container-id-18 {color: black;background-color: white;}#sk-container-id-18 pre{padding: 0;}#sk-container-id-18 div.sk-toggleable {background-color: white;}#sk-container-id-18 label.sk-toggleable__label {cursor: pointer;display: block;width: 100%;margin-bottom: 0;padding: 0.3em;box-sizing: border-box;text-align: center;}#sk-container-id-18 label.sk-toggleable__label-arrow:before {content: \"▸\";float: left;margin-right: 0.25em;color: #696969;}#sk-container-id-18 label.sk-toggleable__label-arrow:hover:before {color: black;}#sk-container-id-18 div.sk-estimator:hover label.sk-toggleable__label-arrow:before {color: black;}#sk-container-id-18 div.sk-toggleable__content {max-height: 0;max-width: 0;overflow: hidden;text-align: left;background-color: #f0f8ff;}#sk-container-id-18 div.sk-toggleable__content pre {margin: 0.2em;color: black;border-radius: 0.25em;background-color: #f0f8ff;}#sk-container-id-18 input.sk-toggleable__control:checked~div.sk-toggleable__content {max-height: 200px;max-width: 100%;overflow: auto;}#sk-container-id-18 input.sk-toggleable__control:checked~label.sk-toggleable__label-arrow:before {content: \"▾\";}#sk-container-id-18 div.sk-estimator input.sk-toggleable__control:checked~label.sk-toggleable__label {background-color: #d4ebff;}#sk-container-id-18 div.sk-label input.sk-toggleable__control:checked~label.sk-toggleable__label {background-color: #d4ebff;}#sk-container-id-18 input.sk-hidden--visually {border: 0;clip: rect(1px 1px 1px 1px);clip: rect(1px, 1px, 1px, 1px);height: 1px;margin: -1px;overflow: hidden;padding: 0;position: absolute;width: 1px;}#sk-container-id-18 div.sk-estimator {font-family: monospace;background-color: #f0f8ff;border: 1px dotted black;border-radius: 0.25em;box-sizing: border-box;margin-bottom: 0.5em;}#sk-container-id-18 div.sk-estimator:hover {background-color: #d4ebff;}#sk-container-id-18 div.sk-parallel-item::after {content: \"\";width: 100%;border-bottom: 1px solid gray;flex-grow: 1;}#sk-container-id-18 div.sk-label:hover label.sk-toggleable__label {background-color: #d4ebff;}#sk-container-id-18 div.sk-serial::before {content: \"\";position: absolute;border-left: 1px solid gray;box-sizing: border-box;top: 0;bottom: 0;left: 50%;z-index: 0;}#sk-container-id-18 div.sk-serial {display: flex;flex-direction: column;align-items: center;background-color: white;padding-right: 0.2em;padding-left: 0.2em;position: relative;}#sk-container-id-18 div.sk-item {position: relative;z-index: 1;}#sk-container-id-18 div.sk-parallel {display: flex;align-items: stretch;justify-content: center;background-color: white;position: relative;}#sk-container-id-18 div.sk-item::before, #sk-container-id-18 div.sk-parallel-item::before {content: \"\";position: absolute;border-left: 1px solid gray;box-sizing: border-box;top: 0;bottom: 0;left: 50%;z-index: -1;}#sk-container-id-18 div.sk-parallel-item {display: flex;flex-direction: column;z-index: 1;position: relative;background-color: white;}#sk-container-id-18 div.sk-parallel-item:first-child::after {align-self: flex-end;width: 50%;}#sk-container-id-18 div.sk-parallel-item:last-child::after {align-self: flex-start;width: 50%;}#sk-container-id-18 div.sk-parallel-item:only-child::after {width: 0;}#sk-container-id-18 div.sk-dashed-wrapped {border: 1px dashed gray;margin: 0 0.4em 0.5em 0.4em;box-sizing: border-box;padding-bottom: 0.4em;background-color: white;}#sk-container-id-18 div.sk-label label {font-family: monospace;font-weight: bold;display: inline-block;line-height: 1.2em;}#sk-container-id-18 div.sk-label-container {text-align: center;}#sk-container-id-18 div.sk-container {/* jupyter's `normalize.less` sets `[hidden] { display: none; }` but bootstrap.min.css set `[hidden] { display: none !important; }` so we also need the `!important` here to be able to override the default hidden behavior on the sphinx rendered scikit-learn.org. See: https://github.com/scikit-learn/scikit-learn/issues/21755 */display: inline-block !important;position: relative;}#sk-container-id-18 div.sk-text-repr-fallback {display: none;}</style><div id=\"sk-container-id-18\" class=\"sk-top-container\"><div class=\"sk-text-repr-fallback\"><pre>KNeighborsClassifier(n_neighbors=1)</pre><b>In a Jupyter environment, please rerun this cell to show the HTML representation or trust the notebook. <br />On GitHub, the HTML representation is unable to render, please try loading this page with nbviewer.org.</b></div><div class=\"sk-container\" hidden><div class=\"sk-item\"><div class=\"sk-estimator sk-toggleable\"><input class=\"sk-toggleable__control sk-hidden--visually\" id=\"sk-estimator-id-28\" type=\"checkbox\" checked><label for=\"sk-estimator-id-28\" class=\"sk-toggleable__label sk-toggleable__label-arrow\">KNeighborsClassifier</label><div class=\"sk-toggleable__content\"><pre>KNeighborsClassifier(n_neighbors=1)</pre></div></div></div></div></div>"
      ],
      "text/plain": [
       "KNeighborsClassifier(n_neighbors=1)"
      ]
     },
     "execution_count": 276,
     "metadata": {},
     "output_type": "execute_result"
    }
   ],
   "source": [
    "# Treinamento\n",
    "modelo_v3.fit(X_treino, y_treino)"
   ]
  },
  {
   "cell_type": "code",
   "execution_count": 277,
   "id": "103ec63f",
   "metadata": {},
   "outputs": [],
   "source": [
    "# Previsões\n",
    "y_pred_v3 = modelo_v3.predict(X_teste)"
   ]
  },
  {
   "cell_type": "code",
   "execution_count": 278,
   "id": "d29a0fb4",
   "metadata": {},
   "outputs": [
    {
     "data": {
      "text/plain": [
       "array([[18, 22],\n",
       "       [40, 61]])"
      ]
     },
     "execution_count": 278,
     "metadata": {},
     "output_type": "execute_result"
    }
   ],
   "source": [
    "confusion_matrix(y_teste, y_pred_v3)"
   ]
  },
  {
   "cell_type": "code",
   "execution_count": 279,
   "id": "94d8cae2",
   "metadata": {},
   "outputs": [],
   "source": [
    "# Previsão de probabilidade da classe positiva\n",
    "y_pred_proba_v3 = modelo_v3.predict_proba(X_teste)[:,1]"
   ]
  },
  {
   "cell_type": "code",
   "execution_count": 280,
   "id": "2f76fc68",
   "metadata": {},
   "outputs": [
    {
     "name": "stdout",
     "output_type": "stream",
     "text": [
      "0.526980198019802\n"
     ]
    }
   ],
   "source": [
    "# Calculando ROC_AUC em teste\n",
    "roc_auc_v3 = roc_auc_score(y_teste, y_pred_v3)\n",
    "print(roc_auc_v3)"
   ]
  },
  {
   "cell_type": "code",
   "execution_count": 281,
   "id": "c92f513b",
   "metadata": {},
   "outputs": [],
   "source": [
    "# Calculando curva ROC\n",
    "fpr_v3, tpr_v3, thresholds = roc_curve(y_teste, y_pred_proba_v3)"
   ]
  },
  {
   "cell_type": "code",
   "execution_count": 282,
   "id": "055a556d",
   "metadata": {},
   "outputs": [
    {
     "name": "stdout",
     "output_type": "stream",
     "text": [
      "0.526980198019802\n"
     ]
    }
   ],
   "source": [
    "#Calculando AUC em teste\n",
    "auc_v3 = auc(fpr_v3, tpr_v3)\n",
    "print(auc_v3)"
   ]
  },
  {
   "cell_type": "code",
   "execution_count": 283,
   "id": "1e37f004",
   "metadata": {},
   "outputs": [
    {
     "name": "stdout",
     "output_type": "stream",
     "text": [
      "0.5602836879432624\n"
     ]
    }
   ],
   "source": [
    "# Calculando acurácia\n",
    "acuracia_v3 = accuracy_score(y_teste, y_pred_v3)\n",
    "print(acuracia_v3)"
   ]
  },
  {
   "cell_type": "markdown",
   "id": "942a9113",
   "metadata": {},
   "source": [
    "Com o algoritmo KNN, não extraímos as variáveis mais importantes, pois o conceito do algoritmo é diferente."
   ]
  },
  {
   "cell_type": "code",
   "execution_count": 284,
   "id": "d33bd7ee",
   "metadata": {},
   "outputs": [],
   "source": [
    "#Salvando o modelo em disco\n",
    "with open('modelos/modelo_v3.pkl', 'wb') as pickle_file:\n",
    "    joblib.dump(modelo_v3, 'modelos/modelo_v3.pkl')"
   ]
  },
  {
   "cell_type": "code",
   "execution_count": 285,
   "id": "d5e1e073",
   "metadata": {},
   "outputs": [],
   "source": [
    "# Dicionário com as métricas do modelo_v3:\n",
    "dict_modelo_v3 = {'Nome' : 'modelo_v3',\n",
    "                  'Algoritmo' : 'KNN',\n",
    "                  'ROC_AUC Score' : roc_auc_v3,\n",
    "                  'AUC Score' : auc_v3,\n",
    "                  'Acurácia' : acuracia_v3}"
   ]
  },
  {
   "cell_type": "code",
   "execution_count": 286,
   "id": "a1328f0a",
   "metadata": {},
   "outputs": [],
   "source": [
    "# Adiciona o dict ao dataframe\n",
    "df_modelos = df_modelos.append(dict_modelo_v3, ignore_index=True)"
   ]
  },
  {
   "cell_type": "code",
   "execution_count": 287,
   "id": "e1cad97c",
   "metadata": {},
   "outputs": [
    {
     "data": {
      "text/html": [
       "<div>\n",
       "<style scoped>\n",
       "    .dataframe tbody tr th:only-of-type {\n",
       "        vertical-align: middle;\n",
       "    }\n",
       "\n",
       "    .dataframe tbody tr th {\n",
       "        vertical-align: top;\n",
       "    }\n",
       "\n",
       "    .dataframe thead th {\n",
       "        text-align: right;\n",
       "    }\n",
       "</style>\n",
       "<table border=\"1\" class=\"dataframe\">\n",
       "  <thead>\n",
       "    <tr style=\"text-align: right;\">\n",
       "      <th></th>\n",
       "      <th>Nome</th>\n",
       "      <th>Algoritmo</th>\n",
       "      <th>ROC_AUC Score</th>\n",
       "      <th>AUC Score</th>\n",
       "      <th>Acurácia</th>\n",
       "    </tr>\n",
       "  </thead>\n",
       "  <tbody>\n",
       "    <tr>\n",
       "      <th>0</th>\n",
       "      <td>modelo_v1</td>\n",
       "      <td>Regressão Logística</td>\n",
       "      <td>0.711881</td>\n",
       "      <td>0.736881</td>\n",
       "      <td>0.673759</td>\n",
       "    </tr>\n",
       "    <tr>\n",
       "      <th>1</th>\n",
       "      <td>modelo_v2</td>\n",
       "      <td>Random Forest</td>\n",
       "      <td>0.645792</td>\n",
       "      <td>0.750371</td>\n",
       "      <td>0.730496</td>\n",
       "    </tr>\n",
       "    <tr>\n",
       "      <th>2</th>\n",
       "      <td>modelo_v3</td>\n",
       "      <td>KNN</td>\n",
       "      <td>0.526980</td>\n",
       "      <td>0.526980</td>\n",
       "      <td>0.560284</td>\n",
       "    </tr>\n",
       "  </tbody>\n",
       "</table>\n",
       "</div>"
      ],
      "text/plain": [
       "        Nome            Algoritmo  ROC_AUC Score  AUC Score  Acurácia\n",
       "0  modelo_v1  Regressão Logística       0.711881   0.736881  0.673759\n",
       "1  modelo_v2        Random Forest       0.645792   0.750371  0.730496\n",
       "2  modelo_v3                  KNN       0.526980   0.526980  0.560284"
      ]
     },
     "metadata": {},
     "output_type": "display_data"
    }
   ],
   "source": [
    "display(df_modelos)"
   ]
  },
  {
   "cell_type": "markdown",
   "id": "2f3120a7",
   "metadata": {},
   "source": [
    "## **Construçãom, Treinamento e Avaliação do Modelo 4 com Decision Tree**"
   ]
  },
  {
   "cell_type": "markdown",
   "id": "4a06659f",
   "metadata": {},
   "source": [
    "Na versão 4, vamos usar o modelo de árvore de decisão."
   ]
  },
  {
   "cell_type": "markdown",
   "id": "67c5943b",
   "metadata": {},
   "source": [
    "Já utilizamos o Random Forest como nosso segundo modelo, onde tivemos o resultado do treinamento de 400 árvores de decisão. Vamos testar simplificar utilizando apenas uma árvore de decisão, pois é um modelo menos sucestível à problemas nos dados."
   ]
  },
  {
   "cell_type": "code",
   "execution_count": 288,
   "id": "9be3270e",
   "metadata": {},
   "outputs": [],
   "source": [
    "# hiperparâmetros\n",
    "tuned_params_v4 = {'min_samples_split' : [2, 3, 4, 5, 7],\n",
    "                   'min_samples_leaf': [1, 2, 3, 4, 6],\n",
    "                   'max_depth' : [2, 3 , 4, 5, 6, 7]}"
   ]
  },
  {
   "cell_type": "code",
   "execution_count": 289,
   "id": "3b9fd19f",
   "metadata": {},
   "outputs": [],
   "source": [
    "# Criando o modelo com RandomizedSearchCV\n",
    "modelo_v4 = RandomizedSearchCV(DecisionTreeClassifier(),\n",
    "                               tuned_params_v4,\n",
    "                               n_iter=15,\n",
    "                               scoring='roc_auc',\n",
    "                               n_jobs=-1)"
   ]
  },
  {
   "cell_type": "code",
   "execution_count": 290,
   "id": "89e5f9e0",
   "metadata": {},
   "outputs": [
    {
     "data": {
      "text/html": [
       "<style>#sk-container-id-19 {color: black;background-color: white;}#sk-container-id-19 pre{padding: 0;}#sk-container-id-19 div.sk-toggleable {background-color: white;}#sk-container-id-19 label.sk-toggleable__label {cursor: pointer;display: block;width: 100%;margin-bottom: 0;padding: 0.3em;box-sizing: border-box;text-align: center;}#sk-container-id-19 label.sk-toggleable__label-arrow:before {content: \"▸\";float: left;margin-right: 0.25em;color: #696969;}#sk-container-id-19 label.sk-toggleable__label-arrow:hover:before {color: black;}#sk-container-id-19 div.sk-estimator:hover label.sk-toggleable__label-arrow:before {color: black;}#sk-container-id-19 div.sk-toggleable__content {max-height: 0;max-width: 0;overflow: hidden;text-align: left;background-color: #f0f8ff;}#sk-container-id-19 div.sk-toggleable__content pre {margin: 0.2em;color: black;border-radius: 0.25em;background-color: #f0f8ff;}#sk-container-id-19 input.sk-toggleable__control:checked~div.sk-toggleable__content {max-height: 200px;max-width: 100%;overflow: auto;}#sk-container-id-19 input.sk-toggleable__control:checked~label.sk-toggleable__label-arrow:before {content: \"▾\";}#sk-container-id-19 div.sk-estimator input.sk-toggleable__control:checked~label.sk-toggleable__label {background-color: #d4ebff;}#sk-container-id-19 div.sk-label input.sk-toggleable__control:checked~label.sk-toggleable__label {background-color: #d4ebff;}#sk-container-id-19 input.sk-hidden--visually {border: 0;clip: rect(1px 1px 1px 1px);clip: rect(1px, 1px, 1px, 1px);height: 1px;margin: -1px;overflow: hidden;padding: 0;position: absolute;width: 1px;}#sk-container-id-19 div.sk-estimator {font-family: monospace;background-color: #f0f8ff;border: 1px dotted black;border-radius: 0.25em;box-sizing: border-box;margin-bottom: 0.5em;}#sk-container-id-19 div.sk-estimator:hover {background-color: #d4ebff;}#sk-container-id-19 div.sk-parallel-item::after {content: \"\";width: 100%;border-bottom: 1px solid gray;flex-grow: 1;}#sk-container-id-19 div.sk-label:hover label.sk-toggleable__label {background-color: #d4ebff;}#sk-container-id-19 div.sk-serial::before {content: \"\";position: absolute;border-left: 1px solid gray;box-sizing: border-box;top: 0;bottom: 0;left: 50%;z-index: 0;}#sk-container-id-19 div.sk-serial {display: flex;flex-direction: column;align-items: center;background-color: white;padding-right: 0.2em;padding-left: 0.2em;position: relative;}#sk-container-id-19 div.sk-item {position: relative;z-index: 1;}#sk-container-id-19 div.sk-parallel {display: flex;align-items: stretch;justify-content: center;background-color: white;position: relative;}#sk-container-id-19 div.sk-item::before, #sk-container-id-19 div.sk-parallel-item::before {content: \"\";position: absolute;border-left: 1px solid gray;box-sizing: border-box;top: 0;bottom: 0;left: 50%;z-index: -1;}#sk-container-id-19 div.sk-parallel-item {display: flex;flex-direction: column;z-index: 1;position: relative;background-color: white;}#sk-container-id-19 div.sk-parallel-item:first-child::after {align-self: flex-end;width: 50%;}#sk-container-id-19 div.sk-parallel-item:last-child::after {align-self: flex-start;width: 50%;}#sk-container-id-19 div.sk-parallel-item:only-child::after {width: 0;}#sk-container-id-19 div.sk-dashed-wrapped {border: 1px dashed gray;margin: 0 0.4em 0.5em 0.4em;box-sizing: border-box;padding-bottom: 0.4em;background-color: white;}#sk-container-id-19 div.sk-label label {font-family: monospace;font-weight: bold;display: inline-block;line-height: 1.2em;}#sk-container-id-19 div.sk-label-container {text-align: center;}#sk-container-id-19 div.sk-container {/* jupyter's `normalize.less` sets `[hidden] { display: none; }` but bootstrap.min.css set `[hidden] { display: none !important; }` so we also need the `!important` here to be able to override the default hidden behavior on the sphinx rendered scikit-learn.org. See: https://github.com/scikit-learn/scikit-learn/issues/21755 */display: inline-block !important;position: relative;}#sk-container-id-19 div.sk-text-repr-fallback {display: none;}</style><div id=\"sk-container-id-19\" class=\"sk-top-container\"><div class=\"sk-text-repr-fallback\"><pre>RandomizedSearchCV(estimator=DecisionTreeClassifier(), n_iter=15, n_jobs=-1,\n",
       "                   param_distributions={&#x27;max_depth&#x27;: [2, 3, 4, 5, 6, 7],\n",
       "                                        &#x27;min_samples_leaf&#x27;: [1, 2, 3, 4, 6],\n",
       "                                        &#x27;min_samples_split&#x27;: [2, 3, 4, 5, 7]},\n",
       "                   scoring=&#x27;roc_auc&#x27;)</pre><b>In a Jupyter environment, please rerun this cell to show the HTML representation or trust the notebook. <br />On GitHub, the HTML representation is unable to render, please try loading this page with nbviewer.org.</b></div><div class=\"sk-container\" hidden><div class=\"sk-item sk-dashed-wrapped\"><div class=\"sk-label-container\"><div class=\"sk-label sk-toggleable\"><input class=\"sk-toggleable__control sk-hidden--visually\" id=\"sk-estimator-id-29\" type=\"checkbox\" ><label for=\"sk-estimator-id-29\" class=\"sk-toggleable__label sk-toggleable__label-arrow\">RandomizedSearchCV</label><div class=\"sk-toggleable__content\"><pre>RandomizedSearchCV(estimator=DecisionTreeClassifier(), n_iter=15, n_jobs=-1,\n",
       "                   param_distributions={&#x27;max_depth&#x27;: [2, 3, 4, 5, 6, 7],\n",
       "                                        &#x27;min_samples_leaf&#x27;: [1, 2, 3, 4, 6],\n",
       "                                        &#x27;min_samples_split&#x27;: [2, 3, 4, 5, 7]},\n",
       "                   scoring=&#x27;roc_auc&#x27;)</pre></div></div></div><div class=\"sk-parallel\"><div class=\"sk-parallel-item\"><div class=\"sk-item\"><div class=\"sk-label-container\"><div class=\"sk-label sk-toggleable\"><input class=\"sk-toggleable__control sk-hidden--visually\" id=\"sk-estimator-id-30\" type=\"checkbox\" ><label for=\"sk-estimator-id-30\" class=\"sk-toggleable__label sk-toggleable__label-arrow\">estimator: DecisionTreeClassifier</label><div class=\"sk-toggleable__content\"><pre>DecisionTreeClassifier()</pre></div></div></div><div class=\"sk-serial\"><div class=\"sk-item\"><div class=\"sk-estimator sk-toggleable\"><input class=\"sk-toggleable__control sk-hidden--visually\" id=\"sk-estimator-id-31\" type=\"checkbox\" ><label for=\"sk-estimator-id-31\" class=\"sk-toggleable__label sk-toggleable__label-arrow\">DecisionTreeClassifier</label><div class=\"sk-toggleable__content\"><pre>DecisionTreeClassifier()</pre></div></div></div></div></div></div></div></div></div></div>"
      ],
      "text/plain": [
       "RandomizedSearchCV(estimator=DecisionTreeClassifier(), n_iter=15, n_jobs=-1,\n",
       "                   param_distributions={'max_depth': [2, 3, 4, 5, 6, 7],\n",
       "                                        'min_samples_leaf': [1, 2, 3, 4, 6],\n",
       "                                        'min_samples_split': [2, 3, 4, 5, 7]},\n",
       "                   scoring='roc_auc')"
      ]
     },
     "execution_count": 290,
     "metadata": {},
     "output_type": "execute_result"
    }
   ],
   "source": [
    "# Treinamento\n",
    "modelo_v4.fit(X_treino, y_treino)"
   ]
  },
  {
   "cell_type": "code",
   "execution_count": 291,
   "id": "9598b64f",
   "metadata": {},
   "outputs": [
    {
     "data": {
      "text/html": [
       "<style>#sk-container-id-20 {color: black;background-color: white;}#sk-container-id-20 pre{padding: 0;}#sk-container-id-20 div.sk-toggleable {background-color: white;}#sk-container-id-20 label.sk-toggleable__label {cursor: pointer;display: block;width: 100%;margin-bottom: 0;padding: 0.3em;box-sizing: border-box;text-align: center;}#sk-container-id-20 label.sk-toggleable__label-arrow:before {content: \"▸\";float: left;margin-right: 0.25em;color: #696969;}#sk-container-id-20 label.sk-toggleable__label-arrow:hover:before {color: black;}#sk-container-id-20 div.sk-estimator:hover label.sk-toggleable__label-arrow:before {color: black;}#sk-container-id-20 div.sk-toggleable__content {max-height: 0;max-width: 0;overflow: hidden;text-align: left;background-color: #f0f8ff;}#sk-container-id-20 div.sk-toggleable__content pre {margin: 0.2em;color: black;border-radius: 0.25em;background-color: #f0f8ff;}#sk-container-id-20 input.sk-toggleable__control:checked~div.sk-toggleable__content {max-height: 200px;max-width: 100%;overflow: auto;}#sk-container-id-20 input.sk-toggleable__control:checked~label.sk-toggleable__label-arrow:before {content: \"▾\";}#sk-container-id-20 div.sk-estimator input.sk-toggleable__control:checked~label.sk-toggleable__label {background-color: #d4ebff;}#sk-container-id-20 div.sk-label input.sk-toggleable__control:checked~label.sk-toggleable__label {background-color: #d4ebff;}#sk-container-id-20 input.sk-hidden--visually {border: 0;clip: rect(1px 1px 1px 1px);clip: rect(1px, 1px, 1px, 1px);height: 1px;margin: -1px;overflow: hidden;padding: 0;position: absolute;width: 1px;}#sk-container-id-20 div.sk-estimator {font-family: monospace;background-color: #f0f8ff;border: 1px dotted black;border-radius: 0.25em;box-sizing: border-box;margin-bottom: 0.5em;}#sk-container-id-20 div.sk-estimator:hover {background-color: #d4ebff;}#sk-container-id-20 div.sk-parallel-item::after {content: \"\";width: 100%;border-bottom: 1px solid gray;flex-grow: 1;}#sk-container-id-20 div.sk-label:hover label.sk-toggleable__label {background-color: #d4ebff;}#sk-container-id-20 div.sk-serial::before {content: \"\";position: absolute;border-left: 1px solid gray;box-sizing: border-box;top: 0;bottom: 0;left: 50%;z-index: 0;}#sk-container-id-20 div.sk-serial {display: flex;flex-direction: column;align-items: center;background-color: white;padding-right: 0.2em;padding-left: 0.2em;position: relative;}#sk-container-id-20 div.sk-item {position: relative;z-index: 1;}#sk-container-id-20 div.sk-parallel {display: flex;align-items: stretch;justify-content: center;background-color: white;position: relative;}#sk-container-id-20 div.sk-item::before, #sk-container-id-20 div.sk-parallel-item::before {content: \"\";position: absolute;border-left: 1px solid gray;box-sizing: border-box;top: 0;bottom: 0;left: 50%;z-index: -1;}#sk-container-id-20 div.sk-parallel-item {display: flex;flex-direction: column;z-index: 1;position: relative;background-color: white;}#sk-container-id-20 div.sk-parallel-item:first-child::after {align-self: flex-end;width: 50%;}#sk-container-id-20 div.sk-parallel-item:last-child::after {align-self: flex-start;width: 50%;}#sk-container-id-20 div.sk-parallel-item:only-child::after {width: 0;}#sk-container-id-20 div.sk-dashed-wrapped {border: 1px dashed gray;margin: 0 0.4em 0.5em 0.4em;box-sizing: border-box;padding-bottom: 0.4em;background-color: white;}#sk-container-id-20 div.sk-label label {font-family: monospace;font-weight: bold;display: inline-block;line-height: 1.2em;}#sk-container-id-20 div.sk-label-container {text-align: center;}#sk-container-id-20 div.sk-container {/* jupyter's `normalize.less` sets `[hidden] { display: none; }` but bootstrap.min.css set `[hidden] { display: none !important; }` so we also need the `!important` here to be able to override the default hidden behavior on the sphinx rendered scikit-learn.org. See: https://github.com/scikit-learn/scikit-learn/issues/21755 */display: inline-block !important;position: relative;}#sk-container-id-20 div.sk-text-repr-fallback {display: none;}</style><div id=\"sk-container-id-20\" class=\"sk-top-container\"><div class=\"sk-text-repr-fallback\"><pre>DecisionTreeClassifier(max_depth=7, min_samples_leaf=3, min_samples_split=5)</pre><b>In a Jupyter environment, please rerun this cell to show the HTML representation or trust the notebook. <br />On GitHub, the HTML representation is unable to render, please try loading this page with nbviewer.org.</b></div><div class=\"sk-container\" hidden><div class=\"sk-item\"><div class=\"sk-estimator sk-toggleable\"><input class=\"sk-toggleable__control sk-hidden--visually\" id=\"sk-estimator-id-32\" type=\"checkbox\" checked><label for=\"sk-estimator-id-32\" class=\"sk-toggleable__label sk-toggleable__label-arrow\">DecisionTreeClassifier</label><div class=\"sk-toggleable__content\"><pre>DecisionTreeClassifier(max_depth=7, min_samples_leaf=3, min_samples_split=5)</pre></div></div></div></div></div>"
      ],
      "text/plain": [
       "DecisionTreeClassifier(max_depth=7, min_samples_leaf=3, min_samples_split=5)"
      ]
     },
     "execution_count": 291,
     "metadata": {},
     "output_type": "execute_result"
    }
   ],
   "source": [
    "# Melhor modelo\n",
    "modelo_v4.best_estimator_"
   ]
  },
  {
   "cell_type": "code",
   "execution_count": 292,
   "id": "830e08e1",
   "metadata": {},
   "outputs": [],
   "source": [
    "# Previsões de classe\n",
    "y_pred_v4 = modelo_v4.predict(X_teste)"
   ]
  },
  {
   "cell_type": "code",
   "execution_count": 293,
   "id": "6055a3b4",
   "metadata": {},
   "outputs": [],
   "source": [
    "# Previsões de probabilidade\n",
    "y_pred_proba_v4 = modelo_v4.predict_proba(X_teste)[:,1]"
   ]
  },
  {
   "cell_type": "code",
   "execution_count": 294,
   "id": "d7342b63",
   "metadata": {},
   "outputs": [
    {
     "data": {
      "text/plain": [
       "array([[24, 16],\n",
       "       [38, 63]])"
      ]
     },
     "execution_count": 294,
     "metadata": {},
     "output_type": "execute_result"
    }
   ],
   "source": [
    "confusion_matrix(y_teste, y_pred_v4)"
   ]
  },
  {
   "cell_type": "code",
   "execution_count": 295,
   "id": "ff374f5d",
   "metadata": {},
   "outputs": [
    {
     "name": "stdout",
     "output_type": "stream",
     "text": [
      "0.6118811881188119\n"
     ]
    }
   ],
   "source": [
    "# Calculando ROC AUC score\n",
    "roc_auc_v4 = roc_auc_score(y_teste, y_pred_v4)\n",
    "print(roc_auc_v4)"
   ]
  },
  {
   "cell_type": "code",
   "execution_count": 296,
   "id": "1d868576",
   "metadata": {},
   "outputs": [],
   "source": [
    "# Curva ROC\n",
    "fpr_v4, tpr_v4, thresholds = roc_curve(y_teste, y_pred_v4)"
   ]
  },
  {
   "cell_type": "code",
   "execution_count": 297,
   "id": "866cbaa7",
   "metadata": {},
   "outputs": [
    {
     "name": "stdout",
     "output_type": "stream",
     "text": [
      "0.6118811881188119\n"
     ]
    }
   ],
   "source": [
    "# AUC\n",
    "auc_v4 = auc(fpr_v4, tpr_v4)\n",
    "print(auc_v4)"
   ]
  },
  {
   "cell_type": "code",
   "execution_count": 298,
   "id": "193b64af",
   "metadata": {},
   "outputs": [
    {
     "name": "stdout",
     "output_type": "stream",
     "text": [
      "0.6170212765957447\n"
     ]
    }
   ],
   "source": [
    "# Calculando acurácia\n",
    "acuracia_v4 = accuracy_score(y_teste, y_pred_v4)\n",
    "print(acuracia_v4)"
   ]
  },
  {
   "cell_type": "markdown",
   "id": "cf5619df",
   "metadata": {},
   "source": [
    "**Feature Importance**"
   ]
  },
  {
   "cell_type": "code",
   "execution_count": 299,
   "id": "ee654994",
   "metadata": {},
   "outputs": [
    {
     "data": {
      "text/plain": [
       "{'min_samples_split': 5, 'min_samples_leaf': 3, 'max_depth': 7}"
      ]
     },
     "execution_count": 299,
     "metadata": {},
     "output_type": "execute_result"
    }
   ],
   "source": [
    "modelo_v4.best_params_"
   ]
  },
  {
   "cell_type": "code",
   "execution_count": 300,
   "id": "b8697fa4",
   "metadata": {},
   "outputs": [
    {
     "data": {
      "text/html": [
       "<style>#sk-container-id-21 {color: black;background-color: white;}#sk-container-id-21 pre{padding: 0;}#sk-container-id-21 div.sk-toggleable {background-color: white;}#sk-container-id-21 label.sk-toggleable__label {cursor: pointer;display: block;width: 100%;margin-bottom: 0;padding: 0.3em;box-sizing: border-box;text-align: center;}#sk-container-id-21 label.sk-toggleable__label-arrow:before {content: \"▸\";float: left;margin-right: 0.25em;color: #696969;}#sk-container-id-21 label.sk-toggleable__label-arrow:hover:before {color: black;}#sk-container-id-21 div.sk-estimator:hover label.sk-toggleable__label-arrow:before {color: black;}#sk-container-id-21 div.sk-toggleable__content {max-height: 0;max-width: 0;overflow: hidden;text-align: left;background-color: #f0f8ff;}#sk-container-id-21 div.sk-toggleable__content pre {margin: 0.2em;color: black;border-radius: 0.25em;background-color: #f0f8ff;}#sk-container-id-21 input.sk-toggleable__control:checked~div.sk-toggleable__content {max-height: 200px;max-width: 100%;overflow: auto;}#sk-container-id-21 input.sk-toggleable__control:checked~label.sk-toggleable__label-arrow:before {content: \"▾\";}#sk-container-id-21 div.sk-estimator input.sk-toggleable__control:checked~label.sk-toggleable__label {background-color: #d4ebff;}#sk-container-id-21 div.sk-label input.sk-toggleable__control:checked~label.sk-toggleable__label {background-color: #d4ebff;}#sk-container-id-21 input.sk-hidden--visually {border: 0;clip: rect(1px 1px 1px 1px);clip: rect(1px, 1px, 1px, 1px);height: 1px;margin: -1px;overflow: hidden;padding: 0;position: absolute;width: 1px;}#sk-container-id-21 div.sk-estimator {font-family: monospace;background-color: #f0f8ff;border: 1px dotted black;border-radius: 0.25em;box-sizing: border-box;margin-bottom: 0.5em;}#sk-container-id-21 div.sk-estimator:hover {background-color: #d4ebff;}#sk-container-id-21 div.sk-parallel-item::after {content: \"\";width: 100%;border-bottom: 1px solid gray;flex-grow: 1;}#sk-container-id-21 div.sk-label:hover label.sk-toggleable__label {background-color: #d4ebff;}#sk-container-id-21 div.sk-serial::before {content: \"\";position: absolute;border-left: 1px solid gray;box-sizing: border-box;top: 0;bottom: 0;left: 50%;z-index: 0;}#sk-container-id-21 div.sk-serial {display: flex;flex-direction: column;align-items: center;background-color: white;padding-right: 0.2em;padding-left: 0.2em;position: relative;}#sk-container-id-21 div.sk-item {position: relative;z-index: 1;}#sk-container-id-21 div.sk-parallel {display: flex;align-items: stretch;justify-content: center;background-color: white;position: relative;}#sk-container-id-21 div.sk-item::before, #sk-container-id-21 div.sk-parallel-item::before {content: \"\";position: absolute;border-left: 1px solid gray;box-sizing: border-box;top: 0;bottom: 0;left: 50%;z-index: -1;}#sk-container-id-21 div.sk-parallel-item {display: flex;flex-direction: column;z-index: 1;position: relative;background-color: white;}#sk-container-id-21 div.sk-parallel-item:first-child::after {align-self: flex-end;width: 50%;}#sk-container-id-21 div.sk-parallel-item:last-child::after {align-self: flex-start;width: 50%;}#sk-container-id-21 div.sk-parallel-item:only-child::after {width: 0;}#sk-container-id-21 div.sk-dashed-wrapped {border: 1px dashed gray;margin: 0 0.4em 0.5em 0.4em;box-sizing: border-box;padding-bottom: 0.4em;background-color: white;}#sk-container-id-21 div.sk-label label {font-family: monospace;font-weight: bold;display: inline-block;line-height: 1.2em;}#sk-container-id-21 div.sk-label-container {text-align: center;}#sk-container-id-21 div.sk-container {/* jupyter's `normalize.less` sets `[hidden] { display: none; }` but bootstrap.min.css set `[hidden] { display: none !important; }` so we also need the `!important` here to be able to override the default hidden behavior on the sphinx rendered scikit-learn.org. See: https://github.com/scikit-learn/scikit-learn/issues/21755 */display: inline-block !important;position: relative;}#sk-container-id-21 div.sk-text-repr-fallback {display: none;}</style><div id=\"sk-container-id-21\" class=\"sk-top-container\"><div class=\"sk-text-repr-fallback\"><pre>DecisionTreeClassifier(max_depth=5, min_samples_leaf=6, min_samples_split=4)</pre><b>In a Jupyter environment, please rerun this cell to show the HTML representation or trust the notebook. <br />On GitHub, the HTML representation is unable to render, please try loading this page with nbviewer.org.</b></div><div class=\"sk-container\" hidden><div class=\"sk-item\"><div class=\"sk-estimator sk-toggleable\"><input class=\"sk-toggleable__control sk-hidden--visually\" id=\"sk-estimator-id-33\" type=\"checkbox\" checked><label for=\"sk-estimator-id-33\" class=\"sk-toggleable__label sk-toggleable__label-arrow\">DecisionTreeClassifier</label><div class=\"sk-toggleable__content\"><pre>DecisionTreeClassifier(max_depth=5, min_samples_leaf=6, min_samples_split=4)</pre></div></div></div></div></div>"
      ],
      "text/plain": [
       "DecisionTreeClassifier(max_depth=5, min_samples_leaf=6, min_samples_split=4)"
      ]
     },
     "execution_count": 300,
     "metadata": {},
     "output_type": "execute_result"
    }
   ],
   "source": [
    "#Recriando o modelo\n",
    "modelo_v4 = DecisionTreeClassifier(min_samples_split=4, min_samples_leaf=6, max_depth=5)\n",
    "modelo_v4.fit(X_treino, y_treino)"
   ]
  },
  {
   "cell_type": "code",
   "execution_count": 301,
   "id": "696093e0",
   "metadata": {},
   "outputs": [
    {
     "name": "stdout",
     "output_type": "stream",
     "text": [
      "Variáveis mais importantes para o restulado do modelo_v4:\n",
      "--------------------------------------------------\n",
      "Total_Bilirubin\n",
      "Aspartate_Aminotransferase\n",
      "Alkaline_Phosphotase\n",
      "Age\n",
      "Albumin\n",
      "Alamine_Aminotransferase\n",
      "Total_Protiens\n",
      "Albumin_and_Globulin_Ratio\n",
      "Gender\n"
     ]
    }
   ],
   "source": [
    "# Variáveis mais importantes\n",
    "indices = np.argsort(-modelo_v4.feature_importances_)\n",
    "print(\"Variáveis mais importantes para o restulado do modelo_v4:\")\n",
    "print(50*'-')\n",
    "for feature in X.columns[indices]:\n",
    "    print(feature)"
   ]
  },
  {
   "cell_type": "markdown",
   "id": "225722f3",
   "metadata": {},
   "source": [
    "Mais uma vez, temos Total_Bilirubin está como a variávei mais importante para predição!"
   ]
  },
  {
   "cell_type": "code",
   "execution_count": 302,
   "id": "844ca561",
   "metadata": {},
   "outputs": [],
   "source": [
    "# Salvando o modelo em disco\n",
    "with open('modelos/modelo_v4.pkl', 'wb') as pickle_file:\n",
    "    joblib.dump(modelo_v4, 'modelos/modelo_v4.pkl')"
   ]
  },
  {
   "cell_type": "code",
   "execution_count": 303,
   "id": "71155687",
   "metadata": {},
   "outputs": [],
   "source": [
    "# Dicionário com as métricas do modelo_v4\n",
    "dict_modelo_v4 = {'Nome' : 'modelo_v4',\n",
    "                  'Algoritmo' : 'Decision Tree',\n",
    "                  'ROC_AUC Score' : roc_auc_v4,\n",
    "                  'AUC Score' : auc_v4,\n",
    "                  'Acurácia' : acuracia_v4}"
   ]
  },
  {
   "cell_type": "code",
   "execution_count": 304,
   "id": "0ed6b962",
   "metadata": {},
   "outputs": [
    {
     "data": {
      "text/html": [
       "<div>\n",
       "<style scoped>\n",
       "    .dataframe tbody tr th:only-of-type {\n",
       "        vertical-align: middle;\n",
       "    }\n",
       "\n",
       "    .dataframe tbody tr th {\n",
       "        vertical-align: top;\n",
       "    }\n",
       "\n",
       "    .dataframe thead th {\n",
       "        text-align: right;\n",
       "    }\n",
       "</style>\n",
       "<table border=\"1\" class=\"dataframe\">\n",
       "  <thead>\n",
       "    <tr style=\"text-align: right;\">\n",
       "      <th></th>\n",
       "      <th>Nome</th>\n",
       "      <th>Algoritmo</th>\n",
       "      <th>ROC_AUC Score</th>\n",
       "      <th>AUC Score</th>\n",
       "      <th>Acurácia</th>\n",
       "    </tr>\n",
       "  </thead>\n",
       "  <tbody>\n",
       "    <tr>\n",
       "      <th>0</th>\n",
       "      <td>modelo_v1</td>\n",
       "      <td>Regressão Logística</td>\n",
       "      <td>0.711881</td>\n",
       "      <td>0.736881</td>\n",
       "      <td>0.673759</td>\n",
       "    </tr>\n",
       "    <tr>\n",
       "      <th>1</th>\n",
       "      <td>modelo_v2</td>\n",
       "      <td>Random Forest</td>\n",
       "      <td>0.645792</td>\n",
       "      <td>0.750371</td>\n",
       "      <td>0.730496</td>\n",
       "    </tr>\n",
       "    <tr>\n",
       "      <th>2</th>\n",
       "      <td>modelo_v3</td>\n",
       "      <td>KNN</td>\n",
       "      <td>0.526980</td>\n",
       "      <td>0.526980</td>\n",
       "      <td>0.560284</td>\n",
       "    </tr>\n",
       "    <tr>\n",
       "      <th>3</th>\n",
       "      <td>modelo_v4</td>\n",
       "      <td>Decision Tree</td>\n",
       "      <td>0.611881</td>\n",
       "      <td>0.611881</td>\n",
       "      <td>0.617021</td>\n",
       "    </tr>\n",
       "  </tbody>\n",
       "</table>\n",
       "</div>"
      ],
      "text/plain": [
       "        Nome            Algoritmo  ROC_AUC Score  AUC Score  Acurácia\n",
       "0  modelo_v1  Regressão Logística       0.711881   0.736881  0.673759\n",
       "1  modelo_v2        Random Forest       0.645792   0.750371  0.730496\n",
       "2  modelo_v3                  KNN       0.526980   0.526980  0.560284\n",
       "3  modelo_v4        Decision Tree       0.611881   0.611881  0.617021"
      ]
     },
     "metadata": {},
     "output_type": "display_data"
    }
   ],
   "source": [
    "#Adicionando o dict no dataframe dos modelos\n",
    "df_modelos = df_modelos.append(dict_modelo_v4, ignore_index=True)\n",
    "display(df_modelos)"
   ]
  },
  {
   "cell_type": "markdown",
   "id": "05f96c97",
   "metadata": {},
   "source": [
    "## **Construção, Treinamento e Avaliação do Modelo 5 com SVM**"
   ]
  },
  {
   "cell_type": "markdown",
   "id": "1e56595e",
   "metadata": {},
   "source": [
    "Vamos testar o algoritmo SVM como nossa 5 versão do modelo."
   ]
  },
  {
   "cell_type": "code",
   "execution_count": 305,
   "id": "c6b7f380",
   "metadata": {},
   "outputs": [],
   "source": [
    "# Função para seleção de hiperparâmetros\n",
    "def svc_param_selection(X, y, nfolds):\n",
    "    Cs = [0.001, 0.01, 0.1, 1, 10]\n",
    "    gammas = [0.001, 0.01, 0.1, 1]\n",
    "    param_grid = {'C' : Cs, 'gamma' : gammas}\n",
    "    grid_search = GridSearchCV(SVC(kernel='rbf'), param_grid, cv = nfolds)\n",
    "    grid_search.fit(X_treino, y_treino)\n",
    "    grid_search.best_params_\n",
    "    return grid_search.best_params_"
   ]
  },
  {
   "cell_type": "code",
   "execution_count": 306,
   "id": "1cca7d9c",
   "metadata": {},
   "outputs": [
    {
     "data": {
      "text/plain": [
       "{'C': 10, 'gamma': 1}"
      ]
     },
     "execution_count": 306,
     "metadata": {},
     "output_type": "execute_result"
    }
   ],
   "source": [
    "# Aplicando a função que acabamos de criar\n",
    "svc_param_selection(X_treino, y_treino, 5)"
   ]
  },
  {
   "cell_type": "code",
   "execution_count": 307,
   "id": "3dff40d4",
   "metadata": {},
   "outputs": [],
   "source": [
    "# Criando o modelo com os melhores hiperparâmetros\n",
    "modelo_v5 = SVC(C = 1, gamma = 1, probability=True)"
   ]
  },
  {
   "cell_type": "code",
   "execution_count": 308,
   "id": "6f066b9e",
   "metadata": {},
   "outputs": [
    {
     "data": {
      "text/html": [
       "<style>#sk-container-id-22 {color: black;background-color: white;}#sk-container-id-22 pre{padding: 0;}#sk-container-id-22 div.sk-toggleable {background-color: white;}#sk-container-id-22 label.sk-toggleable__label {cursor: pointer;display: block;width: 100%;margin-bottom: 0;padding: 0.3em;box-sizing: border-box;text-align: center;}#sk-container-id-22 label.sk-toggleable__label-arrow:before {content: \"▸\";float: left;margin-right: 0.25em;color: #696969;}#sk-container-id-22 label.sk-toggleable__label-arrow:hover:before {color: black;}#sk-container-id-22 div.sk-estimator:hover label.sk-toggleable__label-arrow:before {color: black;}#sk-container-id-22 div.sk-toggleable__content {max-height: 0;max-width: 0;overflow: hidden;text-align: left;background-color: #f0f8ff;}#sk-container-id-22 div.sk-toggleable__content pre {margin: 0.2em;color: black;border-radius: 0.25em;background-color: #f0f8ff;}#sk-container-id-22 input.sk-toggleable__control:checked~div.sk-toggleable__content {max-height: 200px;max-width: 100%;overflow: auto;}#sk-container-id-22 input.sk-toggleable__control:checked~label.sk-toggleable__label-arrow:before {content: \"▾\";}#sk-container-id-22 div.sk-estimator input.sk-toggleable__control:checked~label.sk-toggleable__label {background-color: #d4ebff;}#sk-container-id-22 div.sk-label input.sk-toggleable__control:checked~label.sk-toggleable__label {background-color: #d4ebff;}#sk-container-id-22 input.sk-hidden--visually {border: 0;clip: rect(1px 1px 1px 1px);clip: rect(1px, 1px, 1px, 1px);height: 1px;margin: -1px;overflow: hidden;padding: 0;position: absolute;width: 1px;}#sk-container-id-22 div.sk-estimator {font-family: monospace;background-color: #f0f8ff;border: 1px dotted black;border-radius: 0.25em;box-sizing: border-box;margin-bottom: 0.5em;}#sk-container-id-22 div.sk-estimator:hover {background-color: #d4ebff;}#sk-container-id-22 div.sk-parallel-item::after {content: \"\";width: 100%;border-bottom: 1px solid gray;flex-grow: 1;}#sk-container-id-22 div.sk-label:hover label.sk-toggleable__label {background-color: #d4ebff;}#sk-container-id-22 div.sk-serial::before {content: \"\";position: absolute;border-left: 1px solid gray;box-sizing: border-box;top: 0;bottom: 0;left: 50%;z-index: 0;}#sk-container-id-22 div.sk-serial {display: flex;flex-direction: column;align-items: center;background-color: white;padding-right: 0.2em;padding-left: 0.2em;position: relative;}#sk-container-id-22 div.sk-item {position: relative;z-index: 1;}#sk-container-id-22 div.sk-parallel {display: flex;align-items: stretch;justify-content: center;background-color: white;position: relative;}#sk-container-id-22 div.sk-item::before, #sk-container-id-22 div.sk-parallel-item::before {content: \"\";position: absolute;border-left: 1px solid gray;box-sizing: border-box;top: 0;bottom: 0;left: 50%;z-index: -1;}#sk-container-id-22 div.sk-parallel-item {display: flex;flex-direction: column;z-index: 1;position: relative;background-color: white;}#sk-container-id-22 div.sk-parallel-item:first-child::after {align-self: flex-end;width: 50%;}#sk-container-id-22 div.sk-parallel-item:last-child::after {align-self: flex-start;width: 50%;}#sk-container-id-22 div.sk-parallel-item:only-child::after {width: 0;}#sk-container-id-22 div.sk-dashed-wrapped {border: 1px dashed gray;margin: 0 0.4em 0.5em 0.4em;box-sizing: border-box;padding-bottom: 0.4em;background-color: white;}#sk-container-id-22 div.sk-label label {font-family: monospace;font-weight: bold;display: inline-block;line-height: 1.2em;}#sk-container-id-22 div.sk-label-container {text-align: center;}#sk-container-id-22 div.sk-container {/* jupyter's `normalize.less` sets `[hidden] { display: none; }` but bootstrap.min.css set `[hidden] { display: none !important; }` so we also need the `!important` here to be able to override the default hidden behavior on the sphinx rendered scikit-learn.org. See: https://github.com/scikit-learn/scikit-learn/issues/21755 */display: inline-block !important;position: relative;}#sk-container-id-22 div.sk-text-repr-fallback {display: none;}</style><div id=\"sk-container-id-22\" class=\"sk-top-container\"><div class=\"sk-text-repr-fallback\"><pre>SVC(C=1, gamma=1, probability=True)</pre><b>In a Jupyter environment, please rerun this cell to show the HTML representation or trust the notebook. <br />On GitHub, the HTML representation is unable to render, please try loading this page with nbviewer.org.</b></div><div class=\"sk-container\" hidden><div class=\"sk-item\"><div class=\"sk-estimator sk-toggleable\"><input class=\"sk-toggleable__control sk-hidden--visually\" id=\"sk-estimator-id-34\" type=\"checkbox\" checked><label for=\"sk-estimator-id-34\" class=\"sk-toggleable__label sk-toggleable__label-arrow\">SVC</label><div class=\"sk-toggleable__content\"><pre>SVC(C=1, gamma=1, probability=True)</pre></div></div></div></div></div>"
      ],
      "text/plain": [
       "SVC(C=1, gamma=1, probability=True)"
      ]
     },
     "execution_count": 308,
     "metadata": {},
     "output_type": "execute_result"
    }
   ],
   "source": [
    "#Treinamento\n",
    "modelo_v5.fit(X_treino, y_treino)"
   ]
  },
  {
   "cell_type": "code",
   "execution_count": 309,
   "id": "c5ca3534",
   "metadata": {},
   "outputs": [],
   "source": [
    "# Previsões de classe\n",
    "y_pred_v5 = modelo_v5.predict(X_teste)\n"
   ]
  },
  {
   "cell_type": "code",
   "execution_count": 310,
   "id": "05369f09",
   "metadata": {},
   "outputs": [
    {
     "data": {
      "text/plain": [
       "array([[17, 23],\n",
       "       [27, 74]])"
      ]
     },
     "execution_count": 310,
     "metadata": {},
     "output_type": "execute_result"
    }
   ],
   "source": [
    "confusion_matrix(y_teste, y_pred_v5)"
   ]
  },
  {
   "cell_type": "code",
   "execution_count": 311,
   "id": "a260d1ab",
   "metadata": {},
   "outputs": [],
   "source": [
    "# Previsões de probabilidade\n",
    "y_pred_proba_v5 = modelo_v5.predict_proba(X_teste)[:,1]"
   ]
  },
  {
   "cell_type": "code",
   "execution_count": 312,
   "id": "cee5f143",
   "metadata": {},
   "outputs": [
    {
     "name": "stdout",
     "output_type": "stream",
     "text": [
      "0.5788366336633664\n"
     ]
    }
   ],
   "source": [
    "# Calculando ROC AUC score\n",
    "roc_auc_v5 = roc_auc_score(y_teste, y_pred_v5)\n",
    "print(roc_auc_v5)"
   ]
  },
  {
   "cell_type": "code",
   "execution_count": 313,
   "id": "6fb47c1c",
   "metadata": {},
   "outputs": [],
   "source": [
    "# Calculando curva ROC\n",
    "fpr_v5, tpr_v5, thresholds = roc_curve(y_teste, y_pred_proba_v5)"
   ]
  },
  {
   "cell_type": "code",
   "execution_count": 314,
   "id": "59b70994",
   "metadata": {},
   "outputs": [
    {
     "name": "stdout",
     "output_type": "stream",
     "text": [
      "0.6202970297029703\n"
     ]
    }
   ],
   "source": [
    "# Calculando AUC score\n",
    "auc_v5 = auc(fpr_v5, tpr_v5)\n",
    "print(auc_v5)"
   ]
  },
  {
   "cell_type": "markdown",
   "id": "6d9c2909",
   "metadata": {},
   "source": [
    "*O SVM também não tem o parâmetro de importância das variáveis para analisarmos.*"
   ]
  },
  {
   "cell_type": "code",
   "execution_count": 315,
   "id": "baaa0368",
   "metadata": {},
   "outputs": [
    {
     "name": "stdout",
     "output_type": "stream",
     "text": [
      "0.6453900709219859\n"
     ]
    }
   ],
   "source": [
    "# Calculando a acurárcia\n",
    "acuracia_v5 = accuracy_score(y_teste, y_pred_v5)\n",
    "print(acuracia_v5)"
   ]
  },
  {
   "cell_type": "code",
   "execution_count": 316,
   "id": "35115410",
   "metadata": {},
   "outputs": [],
   "source": [
    "# Salvando o modelo em disco\n",
    "with open('modelos/modelo_v5.pkl', 'wb') as pickle_file:\n",
    "    joblib.dump(modelo_v5, 'modelos/modelo_v5.pkl')"
   ]
  },
  {
   "cell_type": "code",
   "execution_count": 317,
   "id": "d09e2b01",
   "metadata": {},
   "outputs": [],
   "source": [
    "# Dicionário com as métricas do modelo_v5\n",
    "dict_modelo_v5 = {'Nome' : 'modelo_v5',\n",
    "                  'Algoritmo' : 'SVM',\n",
    "                  'ROC_AUC Score' : roc_auc_v5,\n",
    "                  'AUC Score' : auc_v5,\n",
    "                  'Acurácia' : acuracia_v5}"
   ]
  },
  {
   "cell_type": "code",
   "execution_count": 318,
   "id": "e0821cfa",
   "metadata": {},
   "outputs": [
    {
     "data": {
      "text/html": [
       "<div>\n",
       "<style scoped>\n",
       "    .dataframe tbody tr th:only-of-type {\n",
       "        vertical-align: middle;\n",
       "    }\n",
       "\n",
       "    .dataframe tbody tr th {\n",
       "        vertical-align: top;\n",
       "    }\n",
       "\n",
       "    .dataframe thead th {\n",
       "        text-align: right;\n",
       "    }\n",
       "</style>\n",
       "<table border=\"1\" class=\"dataframe\">\n",
       "  <thead>\n",
       "    <tr style=\"text-align: right;\">\n",
       "      <th></th>\n",
       "      <th>Nome</th>\n",
       "      <th>Algoritmo</th>\n",
       "      <th>ROC_AUC Score</th>\n",
       "      <th>AUC Score</th>\n",
       "      <th>Acurácia</th>\n",
       "    </tr>\n",
       "  </thead>\n",
       "  <tbody>\n",
       "    <tr>\n",
       "      <th>0</th>\n",
       "      <td>modelo_v1</td>\n",
       "      <td>Regressão Logística</td>\n",
       "      <td>0.711881</td>\n",
       "      <td>0.736881</td>\n",
       "      <td>0.673759</td>\n",
       "    </tr>\n",
       "    <tr>\n",
       "      <th>1</th>\n",
       "      <td>modelo_v2</td>\n",
       "      <td>Random Forest</td>\n",
       "      <td>0.645792</td>\n",
       "      <td>0.750371</td>\n",
       "      <td>0.730496</td>\n",
       "    </tr>\n",
       "    <tr>\n",
       "      <th>2</th>\n",
       "      <td>modelo_v3</td>\n",
       "      <td>KNN</td>\n",
       "      <td>0.526980</td>\n",
       "      <td>0.526980</td>\n",
       "      <td>0.560284</td>\n",
       "    </tr>\n",
       "    <tr>\n",
       "      <th>3</th>\n",
       "      <td>modelo_v4</td>\n",
       "      <td>Decision Tree</td>\n",
       "      <td>0.611881</td>\n",
       "      <td>0.611881</td>\n",
       "      <td>0.617021</td>\n",
       "    </tr>\n",
       "    <tr>\n",
       "      <th>4</th>\n",
       "      <td>modelo_v5</td>\n",
       "      <td>SVM</td>\n",
       "      <td>0.578837</td>\n",
       "      <td>0.620297</td>\n",
       "      <td>0.645390</td>\n",
       "    </tr>\n",
       "  </tbody>\n",
       "</table>\n",
       "</div>"
      ],
      "text/plain": [
       "        Nome            Algoritmo  ROC_AUC Score  AUC Score  Acurácia\n",
       "0  modelo_v1  Regressão Logística       0.711881   0.736881  0.673759\n",
       "1  modelo_v2        Random Forest       0.645792   0.750371  0.730496\n",
       "2  modelo_v3                  KNN       0.526980   0.526980  0.560284\n",
       "3  modelo_v4        Decision Tree       0.611881   0.611881  0.617021\n",
       "4  modelo_v5                  SVM       0.578837   0.620297  0.645390"
      ]
     },
     "metadata": {},
     "output_type": "display_data"
    }
   ],
   "source": [
    "# Adicionando o dict ao dataframe df_modelos\n",
    "df_modelos = df_modelos.append(dict_modelo_v5, ignore_index=True)\n",
    "display(df_modelos)"
   ]
  },
  {
   "cell_type": "markdown",
   "id": "6d33952e",
   "metadata": {},
   "source": [
    "## **Selecionando o Melhor Modelo**"
   ]
  },
  {
   "cell_type": "markdown",
   "id": "5dd67c94",
   "metadata": {},
   "source": [
    "Como testamos algoritmos diferentes, faz sentido optar como critário para selecionar o melhor modelo, a métrica AUC Score (ideal neste cenário)."
   ]
  },
  {
   "cell_type": "code",
   "execution_count": 319,
   "id": "63cdd09c",
   "metadata": {},
   "outputs": [
    {
     "data": {
      "text/html": [
       "<div>\n",
       "<style scoped>\n",
       "    .dataframe tbody tr th:only-of-type {\n",
       "        vertical-align: middle;\n",
       "    }\n",
       "\n",
       "    .dataframe tbody tr th {\n",
       "        vertical-align: top;\n",
       "    }\n",
       "\n",
       "    .dataframe thead th {\n",
       "        text-align: right;\n",
       "    }\n",
       "</style>\n",
       "<table border=\"1\" class=\"dataframe\">\n",
       "  <thead>\n",
       "    <tr style=\"text-align: right;\">\n",
       "      <th></th>\n",
       "      <th>Nome</th>\n",
       "      <th>Algoritmo</th>\n",
       "      <th>ROC_AUC Score</th>\n",
       "      <th>AUC Score</th>\n",
       "      <th>Acurácia</th>\n",
       "    </tr>\n",
       "  </thead>\n",
       "  <tbody>\n",
       "    <tr>\n",
       "      <th>1</th>\n",
       "      <td>modelo_v2</td>\n",
       "      <td>Random Forest</td>\n",
       "      <td>0.645792</td>\n",
       "      <td>0.750371</td>\n",
       "      <td>0.730496</td>\n",
       "    </tr>\n",
       "  </tbody>\n",
       "</table>\n",
       "</div>"
      ],
      "text/plain": [
       "        Nome      Algoritmo  ROC_AUC Score  AUC Score  Acurácia\n",
       "1  modelo_v2  Random Forest       0.645792   0.750371  0.730496"
      ]
     },
     "execution_count": 319,
     "metadata": {},
     "output_type": "execute_result"
    }
   ],
   "source": [
    "# Obtendo o nome do melhor modelo\n",
    "df_melhor_modelo = df_modelos[df_modelos['AUC Score'] == df_modelos['AUC Score'].max()]\n",
    "df_melhor_modelo"
   ]
  },
  {
   "cell_type": "markdown",
   "id": "11196a05",
   "metadata": {},
   "source": [
    "## **Previsões com o Melhor Modelo Treinado**"
   ]
  },
  {
   "cell_type": "markdown",
   "id": "e17df6b8",
   "metadata": {},
   "source": [
    "Automatizando a tarefa de obter o nome do modelo e carregá-lo a partir do diretório salvo:"
   ]
  },
  {
   "cell_type": "code",
   "execution_count": 320,
   "id": "d657a8e8",
   "metadata": {},
   "outputs": [
    {
     "data": {
      "text/html": [
       "<style>#sk-container-id-23 {color: black;background-color: white;}#sk-container-id-23 pre{padding: 0;}#sk-container-id-23 div.sk-toggleable {background-color: white;}#sk-container-id-23 label.sk-toggleable__label {cursor: pointer;display: block;width: 100%;margin-bottom: 0;padding: 0.3em;box-sizing: border-box;text-align: center;}#sk-container-id-23 label.sk-toggleable__label-arrow:before {content: \"▸\";float: left;margin-right: 0.25em;color: #696969;}#sk-container-id-23 label.sk-toggleable__label-arrow:hover:before {color: black;}#sk-container-id-23 div.sk-estimator:hover label.sk-toggleable__label-arrow:before {color: black;}#sk-container-id-23 div.sk-toggleable__content {max-height: 0;max-width: 0;overflow: hidden;text-align: left;background-color: #f0f8ff;}#sk-container-id-23 div.sk-toggleable__content pre {margin: 0.2em;color: black;border-radius: 0.25em;background-color: #f0f8ff;}#sk-container-id-23 input.sk-toggleable__control:checked~div.sk-toggleable__content {max-height: 200px;max-width: 100%;overflow: auto;}#sk-container-id-23 input.sk-toggleable__control:checked~label.sk-toggleable__label-arrow:before {content: \"▾\";}#sk-container-id-23 div.sk-estimator input.sk-toggleable__control:checked~label.sk-toggleable__label {background-color: #d4ebff;}#sk-container-id-23 div.sk-label input.sk-toggleable__control:checked~label.sk-toggleable__label {background-color: #d4ebff;}#sk-container-id-23 input.sk-hidden--visually {border: 0;clip: rect(1px 1px 1px 1px);clip: rect(1px, 1px, 1px, 1px);height: 1px;margin: -1px;overflow: hidden;padding: 0;position: absolute;width: 1px;}#sk-container-id-23 div.sk-estimator {font-family: monospace;background-color: #f0f8ff;border: 1px dotted black;border-radius: 0.25em;box-sizing: border-box;margin-bottom: 0.5em;}#sk-container-id-23 div.sk-estimator:hover {background-color: #d4ebff;}#sk-container-id-23 div.sk-parallel-item::after {content: \"\";width: 100%;border-bottom: 1px solid gray;flex-grow: 1;}#sk-container-id-23 div.sk-label:hover label.sk-toggleable__label {background-color: #d4ebff;}#sk-container-id-23 div.sk-serial::before {content: \"\";position: absolute;border-left: 1px solid gray;box-sizing: border-box;top: 0;bottom: 0;left: 50%;z-index: 0;}#sk-container-id-23 div.sk-serial {display: flex;flex-direction: column;align-items: center;background-color: white;padding-right: 0.2em;padding-left: 0.2em;position: relative;}#sk-container-id-23 div.sk-item {position: relative;z-index: 1;}#sk-container-id-23 div.sk-parallel {display: flex;align-items: stretch;justify-content: center;background-color: white;position: relative;}#sk-container-id-23 div.sk-item::before, #sk-container-id-23 div.sk-parallel-item::before {content: \"\";position: absolute;border-left: 1px solid gray;box-sizing: border-box;top: 0;bottom: 0;left: 50%;z-index: -1;}#sk-container-id-23 div.sk-parallel-item {display: flex;flex-direction: column;z-index: 1;position: relative;background-color: white;}#sk-container-id-23 div.sk-parallel-item:first-child::after {align-self: flex-end;width: 50%;}#sk-container-id-23 div.sk-parallel-item:last-child::after {align-self: flex-start;width: 50%;}#sk-container-id-23 div.sk-parallel-item:only-child::after {width: 0;}#sk-container-id-23 div.sk-dashed-wrapped {border: 1px dashed gray;margin: 0 0.4em 0.5em 0.4em;box-sizing: border-box;padding-bottom: 0.4em;background-color: white;}#sk-container-id-23 div.sk-label label {font-family: monospace;font-weight: bold;display: inline-block;line-height: 1.2em;}#sk-container-id-23 div.sk-label-container {text-align: center;}#sk-container-id-23 div.sk-container {/* jupyter's `normalize.less` sets `[hidden] { display: none; }` but bootstrap.min.css set `[hidden] { display: none !important; }` so we also need the `!important` here to be able to override the default hidden behavior on the sphinx rendered scikit-learn.org. See: https://github.com/scikit-learn/scikit-learn/issues/21755 */display: inline-block !important;position: relative;}#sk-container-id-23 div.sk-text-repr-fallback {display: none;}</style><div id=\"sk-container-id-23\" class=\"sk-top-container\"><div class=\"sk-text-repr-fallback\"><pre>RandomForestClassifier(n_estimators=400)</pre><b>In a Jupyter environment, please rerun this cell to show the HTML representation or trust the notebook. <br />On GitHub, the HTML representation is unable to render, please try loading this page with nbviewer.org.</b></div><div class=\"sk-container\" hidden><div class=\"sk-item\"><div class=\"sk-estimator sk-toggleable\"><input class=\"sk-toggleable__control sk-hidden--visually\" id=\"sk-estimator-id-35\" type=\"checkbox\" checked><label for=\"sk-estimator-id-35\" class=\"sk-toggleable__label sk-toggleable__label-arrow\">RandomForestClassifier</label><div class=\"sk-toggleable__content\"><pre>RandomForestClassifier(n_estimators=400)</pre></div></div></div></div></div>"
      ],
      "text/plain": [
       "RandomForestClassifier(n_estimators=400)"
      ]
     },
     "execution_count": 320,
     "metadata": {},
     "output_type": "execute_result"
    }
   ],
   "source": [
    "modelo = df_melhor_modelo.Nome.to_string(index=False)\n",
    "\n",
    "melhor_modelo = joblib.load('modelos/' + modelo + '.pkl')\n",
    "melhor_modelo"
   ]
  },
  {
   "cell_type": "code",
   "execution_count": 321,
   "id": "a732b84c",
   "metadata": {},
   "outputs": [
    {
     "data": {
      "text/plain": [
       "Index(['Age', 'Gender', 'Total_Bilirubin', 'Alkaline_Phosphotase',\n",
       "       'Alamine_Aminotransferase', 'Aspartate_Aminotransferase',\n",
       "       'Total_Protiens', 'Albumin', 'Albumin_and_Globulin_Ratio', 'Target'],\n",
       "      dtype='object')"
      ]
     },
     "execution_count": 321,
     "metadata": {},
     "output_type": "execute_result"
    }
   ],
   "source": [
    "dados.columns"
   ]
  },
  {
   "cell_type": "code",
   "execution_count": 322,
   "id": "28526e39",
   "metadata": {},
   "outputs": [],
   "source": [
    "#Dados brutos de um novo paciente (o número de colunas deve ser o mesmo do que foi utilizado em treino)\n",
    "novo_paciente = [72, 1, 0.8, 186, 15, 29, 7.1, 3.4, 0.97]"
   ]
  },
  {
   "cell_type": "code",
   "execution_count": 323,
   "id": "13ec1f03",
   "metadata": {},
   "outputs": [],
   "source": [
    "# Convertendo o objeto para array\n",
    "arr_paciente = np.array(novo_paciente)"
   ]
  },
  {
   "cell_type": "code",
   "execution_count": 324,
   "id": "1a19f66b",
   "metadata": {},
   "outputs": [],
   "source": [
    "# Usamos média e desvio de treino para padronizar novos dados\n",
    "arr_paciente = (arr_paciente - treino_mean) / treino_std"
   ]
  },
  {
   "cell_type": "code",
   "execution_count": 325,
   "id": "1c3f22cc",
   "metadata": {},
   "outputs": [
    {
     "data": {
      "text/plain": [
       "array([1.75171119, 1.90387448, -0.33792083, -0.36734589, -0.34317231,\n",
       "       -0.34393616, 0.56554881, 0.20220905, -0.09439449])"
      ]
     },
     "execution_count": 325,
     "metadata": {},
     "output_type": "execute_result"
    }
   ],
   "source": [
    "# Convertendo o objeto para array\n",
    "arr_paciente = np.array(arr_paciente)\n",
    "\n",
    "arr_paciente"
   ]
  },
  {
   "cell_type": "code",
   "execution_count": 326,
   "id": "ed1817c7",
   "metadata": {},
   "outputs": [],
   "source": [
    "# Convertendo o shape do array numpy e realiando a previsão:\n",
    "pred_novo_paciente = melhor_modelo.predict(arr_paciente.reshape(1, -1))"
   ]
  },
  {
   "cell_type": "code",
   "execution_count": 328,
   "id": "270750cd",
   "metadata": {},
   "outputs": [
    {
     "name": "stdout",
     "output_type": "stream",
     "text": [
      "Este paciente não deve apresentar doença hepática!\n"
     ]
    }
   ],
   "source": [
    "# Verificando o valor e imprimindo o resultado final:\n",
    "\n",
    "if pred_novo_paciente == 1:\n",
    "    print('Este paciente deve apresentar doença hepática!')\n",
    "else:\n",
    "    print('Este paciente não deve apresentar doença hepática!')"
   ]
  }
 ],
 "metadata": {
  "kernelspec": {
   "display_name": "Python 3 (ipykernel)",
   "language": "python",
   "name": "python3"
  },
  "language_info": {
   "codemirror_mode": {
    "name": "ipython",
    "version": 3
   },
   "file_extension": ".py",
   "mimetype": "text/x-python",
   "name": "python",
   "nbconvert_exporter": "python",
   "pygments_lexer": "ipython3",
   "version": "3.9.16"
  }
 },
 "nbformat": 4,
 "nbformat_minor": 5
}
